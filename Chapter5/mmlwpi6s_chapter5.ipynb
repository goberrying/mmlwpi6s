{
  "cells": [
    {
      "cell_type": "code",
      "execution_count": 1,
      "metadata": {
        "colab": {
          "base_uri": "https://localhost:8080/"
        },
        "id": "9WBI7ORXku5C",
        "outputId": "788bc907-2801-4ed0-93e0-a86e31850dea"
      },
      "outputs": [
        {
          "output_type": "stream",
          "name": "stdout",
          "text": [
            "Cloning into 'mastering-ml-w-python-in-six-steps'...\n",
            "remote: Enumerating objects: 167, done.\u001b[K\n",
            "remote: Total 167 (delta 0), reused 0 (delta 0), pack-reused 167\u001b[K\n",
            "Receiving objects: 100% (167/167), 20.14 MiB | 16.81 MiB/s, done.\n",
            "Resolving deltas: 100% (1/1), done.\n",
            "Cloning into 'mmlwpi6s'...\n",
            "remote: Enumerating objects: 14, done.\u001b[K\n",
            "remote: Counting objects: 100% (14/14), done.\u001b[K\n",
            "remote: Compressing objects: 100% (9/9), done.\u001b[K\n",
            "remote: Total 14 (delta 0), reused 11 (delta 0), pack-reused 0\u001b[K\n",
            "Unpacking objects: 100% (14/14), done.\n"
          ]
        }
      ],
      "source": [
        "!git clone https://github.com/Apress/mastering-ml-w-python-in-six-steps.git\n",
        "!git clone https://github.com/goberrying/mmlwpi6s.git"
      ]
    },
    {
      "cell_type": "code",
      "execution_count": 2,
      "metadata": {
        "id": "Ixh37Uz7llB6"
      },
      "outputs": [],
      "source": [
        "!ln -s mastering-ml-w-python-in-six-steps/Chapter_5_Code/Code/Data Data\n",
        "!ln -s mastering-ml-w-python-in-six-steps/Chapter_5_Code/Code Code\n",
        "!cp -r mmlwpi6s/Chapter5/Data/jpg/* Data/jpg/"
      ]
    },
    {
      "cell_type": "markdown",
      "metadata": {
        "id": "V_O4gva9fqNB"
      },
      "source": [
        "コード 5.1"
      ]
    },
    {
      "cell_type": "code",
      "execution_count": 3,
      "metadata": {
        "colab": {
          "base_uri": "https://localhost:8080/"
        },
        "id": "3ynVyl0VojHp",
        "outputId": "e2c3f6ca-5586-416a-83d5-f6e703c43ce8"
      },
      "outputs": [
        {
          "output_type": "stream",
          "name": "stdout",
          "text": [
            "Reading package lists... Done\n",
            "Building dependency tree       \n",
            "Reading state information... Done\n",
            "The following package was automatically installed and is no longer required:\n",
            "  libnvidia-common-460\n",
            "Use 'apt autoremove' to remove it.\n",
            "The following NEW packages will be installed:\n",
            "  poppler-utils\n",
            "0 upgraded, 1 newly installed, 0 to remove and 19 not upgraded.\n",
            "Need to get 154 kB of archives.\n",
            "After this operation, 613 kB of additional disk space will be used.\n",
            "Get:1 http://archive.ubuntu.com/ubuntu bionic-updates/main amd64 poppler-utils amd64 0.62.0-2ubuntu2.12 [154 kB]\n",
            "Fetched 154 kB in 0s (1,869 kB/s)\n",
            "Selecting previously unselected package poppler-utils.\n",
            "(Reading database ... 155680 files and directories currently installed.)\n",
            "Preparing to unpack .../poppler-utils_0.62.0-2ubuntu2.12_amd64.deb ...\n",
            "Unpacking poppler-utils (0.62.0-2ubuntu2.12) ...\n",
            "Setting up poppler-utils (0.62.0-2ubuntu2.12) ...\n",
            "Processing triggers for man-db (2.8.3-2ubuntu0.1) ...\n",
            "Reading package lists... Done\n",
            "Building dependency tree       \n",
            "Reading state information... Done\n",
            "The following package was automatically installed and is no longer required:\n",
            "  libnvidia-common-460\n",
            "Use 'apt autoremove' to remove it.\n",
            "The following additional packages will be installed:\n",
            "  tesseract-ocr-eng tesseract-ocr-osd\n",
            "The following NEW packages will be installed:\n",
            "  tesseract-ocr tesseract-ocr-eng tesseract-ocr-osd\n",
            "0 upgraded, 3 newly installed, 0 to remove and 19 not upgraded.\n",
            "Need to get 4,795 kB of archives.\n",
            "After this operation, 15.8 MB of additional disk space will be used.\n",
            "Get:1 http://archive.ubuntu.com/ubuntu bionic/universe amd64 tesseract-ocr-eng all 4.00~git24-0e00fe6-1.2 [1,588 kB]\n",
            "Get:2 http://archive.ubuntu.com/ubuntu bionic/universe amd64 tesseract-ocr-osd all 4.00~git24-0e00fe6-1.2 [2,989 kB]\n",
            "Get:3 http://archive.ubuntu.com/ubuntu bionic/universe amd64 tesseract-ocr amd64 4.00~git2288-10f4998a-2 [218 kB]\n",
            "Fetched 4,795 kB in 0s (28.5 MB/s)\n",
            "Selecting previously unselected package tesseract-ocr-eng.\n",
            "(Reading database ... 155708 files and directories currently installed.)\n",
            "Preparing to unpack .../tesseract-ocr-eng_4.00~git24-0e00fe6-1.2_all.deb ...\n",
            "Unpacking tesseract-ocr-eng (4.00~git24-0e00fe6-1.2) ...\n",
            "Selecting previously unselected package tesseract-ocr-osd.\n",
            "Preparing to unpack .../tesseract-ocr-osd_4.00~git24-0e00fe6-1.2_all.deb ...\n",
            "Unpacking tesseract-ocr-osd (4.00~git24-0e00fe6-1.2) ...\n",
            "Selecting previously unselected package tesseract-ocr.\n",
            "Preparing to unpack .../tesseract-ocr_4.00~git2288-10f4998a-2_amd64.deb ...\n",
            "Unpacking tesseract-ocr (4.00~git2288-10f4998a-2) ...\n",
            "Setting up tesseract-ocr-osd (4.00~git24-0e00fe6-1.2) ...\n",
            "Setting up tesseract-ocr-eng (4.00~git24-0e00fe6-1.2) ...\n",
            "Setting up tesseract-ocr (4.00~git2288-10f4998a-2) ...\n",
            "Processing triggers for man-db (2.8.3-2ubuntu0.1) ...\n"
          ]
        }
      ],
      "source": [
        "!apt-get install poppler-utils\n",
        "!apt-get install tesseract-ocr"
      ]
    },
    {
      "cell_type": "code",
      "execution_count": 4,
      "metadata": {
        "colab": {
          "base_uri": "https://localhost:8080/",
          "height": 1000
        },
        "id": "Mh03c49_f4Tf",
        "outputId": "f2dc0e6c-6aa4-44f5-cc55-1fe877c9af4a"
      },
      "outputs": [
        {
          "output_type": "stream",
          "name": "stdout",
          "text": [
            "Looking in indexes: https://pypi.org/simple, https://us-python.pkg.dev/colab-wheels/public/simple/\n",
            "Collecting textract\n",
            "  Downloading textract-1.6.5-py3-none-any.whl (23 kB)\n",
            "Collecting pdf2image\n",
            "  Downloading pdf2image-1.16.0-py3-none-any.whl (10 kB)\n",
            "Collecting SpeechRecognition~=3.8.1\n",
            "  Downloading SpeechRecognition-3.8.1-py2.py3-none-any.whl (32.8 MB)\n",
            "\u001b[K     |████████████████████████████████| 32.8 MB 1.3 MB/s \n",
            "\u001b[?25hCollecting docx2txt~=0.8\n",
            "  Downloading docx2txt-0.8.tar.gz (2.8 kB)\n",
            "Collecting extract-msg<=0.29.*\n",
            "  Downloading extract_msg-0.28.7-py2.py3-none-any.whl (69 kB)\n",
            "\u001b[K     |████████████████████████████████| 69 kB 3.7 MB/s \n",
            "\u001b[?25hCollecting python-pptx~=0.6.18\n",
            "  Downloading python-pptx-0.6.21.tar.gz (10.1 MB)\n",
            "\u001b[K     |████████████████████████████████| 10.1 MB 57.2 MB/s \n",
            "\u001b[?25hCollecting xlrd~=1.2.0\n",
            "  Downloading xlrd-1.2.0-py2.py3-none-any.whl (103 kB)\n",
            "\u001b[K     |████████████████████████████████| 103 kB 44.3 MB/s \n",
            "\u001b[?25hRequirement already satisfied: chardet==3.* in /usr/local/lib/python3.7/dist-packages (from textract) (3.0.4)\n",
            "Collecting pdfminer.six==20191110\n",
            "  Downloading pdfminer.six-20191110-py2.py3-none-any.whl (5.6 MB)\n",
            "\u001b[K     |████████████████████████████████| 5.6 MB 28.9 MB/s \n",
            "\u001b[?25hCollecting beautifulsoup4~=4.8.0\n",
            "  Downloading beautifulsoup4-4.8.2-py3-none-any.whl (106 kB)\n",
            "\u001b[K     |████████████████████████████████| 106 kB 70.0 MB/s \n",
            "\u001b[?25hCollecting argcomplete~=1.10.0\n",
            "  Downloading argcomplete-1.10.3-py2.py3-none-any.whl (36 kB)\n",
            "Collecting six~=1.12.0\n",
            "  Downloading six-1.12.0-py2.py3-none-any.whl (10 kB)\n",
            "Requirement already satisfied: sortedcontainers in /usr/local/lib/python3.7/dist-packages (from pdfminer.six==20191110->textract) (2.4.0)\n",
            "Collecting pycryptodome\n",
            "  Downloading pycryptodome-3.15.0-cp35-abi3-manylinux2010_x86_64.whl (2.3 MB)\n",
            "\u001b[K     |████████████████████████████████| 2.3 MB 67.8 MB/s \n",
            "\u001b[?25hRequirement already satisfied: soupsieve>=1.2 in /usr/local/lib/python3.7/dist-packages (from beautifulsoup4~=4.8.0->textract) (2.3.2.post1)\n",
            "Collecting compressed-rtf>=1.0.6\n",
            "  Downloading compressed_rtf-1.0.6.tar.gz (5.8 kB)\n",
            "Collecting olefile>=0.46\n",
            "  Downloading olefile-0.46.zip (112 kB)\n",
            "\u001b[K     |████████████████████████████████| 112 kB 83.3 MB/s \n",
            "\u001b[?25hCollecting tzlocal>=2.1\n",
            "  Downloading tzlocal-4.2-py3-none-any.whl (19 kB)\n",
            "Collecting ebcdic>=1.1.1\n",
            "  Downloading ebcdic-1.1.1-py2.py3-none-any.whl (128 kB)\n",
            "\u001b[K     |████████████████████████████████| 128 kB 82.6 MB/s \n",
            "\u001b[?25hCollecting imapclient==2.1.0\n",
            "  Downloading IMAPClient-2.1.0-py2.py3-none-any.whl (73 kB)\n",
            "\u001b[K     |████████████████████████████████| 73 kB 3.2 MB/s \n",
            "\u001b[?25hRequirement already satisfied: lxml>=3.1.0 in /usr/local/lib/python3.7/dist-packages (from python-pptx~=0.6.18->textract) (4.9.1)\n",
            "Requirement already satisfied: Pillow>=3.3.2 in /usr/local/lib/python3.7/dist-packages (from python-pptx~=0.6.18->textract) (7.1.2)\n",
            "Collecting XlsxWriter>=0.5.7\n",
            "  Downloading XlsxWriter-3.0.3-py3-none-any.whl (149 kB)\n",
            "\u001b[K     |████████████████████████████████| 149 kB 82.2 MB/s \n",
            "\u001b[?25hCollecting pytz-deprecation-shim\n",
            "  Downloading pytz_deprecation_shim-0.1.0.post0-py2.py3-none-any.whl (15 kB)\n",
            "Collecting backports.zoneinfo\n",
            "  Downloading backports.zoneinfo-0.2.1-cp37-cp37m-manylinux1_x86_64.whl (70 kB)\n",
            "\u001b[K     |████████████████████████████████| 70 kB 8.9 MB/s \n",
            "\u001b[?25hCollecting tzdata\n",
            "  Downloading tzdata-2022.2-py2.py3-none-any.whl (336 kB)\n",
            "\u001b[K     |████████████████████████████████| 336 kB 75.1 MB/s \n",
            "\u001b[?25hBuilding wheels for collected packages: docx2txt, compressed-rtf, olefile, python-pptx\n",
            "  Building wheel for docx2txt (setup.py) ... \u001b[?25l\u001b[?25hdone\n",
            "  Created wheel for docx2txt: filename=docx2txt-0.8-py3-none-any.whl size=3980 sha256=640fb5b9a90adcf03d90ef3ffd52b21cc0729ab92518a19f8d8982364bd86b86\n",
            "  Stored in directory: /root/.cache/pip/wheels/b7/20/b2/473e3aea9a0c0d3e7b2f7bd81d06d0794fec12752733d1f3a8\n",
            "  Building wheel for compressed-rtf (setup.py) ... \u001b[?25l\u001b[?25hdone\n",
            "  Created wheel for compressed-rtf: filename=compressed_rtf-1.0.6-py3-none-any.whl size=6204 sha256=494e478b139018cb3dc4a3f888c5f804c4bff0c8767e2ae6455e07353f692262\n",
            "  Stored in directory: /root/.cache/pip/wheels/bb/33/88/88ceee84d1b74b391c086bc594d3fcf80800decfbd6e1ff565\n",
            "  Building wheel for olefile (setup.py) ... \u001b[?25l\u001b[?25hdone\n",
            "  Created wheel for olefile: filename=olefile-0.46-py2.py3-none-any.whl size=35432 sha256=d768f62e2925977e983d30d76f939d556bd9de3d50fcebd9d565230a08395bea\n",
            "  Stored in directory: /root/.cache/pip/wheels/84/53/e6/37d90ccb3ad1a3ca98d2b17107e9fda401a7c541ea1eb6a65a\n",
            "  Building wheel for python-pptx (setup.py) ... \u001b[?25l\u001b[?25hdone\n",
            "  Created wheel for python-pptx: filename=python_pptx-0.6.21-py3-none-any.whl size=470951 sha256=07af117fd7f0c7fd48d631c0484e60bb117d72aea0122053064b6429f9c0f319\n",
            "  Stored in directory: /root/.cache/pip/wheels/a7/ab/f4/52560d0d4bd4055e9261c6df6e51c7b56c2b23cca3dee811a3\n",
            "Successfully built docx2txt compressed-rtf olefile python-pptx\n",
            "Installing collected packages: tzdata, backports.zoneinfo, six, pytz-deprecation-shim, XlsxWriter, tzlocal, pycryptodome, olefile, imapclient, ebcdic, compressed-rtf, xlrd, SpeechRecognition, python-pptx, pdfminer.six, extract-msg, docx2txt, beautifulsoup4, argcomplete, textract, pdf2image\n",
            "  Attempting uninstall: six\n",
            "    Found existing installation: six 1.15.0\n",
            "    Uninstalling six-1.15.0:\n",
            "      Successfully uninstalled six-1.15.0\n",
            "  Attempting uninstall: tzlocal\n",
            "    Found existing installation: tzlocal 1.5.1\n",
            "    Uninstalling tzlocal-1.5.1:\n",
            "      Successfully uninstalled tzlocal-1.5.1\n",
            "  Attempting uninstall: xlrd\n",
            "    Found existing installation: xlrd 1.1.0\n",
            "    Uninstalling xlrd-1.1.0:\n",
            "      Successfully uninstalled xlrd-1.1.0\n",
            "  Attempting uninstall: beautifulsoup4\n",
            "    Found existing installation: beautifulsoup4 4.6.3\n",
            "    Uninstalling beautifulsoup4-4.6.3:\n",
            "      Successfully uninstalled beautifulsoup4-4.6.3\n",
            "\u001b[31mERROR: pip's dependency resolver does not currently take into account all the packages that are installed. This behaviour is the source of the following dependency conflicts.\n",
            "google-api-python-client 1.12.11 requires six<2dev,>=1.13.0, but you have six 1.12.0 which is incompatible.\n",
            "google-api-core 1.31.6 requires six>=1.13.0, but you have six 1.12.0 which is incompatible.\u001b[0m\n",
            "Successfully installed SpeechRecognition-3.8.1 XlsxWriter-3.0.3 argcomplete-1.10.3 backports.zoneinfo-0.2.1 beautifulsoup4-4.8.2 compressed-rtf-1.0.6 docx2txt-0.8 ebcdic-1.1.1 extract-msg-0.28.7 imapclient-2.1.0 olefile-0.46 pdf2image-1.16.0 pdfminer.six-20191110 pycryptodome-3.15.0 python-pptx-0.6.21 pytz-deprecation-shim-0.1.0.post0 six-1.12.0 textract-1.6.5 tzdata-2022.2 tzlocal-4.2 xlrd-1.2.0\n"
          ]
        },
        {
          "output_type": "display_data",
          "data": {
            "application/vnd.colab-display-data+json": {
              "pip_warning": {
                "packages": [
                  "six"
                ]
              }
            }
          },
          "metadata": {}
        }
      ],
      "source": [
        "!pip install textract pdf2image"
      ]
    },
    {
      "cell_type": "code",
      "execution_count": 5,
      "metadata": {
        "colab": {
          "base_uri": "https://localhost:8080/"
        },
        "id": "BIeADcbfbJP7",
        "outputId": "fcaf04b5-ee62-4001-d8b7-3d744f23347b"
      },
      "outputs": [
        {
          "output_type": "stream",
          "name": "stdout",
          "text": [
            "Reading package lists... Done\n",
            "Building dependency tree       \n",
            "Reading state information... Done\n",
            "The following package was automatically installed and is no longer required:\n",
            "  libnvidia-common-460\n",
            "Use 'apt autoremove' to remove it.\n",
            "The following NEW packages will be installed:\n",
            "  tesseract-ocr-jpn tesseract-ocr-jpn-vert\n",
            "0 upgraded, 2 newly installed, 0 to remove and 19 not upgraded.\n",
            "Need to get 3,277 kB of archives.\n",
            "After this operation, 5,539 kB of additional disk space will be used.\n",
            "Get:1 http://archive.ubuntu.com/ubuntu bionic/universe amd64 tesseract-ocr-jpn all 4.00~git24-0e00fe6-1.2 [1,389 kB]\n",
            "Get:2 http://archive.ubuntu.com/ubuntu bionic/universe amd64 tesseract-ocr-jpn-vert all 4.00~git24-0e00fe6-1.2 [1,888 kB]\n",
            "Fetched 3,277 kB in 0s (25.3 MB/s)\n",
            "Selecting previously unselected package tesseract-ocr-jpn.\n",
            "(Reading database ... 155755 files and directories currently installed.)\n",
            "Preparing to unpack .../tesseract-ocr-jpn_4.00~git24-0e00fe6-1.2_all.deb ...\n",
            "Unpacking tesseract-ocr-jpn (4.00~git24-0e00fe6-1.2) ...\n",
            "Selecting previously unselected package tesseract-ocr-jpn-vert.\n",
            "Preparing to unpack .../tesseract-ocr-jpn-vert_4.00~git24-0e00fe6-1.2_all.deb ...\n",
            "Unpacking tesseract-ocr-jpn-vert (4.00~git24-0e00fe6-1.2) ...\n",
            "Setting up tesseract-ocr-jpn (4.00~git24-0e00fe6-1.2) ...\n",
            "Setting up tesseract-ocr-jpn-vert (4.00~git24-0e00fe6-1.2) ...\n"
          ]
        }
      ],
      "source": [
        "!apt install tesseract-ocr-jpn  tesseract-ocr-jpn-vert"
      ]
    },
    {
      "cell_type": "code",
      "execution_count": 6,
      "metadata": {
        "id": "0YgQAfrAft2G"
      },
      "outputs": [],
      "source": [
        "# You can read/learn more about latest updates about textractについての # 最新の更新について，公式文書サイトでより学ぶことができる:\n",
        "# http://textract.readthedocs.io/en/latest/\n",
        "import textract\n",
        "# 一般的なpdfからテキストを抽出\n",
        "text = textract.process('Data/pdf/raw_text.pdf', language='eng')\n",
        "# 2段組のpdfからテキストを抽出\n",
        "text = textract.process('Data/pdf/two_column.pdf', language='eng')\n",
        "# スキャンしたテキスト pdfからテキストを抽出\n",
        "text = textract.process('Data/pdf/ocr_text.pdf', method='tesseract', language='eng')\n",
        "# jpgからテキストを抽出\n",
        "text = textract.process('Data/jpg/raw_text.jpg', method='tesseract', language='eng')\n",
        "# 音声ファイルからテキストを抽出\n",
        "text = textract.process('Data/wav/raw_text.wav', language='eng')\n",
        "# jpgから日本語テキストを抽出\n",
        "text = textract.process('Data/jpg/japanese_text.jpg', method='tesseract', language='jpn')"
      ]
    },
    {
      "cell_type": "code",
      "execution_count": 7,
      "metadata": {
        "colab": {
          "base_uri": "https://localhost:8080/"
        },
        "id": "cSh6ZFkSf6Cx",
        "outputId": "8170b1cc-2d02-45b6-f14d-439539508b31"
      },
      "outputs": [
        {
          "output_type": "stream",
          "name": "stdout",
          "text": [
            "ハッピー\n",
            "\f\n"
          ]
        }
      ],
      "source": [
        "print(text.decode())"
      ]
    },
    {
      "cell_type": "code",
      "execution_count": 8,
      "metadata": {
        "colab": {
          "base_uri": "https://localhost:8080/"
        },
        "id": "-Pv_8IGOBnrT",
        "outputId": "54acf448-2541-49b0-c2e6-f662310f12e6"
      },
      "outputs": [
        {
          "output_type": "stream",
          "name": "stdout",
          "text": [
            "Name: tweepy\n",
            "Version: 3.10.0\n",
            "Summary: Twitter library for Python\n",
            "Home-page: https://www.tweepy.org/\n",
            "Author: Joshua Roesslein\n",
            "Author-email: tweepy@googlegroups.com\n",
            "License: MIT\n",
            "Location: /usr/local/lib/python3.7/dist-packages\n",
            "Requires: requests, requests-oauthlib, six\n",
            "Required-by: \n"
          ]
        }
      ],
      "source": [
        "!pip show tweepy"
      ]
    },
    {
      "cell_type": "code",
      "execution_count": 9,
      "metadata": {
        "colab": {
          "base_uri": "https://localhost:8080/"
        },
        "id": "7z9qdMhW2G2e",
        "outputId": "c076f14f-5522-4a7f-c7c8-acfb6ea6253c"
      },
      "outputs": [
        {
          "output_type": "stream",
          "name": "stdout",
          "text": [
            "Looking in indexes: https://pypi.org/simple, https://us-python.pkg.dev/colab-wheels/public/simple/\n",
            "Collecting tweepy==4.10.0\n",
            "  Downloading tweepy-4.10.0-py3-none-any.whl (94 kB)\n",
            "\u001b[K     |████████████████████████████████| 94 kB 1.8 MB/s \n",
            "\u001b[?25hCollecting requests<3,>=2.27.0\n",
            "  Downloading requests-2.28.1-py3-none-any.whl (62 kB)\n",
            "\u001b[K     |████████████████████████████████| 62 kB 1.8 MB/s \n",
            "\u001b[?25hRequirement already satisfied: requests-oauthlib<2,>=1.2.0 in /usr/local/lib/python3.7/dist-packages (from tweepy==4.10.0) (1.3.1)\n",
            "Requirement already satisfied: oauthlib<4,>=3.2.0 in /usr/local/lib/python3.7/dist-packages (from tweepy==4.10.0) (3.2.0)\n",
            "Requirement already satisfied: idna<4,>=2.5 in /usr/local/lib/python3.7/dist-packages (from requests<3,>=2.27.0->tweepy==4.10.0) (2.10)\n",
            "Requirement already satisfied: urllib3<1.27,>=1.21.1 in /usr/local/lib/python3.7/dist-packages (from requests<3,>=2.27.0->tweepy==4.10.0) (1.24.3)\n",
            "Requirement already satisfied: charset-normalizer<3,>=2 in /usr/local/lib/python3.7/dist-packages (from requests<3,>=2.27.0->tweepy==4.10.0) (2.1.0)\n",
            "Requirement already satisfied: certifi>=2017.4.17 in /usr/local/lib/python3.7/dist-packages (from requests<3,>=2.27.0->tweepy==4.10.0) (2022.6.15)\n",
            "Installing collected packages: requests, tweepy\n",
            "  Attempting uninstall: requests\n",
            "    Found existing installation: requests 2.23.0\n",
            "    Uninstalling requests-2.23.0:\n",
            "      Successfully uninstalled requests-2.23.0\n",
            "  Attempting uninstall: tweepy\n",
            "    Found existing installation: tweepy 3.10.0\n",
            "    Uninstalling tweepy-3.10.0:\n",
            "      Successfully uninstalled tweepy-3.10.0\n",
            "\u001b[31mERROR: pip's dependency resolver does not currently take into account all the packages that are installed. This behaviour is the source of the following dependency conflicts.\n",
            "google-api-core 1.31.6 requires six>=1.13.0, but you have six 1.12.0 which is incompatible.\u001b[0m\n",
            "Successfully installed requests-2.28.1 tweepy-4.10.0\n"
          ]
        }
      ],
      "source": [
        "!pip install tweepy==\"4.10.0\""
      ]
    },
    {
      "cell_type": "markdown",
      "metadata": {
        "id": "qaWtbS6-5aR0"
      },
      "source": [
        "Google Colaboratoryで実行時、Tweepyのバージョンが更新した場合にはここでランタイムを再起動する"
      ]
    },
    {
      "cell_type": "code",
      "execution_count": 10,
      "metadata": {
        "colab": {
          "base_uri": "https://localhost:8080/"
        },
        "id": "UWvdLCII_8KI",
        "outputId": "1f41c6ee-c85d-4b51-f12d-d01fda35a214"
      },
      "outputs": [
        {
          "output_type": "stream",
          "name": "stdout",
          "text": [
            "Name: tweepy\n",
            "Version: 4.10.0\n",
            "Summary: Twitter library for Python\n",
            "Home-page: https://www.tweepy.org/\n",
            "Author: Joshua Roesslein\n",
            "Author-email: tweepy@googlegroups.com\n",
            "License: MIT\n",
            "Location: /usr/local/lib/python3.7/dist-packages\n",
            "Requires: requests, oauthlib, requests-oauthlib\n",
            "Required-by: \n"
          ]
        }
      ],
      "source": [
        "!pip show tweepy"
      ]
    },
    {
      "cell_type": "markdown",
      "metadata": {
        "id": "06hHf8kM51pf"
      },
      "source": [
        "コード 5.2 Twitter 認証 (Tweepy 4.10.0 & Twitter API 2.0)"
      ]
    },
    {
      "cell_type": "code",
      "execution_count": 11,
      "metadata": {
        "id": "IEGRMdCyzURb"
      },
      "outputs": [],
      "source": [
        "# 必要なメソッドをtweepyライブラリからインポート\n",
        "import tweepy\n",
        "from tweepy import OAuthHandler\n",
        "from tweepy import Stream\n",
        "# アクセス情報を入力\n",
        "access_token = "",
        "access_token_secret = "",
        "bearer_token = "",
        "consumer_key = "",
        "consumer_secret = "",
        "\n",
        "# 接続を確立\n",
        "client = tweepy.Client(bearer_token, consumer_key, consumer_secret, access_token, access_token_secret)"
      ]
    },
    {
      "cell_type": "code",
      "execution_count": 12,
      "metadata": {
        "colab": {
          "base_uri": "https://localhost:8080/"
        },
        "id": "G7C75Ur24hEi",
        "outputId": "f80ba01c-cd0f-4372-bb72-30558f67f0ca"
      },
      "outputs": [
        {
          "output_type": "stream",
          "name": "stdout",
          "text": [
            "Response(data=[<Tweet id=1558998667440553984 text='@EacoinEnglish I think Huawei’s camera is better than iPhone.'>, <Tweet id=1558998664416481280 text='RT @donnybelindax: no 🥺 it’s kilig when they take pics of each other and the fact that it’s taken in a film camera (?) it’s for their memor…'>, <Tweet id=1558998656254373889 text='RT @Raimireyes_: document your life!! journal, start a video diary, carry an old digital camera with you, scrapbook, write down moments tha…'>, <Tweet id=1558998655683776513 text='RT @dosanism: #10 stimming\\n\\neveryone stims to a degree, but ive seen dosan do it pretty often on camera. also, responding to stress/anger b…'>, <Tweet id=1558998654488543232 text=\"RT @taengmother: Taeyeon's gaze on the camera probably looking at Tiffany and the way her world seemed to stop and her subtle smile. \\n\\nI DO…\">, <Tweet id=1558998653586522113 text='RT @AdvoBarryRoux: Leave the camera at home when you helping the poor'>, <Tweet id=1558998648880504833 text='@JoeSteelerFan @SenWhitehouse Or a real investigation of the corrupt Clinton’s, Brandon’s, Swallowell, Schitthead, Pelosi’s, Always on Camera, and the congresswoman who married her brother…'>, <Tweet id=1558998648431808513 text='Leek Brook Leek Brook River Monitoring Camera (ST13 7AZ) https://t.co/faQovLt8nX'>, <Tweet id=1558998648096264192 text='RT @nojumper: Doctor Caught On Camera Poisoning Her Husband With Drano https://t.co/qkHzbbERZE'>, <Tweet id=1558998645428600836 text=\"@CasaViejaLodge Cool picture.  Great timing, I wish I had that kind of timing, trying to take a picture of puffin's in Alaska.  Those little bastards are quicker than the camera I had.\\nSo, I am guessing you have a pretty good camera.\\nRegardless, great picture.\">], includes={'users': [<User id=1023562738180677632 name=Advizormcpe1\n",
            "web:\n",
            "advizormcpe.net username=ExtAlt101>, <User id=1310011920565460998 name=Angee username=DonBelle_Bestie>, <User id=1045946082100834304 name=kek batik username=intanschumacher>, <User id=1307118645244563459 name=sir lost⁷ ★ semi ia username=lostsplace>, <User id=1534120829507686400 name=TIFFANY | | FOREVER1 username=sone271989>, <User id=1511436078540021768 name=ghost username=Tshepi_mkhel>, <User id=1478561398280101890 name=Cletus username=Cletus88061698>, <User id=619865696 name=Vision Link username=vision_link>, <User id=1374407646229393411 name=Sneezy username=peptoabysmal_>, <User id=1505235990151110658 name=Mark Bolen username=bolenmark541>]}, errors=[], meta={'newest_id': '1558998667440553984', 'oldest_id': '1558998645428600836', 'result_count': 10, 'next_token': 'b26v89c19zqg8o3fpz5nhujcifofm6skipjoux2btsvb1'})\n"
          ]
        }
      ],
      "source": [
        "# iphone7, cameraという語を含む最新の 10ツイートを取得\n",
        "fetched_tweets = client.search_recent_tweets(query='(\"iPhone 13\" OR \"iPhone13\" OR \"camera\") lang:en', max_results=10,\n",
        "                                             expansions=['author_id', 'geo.place_id'],\n",
        "                                             tweet_fields=['context_annotations', 'public_metrics', 'author_id','created_at','text','source','lang','geo'],\n",
        "                                             place_fields=['full_name', 'id', 'country', 'country_code', 'geo', 'name', 'place_type'],\n",
        "                                             user_fields=[\"name\", \"username\", \"location\", \"verified\", \"description\"])\n",
        "print(fetched_tweets)"
      ]
    },
    {
      "cell_type": "code",
      "execution_count": 13,
      "metadata": {
        "colab": {
          "base_uri": "https://localhost:8080/"
        },
        "id": "Tud11q5cAeCY",
        "outputId": "d45347fe-ff13-451c-aa09-8e654ddca837"
      },
      "outputs": [
        {
          "output_type": "stream",
          "name": "stdout",
          "text": [
            "Tweet ID: 1558998667440553984\n",
            "Tweet Text: @EacoinEnglish I think Huawei’s camera is better than iPhone.\n",
            "Annotations: [{'domain': {'id': '47', 'name': 'Brand', 'description': 'Brands and Companies'}, 'entity': {'id': '10026364281', 'name': 'Apple'}}, {'domain': {'id': '131', 'name': 'Unified Twitter Taxonomy', 'description': 'A taxonomy view into the Semantic Core knowledge graph'}, 'entity': {'id': '10026364281', 'name': 'Apple'}}, {'domain': {'id': '47', 'name': 'Brand', 'description': 'Brands and Companies'}, 'entity': {'id': '10026364281', 'name': 'Apple'}}, {'domain': {'id': '48', 'name': 'Product', 'description': 'Products created by Brands.  Examples: Ford Explorer, Apple iPhone.'}, 'entity': {'id': '10024011738', 'name': 'Apple - iPhone'}}, {'domain': {'id': '30', 'name': 'Entities [Entity Service]', 'description': 'Entity Service top level domain, every item that is in Entity Service should be in this domain'}, 'entity': {'id': '848920371311001600', 'name': 'Technology', 'description': 'Technology and computing'}}, {'domain': {'id': '66', 'name': 'Interests and Hobbies Category', 'description': 'A grouping of interests and hobbies entities, like Novelty Food or Destinations'}, 'entity': {'id': '848920700073123840', 'name': 'Cell Phones', 'description': 'Cell phones'}}, {'domain': {'id': '30', 'name': 'Entities [Entity Service]', 'description': 'Entity Service top level domain, every item that is in Entity Service should be in this domain'}, 'entity': {'id': '848985956778561538', 'name': 'Mobile', 'description': 'Mobile'}}]\n",
            "Author ID: 1023562738180677632\n",
            "Includes: Fukuoka City, Fukuoka, Kyushu.\n",
            "\n",
            "\n",
            "Tweet ID: 1558998664416481280\n",
            "Tweet Text: RT @donnybelindax: no 🥺 it’s kilig when they take pics of each other and the fact that it’s taken in a film camera (?) it’s for their memor…\n",
            "Annotations: []\n",
            "Author ID: 1310011920565460998\n",
            "Includes: DONBELLEmpire\n",
            "\n",
            "\n",
            "Tweet ID: 1558998656254373889\n",
            "Tweet Text: RT @Raimireyes_: document your life!! journal, start a video diary, carry an old digital camera with you, scrapbook, write down moments tha…\n",
            "Annotations: [{'domain': {'id': '65', 'name': 'Interests and Hobbies Vertical', 'description': 'Top level interests and hobbies groupings, like Food or Travel'}, 'entity': {'id': '847868793636372480', 'name': 'Arts and Crafts', 'description': 'Arts and Crafts'}}, {'domain': {'id': '66', 'name': 'Interests and Hobbies Category', 'description': 'A grouping of interests and hobbies entities, like Novelty Food or Destinations'}, 'entity': {'id': '847869843986497537', 'name': 'Scrapbooking', 'description': 'Scrapbooking'}}, {'domain': {'id': '131', 'name': 'Unified Twitter Taxonomy', 'description': 'A taxonomy view into the Semantic Core knowledge graph'}, 'entity': {'id': '847868793636372480', 'name': 'Arts and Crafts', 'description': 'Arts and Crafts'}}, {'domain': {'id': '131', 'name': 'Unified Twitter Taxonomy', 'description': 'A taxonomy view into the Semantic Core knowledge graph'}, 'entity': {'id': '847869843986497537', 'name': 'Scrapbooking', 'description': 'Scrapbooking'}}, {'domain': {'id': '131', 'name': 'Unified Twitter Taxonomy', 'description': 'A taxonomy view into the Semantic Core knowledge graph'}, 'entity': {'id': '1265660441822281728', 'name': 'Art'}}, {'domain': {'id': '131', 'name': 'Unified Twitter Taxonomy', 'description': 'A taxonomy view into the Semantic Core knowledge graph'}, 'entity': {'id': '1280550787207147521', 'name': 'Arts & culture'}}]\n",
            "Author ID: 1045946082100834304\n",
            "Includes: None\n",
            "\n",
            "\n",
            "Tweet ID: 1558998655683776513\n",
            "Tweet Text: RT @dosanism: #10 stimming\n",
            "\n",
            "everyone stims to a degree, but ive seen dosan do it pretty often on camera. also, responding to stress/anger b…\n",
            "Annotations: []\n",
            "Author ID: 1307118645244563459\n",
            "Includes: Wings/YNWA - any + neos\n",
            "\n",
            "\n",
            "Tweet ID: 1558998654488543232\n",
            "Tweet Text: RT @taengmother: Taeyeon's gaze on the camera probably looking at Tiffany and the way her world seemed to stop and her subtle smile. \n",
            "\n",
            "I DO…\n",
            "Annotations: [{'domain': {'id': '10', 'name': 'Person', 'description': 'Named people in the world like Nelson Mandela'}, 'entity': {'id': '894975878492438528', 'name': 'TAEYEON', 'description': \"Taeyeon (태연) - member of Girls' Generation & solo artist\"}}, {'domain': {'id': '10', 'name': 'Person', 'description': 'Named people in the world like Nelson Mandela'}, 'entity': {'id': '894976265576263681', 'name': 'Tiffany Young', 'description': \"Tiffany (티파니) - member of Girls' Generation & solo artist\"}}, {'domain': {'id': '54', 'name': 'Musician', 'description': 'A musician in the world, like Adele or Bob Dylan'}, 'entity': {'id': '894975878492438528', 'name': 'TAEYEON', 'description': \"Taeyeon (태연) - member of Girls' Generation & solo artist\"}}, {'domain': {'id': '54', 'name': 'Musician', 'description': 'A musician in the world, like Adele or Bob Dylan'}, 'entity': {'id': '894976265576263681', 'name': 'Tiffany Young', 'description': \"Tiffany (티파니) - member of Girls' Generation & solo artist\"}}, {'domain': {'id': '55', 'name': 'Music Genre', 'description': 'A category for a musical style, like Pop, Rock, or Rap'}, 'entity': {'id': '888105153038958593', 'name': 'K-pop', 'description': 'K-Pop'}}, {'domain': {'id': '131', 'name': 'Unified Twitter Taxonomy', 'description': 'A taxonomy view into the Semantic Core knowledge graph'}, 'entity': {'id': '847524658970636288', 'name': 'Music', 'description': 'Music and radio'}}, {'domain': {'id': '131', 'name': 'Unified Twitter Taxonomy', 'description': 'A taxonomy view into the Semantic Core knowledge graph'}, 'entity': {'id': '888105153038958593', 'name': 'K-pop', 'description': 'K-Pop'}}, {'domain': {'id': '131', 'name': 'Unified Twitter Taxonomy', 'description': 'A taxonomy view into the Semantic Core knowledge graph'}, 'entity': {'id': '894975878492438528', 'name': 'TAEYEON', 'description': \"Taeyeon (태연) - member of Girls' Generation & solo artist\"}}, {'domain': {'id': '131', 'name': 'Unified Twitter Taxonomy', 'description': 'A taxonomy view into the Semantic Core knowledge graph'}, 'entity': {'id': '894976265576263681', 'name': 'Tiffany Young', 'description': \"Tiffany (티파니) - member of Girls' Generation & solo artist\"}}]\n",
            "Author ID: 1534120829507686400\n",
            "Includes: None\n",
            "\n",
            "\n",
            "Tweet ID: 1558998653586522113\n",
            "Tweet Text: RT @AdvoBarryRoux: Leave the camera at home when you helping the poor\n",
            "Annotations: []\n",
            "Author ID: 1511436078540021768\n",
            "Includes: None\n",
            "\n",
            "\n",
            "Tweet ID: 1558998648880504833\n",
            "Tweet Text: @JoeSteelerFan @SenWhitehouse Or a real investigation of the corrupt Clinton’s, Brandon’s, Swallowell, Schitthead, Pelosi’s, Always on Camera, and the congresswoman who married her brother…\n",
            "Annotations: [{'domain': {'id': '10', 'name': 'Person', 'description': 'Named people in the world like Nelson Mandela'}, 'entity': {'id': '892819787197239296', 'name': 'Sheldon Whitehouse', 'description': 'US Senator Sheldon Whitehouse (RI)'}}, {'domain': {'id': '35', 'name': 'Politician', 'description': 'Politicians in the world, like Joe Biden'}, 'entity': {'id': '892819787197239296', 'name': 'Sheldon Whitehouse', 'description': 'US Senator Sheldon Whitehouse (RI)'}}, {'domain': {'id': '65', 'name': 'Interests and Hobbies Vertical', 'description': 'Top level interests and hobbies groupings, like Food or Travel'}, 'entity': {'id': '847896364256067584', 'name': 'Society', 'description': 'Society'}}, {'domain': {'id': '66', 'name': 'Interests and Hobbies Category', 'description': 'A grouping of interests and hobbies entities, like Novelty Food or Destinations'}, 'entity': {'id': '847896538105782272', 'name': 'Marriage', 'description': 'Marriage'}}, {'domain': {'id': '131', 'name': 'Unified Twitter Taxonomy', 'description': 'A taxonomy view into the Semantic Core knowledge graph'}, 'entity': {'id': '847878884917886977', 'name': 'Politics', 'description': 'Politics'}}, {'domain': {'id': '131', 'name': 'Unified Twitter Taxonomy', 'description': 'A taxonomy view into the Semantic Core knowledge graph'}, 'entity': {'id': '892819787197239296', 'name': 'Sheldon Whitehouse', 'description': 'US Senator Sheldon Whitehouse (RI)'}}, {'domain': {'id': '131', 'name': 'Unified Twitter Taxonomy', 'description': 'A taxonomy view into the Semantic Core knowledge graph'}, 'entity': {'id': '1070032753834438656', 'name': 'Political figures', 'description': 'Politician'}}]\n",
            "Author ID: 1478561398280101890\n",
            "Includes: None\n",
            "\n",
            "\n",
            "Tweet ID: 1558998648431808513\n",
            "Tweet Text: Leek Brook Leek Brook River Monitoring Camera (ST13 7AZ) https://t.co/faQovLt8nX\n",
            "Annotations: []\n",
            "Author ID: 619865696\n",
            "Includes: UK\n",
            "\n",
            "\n",
            "Tweet ID: 1558998648096264192\n",
            "Tweet Text: RT @nojumper: Doctor Caught On Camera Poisoning Her Husband With Drano https://t.co/qkHzbbERZE\n",
            "Annotations: []\n",
            "Author ID: 1374407646229393411\n",
            "Includes: new kensington, philadelphia\n",
            "\n",
            "\n",
            "Tweet ID: 1558998645428600836\n",
            "Tweet Text: @CasaViejaLodge Cool picture.  Great timing, I wish I had that kind of timing, trying to take a picture of puffin's in Alaska.  Those little bastards are quicker than the camera I had.\n",
            "So, I am guessing you have a pretty good camera.\n",
            "Regardless, great picture.\n",
            "Annotations: [{'domain': {'id': '159', 'name': 'States', 'description': 'States, provinces, or prefectures, like California or Fukushima Prefecture'}, 'entity': {'id': '856868825404391424', 'name': 'Alaska', 'description': 'Alaska'}}]\n",
            "Author ID: 1505235990151110658\n",
            "Includes: Missouri\n",
            "\n",
            "\n",
            "[<User id=1023562738180677632 name=Advizormcpe1\n",
            "web:\n",
            "advizormcpe.net username=ExtAlt101>, <User id=1310011920565460998 name=Angee username=DonBelle_Bestie>, <User id=1045946082100834304 name=kek batik username=intanschumacher>, <User id=1307118645244563459 name=sir lost⁷ ★ semi ia username=lostsplace>, <User id=1534120829507686400 name=TIFFANY | | FOREVER1 username=sone271989>, <User id=1511436078540021768 name=ghost username=Tshepi_mkhel>, <User id=1478561398280101890 name=Cletus username=Cletus88061698>, <User id=619865696 name=Vision Link username=vision_link>, <User id=1374407646229393411 name=Sneezy username=peptoabysmal_>, <User id=1505235990151110658 name=Mark Bolen username=bolenmark541>]\n"
          ]
        }
      ],
      "source": [
        "# ツイートのテキストを出力\n",
        "for index, tweet in enumerate(fetched_tweets.data):\n",
        "    print( \"Tweet ID:\"  , tweet.id)\n",
        "    print( \"Tweet Text:\"  , tweet.text)\n",
        "    print( \"Annotations:\", tweet.context_annotations)\n",
        "    print( \"Author ID:\", tweet.author_id)\n",
        "    print( \"Includes:\", fetched_tweets.includes['users'][index].location)\n",
        "    print(\"\\n\")\n",
        "print(fetched_tweets.includes['users'])"
      ]
    },
    {
      "cell_type": "code",
      "execution_count": 14,
      "metadata": {
        "colab": {
          "base_uri": "https://localhost:8080/"
        },
        "id": "8H2rwi6HB3X-",
        "outputId": "27c8d6f7-7d52-4e93-8c1a-810196de27d5"
      },
      "outputs": [
        {
          "output_type": "stream",
          "name": "stdout",
          "text": [
            "[<User id=1023562738180677632 name=Advizormcpe1\n",
            "web:\n",
            "advizormcpe.net username=ExtAlt101>, <User id=1310011920565460998 name=Angee username=DonBelle_Bestie>, <User id=1045946082100834304 name=kek batik username=intanschumacher>, <User id=1307118645244563459 name=sir lost⁷ ★ semi ia username=lostsplace>, <User id=1534120829507686400 name=TIFFANY | | FOREVER1 username=sone271989>, <User id=1511436078540021768 name=ghost username=Tshepi_mkhel>, <User id=1478561398280101890 name=Cletus username=Cletus88061698>, <User id=619865696 name=Vision Link username=vision_link>, <User id=1374407646229393411 name=Sneezy username=peptoabysmal_>, <User id=1505235990151110658 name=Mark Bolen username=bolenmark541>]\n",
            "                    id                                               text  \\\n",
            "0  1558998667440553984  @EacoinEnglish I think Huawei’s camera is bett...   \n",
            "1  1558998664416481280  RT @donnybelindax: no 🥺 it’s kilig when they t...   \n",
            "2  1558998656254373889  RT @Raimireyes_: document your life!! journal,...   \n",
            "3  1558998655683776513  RT @dosanism: #10 stimming\\n\\neveryone stims t...   \n",
            "4  1558998654488543232  RT @taengmother: Taeyeon's gaze on the camera ...   \n",
            "5  1558998653586522113  RT @AdvoBarryRoux: Leave the camera at home wh...   \n",
            "6  1558998648880504833  @JoeSteelerFan @SenWhitehouse Or a real invest...   \n",
            "7  1558998648431808513  Leek Brook Leek Brook River Monitoring Camera ...   \n",
            "8  1558998648096264192  RT @nojumper: Doctor Caught On Camera Poisonin...   \n",
            "9  1558998645428600836  @CasaViejaLodge Cool picture.  Great timing, I...   \n",
            "\n",
            "                            place                                 name  \n",
            "0  Fukuoka City, Fukuoka, Kyushu.  Advizormcpe1\\nweb:\\nadvizormcpe.net  \n",
            "1                   DONBELLEmpire                                Angee  \n",
            "2                            None                            kek batik  \n",
            "3         Wings/YNWA - any + neos                  sir lost⁷ ★ semi ia  \n",
            "4                            None                 TIFFANY | | FOREVER1  \n",
            "5                            None                                ghost  \n",
            "6                            None                               Cletus  \n",
            "7                              UK                          Vision Link  \n",
            "8    new kensington, philadelphia                               Sneezy  \n",
            "9                        Missouri                           Mark Bolen  \n"
          ]
        }
      ],
      "source": [
        "import pandas as pd\n",
        "# function to save required basic tweets info to a dataframe\n",
        "def populate_tweet_df(fetched_tweets):\n",
        "    tweets = fetched_tweets.data\n",
        "    users= fetched_tweets.includes['users']\n",
        "    print(users)\n",
        "\n",
        "    #Create an empty dataframe\n",
        "    df = pd.DataFrame()\n",
        "    df['id'] = list(map(lambda tweet: tweet.id, tweets))\n",
        "    df['text'] = list(map(lambda tweet: tweet.text, tweets))\n",
        "    df['place'] = list(map(lambda user: user.location, users))\n",
        "    df['name'] = list(map(lambda user: user.name, users))\n",
        "    return df\n",
        "df = populate_tweet_df(fetched_tweets)\n",
        "print(df.head(10))"
      ]
    },
    {
      "cell_type": "markdown",
      "metadata": {
        "id": "jCYtqgWh5G-t"
      },
      "source": [
        "コード 5.4 アカウント名に基づいてツイートを抽出するコード例 (Twitter API 2.0)"
      ]
    },
    {
      "cell_type": "code",
      "execution_count": 15,
      "metadata": {
        "colab": {
          "base_uri": "https://localhost:8080/"
        },
        "id": "2Exhr-Bm1LSB",
        "outputId": "6b249394-580a-4296-fcde-fb122faa9219"
      },
      "outputs": [
        {
          "output_type": "stream",
          "name": "stdout",
          "text": [
            "Tweet ID: 1558961043074056192\n",
            "Tweet Text: RT @SaraxDiaries: She Is The Best Of The Best #SaraAliKhan https://t.co/e6aodlBBKw\n",
            "Annotations: [{'domain': {'id': '10', 'name': 'Person', 'description': 'Named people in the world like Nelson Mandela'}, 'entity': {'id': '1027612631874465792', 'name': 'Sara Ali Khan', 'description': 'Sara Ali Khan'}}, {'domain': {'id': '56', 'name': 'Actor', 'description': 'An actor or actress in the world, like Kate Winslet or Leonardo DiCaprio'}, 'entity': {'id': '1027612631874465792', 'name': 'Sara Ali Khan', 'description': 'Sara Ali Khan'}}, {'domain': {'id': '131', 'name': 'Unified Twitter Taxonomy', 'description': 'A taxonomy view into the Semantic Core knowledge graph'}, 'entity': {'id': '1027612631874465792', 'name': 'Sara Ali Khan', 'description': 'Sara Ali Khan'}}]\n",
            "Author ID: 1393085409022808068\n",
            "\n",
            "\n",
            "Tweet ID: 1558740238947606528\n",
            "Tweet Text: https://t.co/IK48DFILjd\n",
            "Annotations: []\n",
            "Author ID: 1393085409022808068\n",
            "\n",
            "\n",
            "Tweet ID: 1558601735446609920\n",
            "Tweet Text: RT @wowinteresting8: The fastest way to empty a bottle.  🍾 https://t.co/rv5ZefpWRN\n",
            "Annotations: []\n",
            "Author ID: 1393085409022808068\n",
            "\n",
            "\n",
            "Tweet ID: 1558600439289229313\n",
            "Tweet Text: https://t.co/PrPp6fwXIB\n",
            "Annotations: []\n",
            "Author ID: 1393085409022808068\n",
            "\n",
            "\n",
            "Tweet ID: 1558600382154440704\n",
            "Tweet Text: https://t.co/IDcq26HkUO\n",
            "Annotations: []\n",
            "Author ID: 1393085409022808068\n",
            "\n",
            "\n",
            "Tweet ID: 1558599827088633856\n",
            "Tweet Text: https://t.co/p9ISkSpdXI\n",
            "Annotations: []\n",
            "Author ID: 1393085409022808068\n",
            "\n",
            "\n",
            "Tweet ID: 1558599782834540544\n",
            "Tweet Text: https://t.co/5andvh8Ro2\n",
            "Annotations: []\n",
            "Author ID: 1393085409022808068\n",
            "\n",
            "\n",
            "Tweet ID: 1557863392618041344\n",
            "Tweet Text: RT @InterestingsAsF: Understanding Topology https://t.co/9YDR0H41vV\n",
            "Annotations: []\n",
            "Author ID: 1393085409022808068\n",
            "\n",
            "\n",
            "Tweet ID: 1557862639660720128\n",
            "Tweet Text: RT @InterestingsAsF: Time lapse of Port Amsterdam. https://t.co/zOdW9TILjT\n",
            "Annotations: []\n",
            "Author ID: 1393085409022808068\n",
            "\n",
            "\n",
            "Tweet ID: 1557599657085112320\n",
            "Tweet Text: RT @buitengebieden: Stay hydrated.. 😅 https://t.co/zBUD1fDsce\n",
            "Annotations: []\n",
            "Author ID: 1393085409022808068\n",
            "\n",
            "\n",
            "[<User id=1393085409022808068 name=Ahil username=Ahil31917274>]\n"
          ]
        }
      ],
      "source": [
        "fetched_tweets = client.get_users_tweets(id=\"1393085409022808068\",\n",
        "                                             max_results=10,\n",
        "                                             expansions=['author_id', 'geo.place_id'],\n",
        "                                             tweet_fields=['context_annotations', 'public_metrics', 'author_id','created_at','text','source','lang','geo'],\n",
        "                                             place_fields=['full_name', 'id', 'country', 'country_code', 'geo', 'name', 'place_type'],\n",
        "                                             user_fields=[\"name\", \"username\", \"location\", \"verified\", \"description\"])\n",
        "for index, tweet in enumerate(fetched_tweets.data):\n",
        "    print( \"Tweet ID:\"  , tweet.id)\n",
        "    print( \"Tweet Text:\"  , tweet.text)\n",
        "    print( \"Annotations:\", tweet.context_annotations)\n",
        "    print( \"Author ID:\", tweet.author_id)\n",
        "    print(\"\\n\")\n",
        "print(fetched_tweets.includes['users'])"
      ]
    },
    {
      "cell_type": "markdown",
      "metadata": {
        "id": "cHMYiKb1aOxK"
      },
      "source": [
        ""
      ]
    },
    {
      "cell_type": "markdown",
      "metadata": {
        "id": "het-cxUsD8zq"
      },
      "source": [
        "コード 5.5 文分割のコード例"
      ]
    },
    {
      "cell_type": "code",
      "execution_count": 16,
      "metadata": {
        "colab": {
          "base_uri": "https://localhost:8080/"
        },
        "id": "mOmynfMdc12N",
        "outputId": "8334f9bb-d3eb-4d0f-c3fe-422eadd60e5b"
      },
      "outputs": [
        {
          "output_type": "stream",
          "name": "stdout",
          "text": [
            "Name: nltk\n",
            "Version: 3.7\n",
            "Summary: Natural Language Toolkit\n",
            "Home-page: https://www.nltk.org/\n",
            "Author: NLTK Team\n",
            "Author-email: nltk.team@gmail.com\n",
            "License: Apache License, Version 2.0\n",
            "Location: /usr/local/lib/python3.7/dist-packages\n",
            "Requires: regex, tqdm, click, joblib\n",
            "Required-by: textblob\n"
          ]
        }
      ],
      "source": [
        "!pip show nltk"
      ]
    },
    {
      "cell_type": "code",
      "execution_count": 17,
      "metadata": {
        "colab": {
          "base_uri": "https://localhost:8080/"
        },
        "id": "pz4biU8W7HeK",
        "outputId": "89c13a54-4f72-457b-b109-9003ed47bac6"
      },
      "outputs": [
        {
          "output_type": "stream",
          "name": "stderr",
          "text": [
            "[nltk_data] Downloading package punkt to /root/nltk_data...\n",
            "[nltk_data]   Unzipping tokenizers/punkt.zip.\n"
          ]
        },
        {
          "output_type": "stream",
          "name": "stdout",
          "text": [
            "['Statistics skills, and programming skills are equally important for analytics.', 'Statistics skills and domain knowledge are important for analytics.', 'I like reading books and traveling.']\n"
          ]
        }
      ],
      "source": [
        "import nltk\n",
        "from nltk.tokenize import sent_tokenize\n",
        "nltk.download(\"punkt\")\n",
        "text= \"Statistics skills, and programming skills are equally important for analy\\\n",
        "tics. Statistics skills and domain knowledge are important for analytics. I \\\n",
        "like reading books and traveling.\"\n",
        "sent_tokenize_list = sent_tokenize(text)\n",
        "print(sent_tokenize_list)"
      ]
    },
    {
      "cell_type": "markdown",
      "metadata": {
        "id": "-K04WA4QEYti"
      },
      "source": [
        "コード 5.6 ヨーロッパ言語に対する文分割"
      ]
    },
    {
      "cell_type": "code",
      "execution_count": 18,
      "metadata": {
        "colab": {
          "base_uri": "https://localhost:8080/"
        },
        "id": "gmoQsKK6EGhm",
        "outputId": "a2874606-2622-4529-a270-fe03c7ca1dee"
      },
      "outputs": [
        {
          "output_type": "execute_result",
          "data": {
            "text/plain": [
              "['Hola.', 'Esta es una frase espanola.']"
            ]
          },
          "metadata": {},
          "execution_count": 18
        }
      ],
      "source": [
        "import nltk.data\n",
        "spanish_tokenizer = nltk.data.load( 'tokenizers/punkt/spanish.pickle')\n",
        "spanish_tokenizer.tokenize( 'Hola. Esta es una frase espanola. ')"
      ]
    },
    {
      "cell_type": "markdown",
      "metadata": {
        "id": "4cpjA18CEfgU"
      },
      "source": [
        "コード 5.7 単語分割のためのコード例"
      ]
    },
    {
      "cell_type": "code",
      "execution_count": 19,
      "metadata": {
        "colab": {
          "base_uri": "https://localhost:8080/"
        },
        "id": "XsIAUP1aEkTm",
        "outputId": "3e29fb9f-30c3-4f72-eef0-1a2986d7a765"
      },
      "outputs": [
        {
          "output_type": "stream",
          "name": "stdout",
          "text": [
            "['Statistics', 'skills', ',', 'and', 'programming', 'skills', 'are', 'equally', 'important', 'for', 'analytics', '.', 'Statistics', 'skills', 'and', 'domain', 'knowledge', 'are', 'important', 'for', 'analytics', '.', 'I', 'like', 'reading', 'books', 'and', 'traveling', '.']\n",
            "['Statistics', 'skills', ',', 'and', 'programming', 'skills', 'are', 'equally', 'important', 'for', 'analytics.', 'Statistics', 'skills', 'and', 'domain', 'knowledge', 'are', 'important', 'for', 'analytics.', 'I', 'like', 'reading', 'books', 'and', 'traveling', '.']\n"
          ]
        }
      ],
      "source": [
        "from nltk.tokenize import word_tokenize\n",
        "print(word_tokenize(text))\n",
        " \n",
        "# TreebankWordTokenizer　を使用した同等のメソッド呼びだし\n",
        "from nltk.tokenize import TreebankWordTokenizer\n",
        "tokenizer = TreebankWordTokenizer()\n",
        "print(tokenizer.tokenize(text))"
      ]
    },
    {
      "cell_type": "markdown",
      "metadata": {
        "id": "9DMZOw8XJio9"
      },
      "source": [
        "コード 5.8"
      ]
    },
    {
      "cell_type": "code",
      "execution_count": 20,
      "metadata": {
        "colab": {
          "base_uri": "https://localhost:8080/"
        },
        "id": "g-Mhu6K_JlBL",
        "outputId": "cbef6468-b9f7-4b77-fd95-9be760e2f999"
      },
      "outputs": [
        {
          "output_type": "stream",
          "name": "stdout",
          "text": [
            "Removed numbers: This is a     sample  English   sentence, \n",
            "     with whitespace and numbers !\n"
          ]
        }
      ],
      "source": [
        "import re\n",
        "def remove_numbers(text):\n",
        "   return re.sub(r'\\d+', '', text)\n",
        "text =  'This is a     sample  English   sentence, \\n \\\n",
        "    with whitespace and numbers 1234!'\n",
        "print ( 'Removed numbers:'  , remove_numbers(text))"
      ]
    },
    {
      "cell_type": "markdown",
      "metadata": {
        "id": "SN2w__PzVrY5"
      },
      "source": [
        "コード 5.9"
      ]
    },
    {
      "cell_type": "code",
      "execution_count": 21,
      "metadata": {
        "colab": {
          "base_uri": "https://localhost:8080/"
        },
        "id": "VEh2sATTVuFU",
        "outputId": "f4528661-82d0-485f-8ec4-c34213de3a7e"
      },
      "outputs": [
        {
          "output_type": "stream",
          "name": "stdout",
          "text": [
            "This is a sample English sentence with punctuations\n"
          ]
        }
      ],
      "source": [
        "import string\n",
        "# 句読点を除去する関数\n",
        "def remove_punctuations(text):\n",
        "    words = nltk.word_tokenize(text)\n",
        "    punt_removed = [w for w in words if w.lower() not in string.punctuation]\n",
        "    return \" \".join(punt_removed)\n",
        "print (remove_punctuations( 'This is a sample English sentence, with punctuations!'))"
      ]
    },
    {
      "cell_type": "markdown",
      "metadata": {
        "id": "04l85heSWMnX"
      },
      "source": [
        "コード 5.10"
      ]
    },
    {
      "cell_type": "code",
      "execution_count": 22,
      "metadata": {
        "colab": {
          "base_uri": "https://localhost:8080/"
        },
        "id": "Y23eNx8GWPGL",
        "outputId": "311330b5-00dd-44b9-d18d-731db128939d"
      },
      "outputs": [
        {
          "output_type": "stream",
          "name": "stdout",
          "text": [
            "sample English sentence\n"
          ]
        },
        {
          "output_type": "stream",
          "name": "stderr",
          "text": [
            "[nltk_data] Downloading package stopwords to /root/nltk_data...\n",
            "[nltk_data]   Unzipping corpora/stopwords.zip.\n"
          ]
        }
      ],
      "source": [
        "from nltk.corpus import stopwords\n",
        "nltk.download(\"stopwords\")\n",
        "# ストップワードを除去する関数\n",
        "def remove_stopwords(text, lang='english'):\n",
        "     words = nltk.word_tokenize(text)\n",
        "     lang_stopwords = stopwords.words(lang)\n",
        "     stopwords_removed = [w for w in words if w.lower() not in lang_stopwords]\n",
        "     return \" \".join(stopwords_removed)\n",
        "print (remove_stopwords( 'This is a sample English sentence' ))"
      ]
    },
    {
      "cell_type": "markdown",
      "metadata": {
        "id": "1BcjxOhxXEH2"
      },
      "source": [
        "\n",
        "コード 5.11 テキストから空白を除去するコード例"
      ]
    },
    {
      "cell_type": "code",
      "execution_count": 23,
      "metadata": {
        "colab": {
          "base_uri": "https://localhost:8080/"
        },
        "id": "46vlqFqWXE-o",
        "outputId": "6573184d-2d13-43d9-984d-6aa0c47449c5"
      },
      "outputs": [
        {
          "output_type": "stream",
          "name": "stdout",
          "text": [
            "Removed whitespace: This is a sample English sentence, with whitespace and numbers 1234!\n"
          ]
        }
      ],
      "source": [
        "# 空白を除去する関数\n",
        "def remove_whitespace(text):\n",
        "    return \" \".join(text.split())\n",
        "text =  'This is a     sample  English   sentence, \\n \\\n",
        "        with whitespace and numbers 1234!'\n",
        "print ( 'Removed whitespace:'  , remove_whitespace(text))"
      ]
    },
    {
      "cell_type": "markdown",
      "metadata": {
        "id": "NZdZxbL0XjSh"
      },
      "source": [
        "コード 5.12 文の PoS タグ付けと可視化のためのコード例"
      ]
    },
    {
      "cell_type": "code",
      "source": [
        "!pip install svgling"
      ],
      "metadata": {
        "colab": {
          "base_uri": "https://localhost:8080/"
        },
        "id": "znxHKsGARDrX",
        "outputId": "ad610def-2393-4ff3-cdfa-ad41083423ff"
      },
      "execution_count": 28,
      "outputs": [
        {
          "output_type": "stream",
          "name": "stdout",
          "text": [
            "Looking in indexes: https://pypi.org/simple, https://us-python.pkg.dev/colab-wheels/public/simple/\n",
            "Collecting svgling\n",
            "  Downloading svgling-0.3.1-py3-none-any.whl (21 kB)\n",
            "Collecting svgwrite\n",
            "  Downloading svgwrite-1.4.3-py3-none-any.whl (67 kB)\n",
            "\u001b[K     |████████████████████████████████| 67 kB 2.7 MB/s \n",
            "\u001b[?25hInstalling collected packages: svgwrite, svgling\n",
            "Successfully installed svgling-0.3.1 svgwrite-1.4.3\n"
          ]
        }
      ]
    },
    {
      "cell_type": "code",
      "execution_count": 24,
      "metadata": {
        "colab": {
          "base_uri": "https://localhost:8080/"
        },
        "id": "D0xmoB8OXk2M",
        "outputId": "1926d276-f43d-40a7-8d75-56922a4da4c0"
      },
      "outputs": [
        {
          "output_type": "stream",
          "name": "stderr",
          "text": [
            "[nltk_data] Downloading package averaged_perceptron_tagger to\n",
            "[nltk_data]     /root/nltk_data...\n",
            "[nltk_data]   Unzipping taggers/averaged_perceptron_tagger.zip.\n"
          ]
        },
        {
          "output_type": "stream",
          "name": "stdout",
          "text": [
            "[('This', 'DT'), ('is', 'VBZ'), ('a', 'DT'), ('sample', 'JJ'), ('English', 'JJ'), ('sentence', 'NN')]\n"
          ]
        }
      ],
      "source": [
        "from nltk import chunk\n",
        "nltk.download('averaged_perceptron_tagger')\n",
        "tagged_sent = nltk.pos_tag(nltk.word_tokenize( 'This is a sample English \\\n",
        "                                                  sentence'))\n",
        "print(tagged_sent)"
      ]
    },
    {
      "cell_type": "code",
      "execution_count": 29,
      "metadata": {
        "colab": {
          "base_uri": "https://localhost:8080/",
          "height": 276
        },
        "id": "jR3FRU9hX1-L",
        "outputId": "f110845f-adee-4d9f-e2db-2dd6cac9bc66"
      },
      "outputs": [
        {
          "output_type": "stream",
          "name": "stderr",
          "text": [
            "[nltk_data] Downloading package maxent_ne_chunker to\n",
            "[nltk_data]     /root/nltk_data...\n",
            "[nltk_data]   Package maxent_ne_chunker is already up-to-date!\n",
            "[nltk_data] Downloading package words to /root/nltk_data...\n",
            "[nltk_data]   Package words is already up-to-date!\n"
          ]
        },
        {
          "output_type": "display_data",
          "data": {
            "text/plain": [
              "Tree('S', [('This', 'DT'), ('is', 'VBZ'), ('a', 'DT'), ('sample', 'JJ'), Tree('GPE', [('English', 'JJ')]), ('sentence', 'NN')])"
            ],
            "image/svg+xml": "<svg baseProfile=\"full\" height=\"168px\" preserveAspectRatio=\"xMidYMid meet\" style=\"font-family: times, serif; font-weight:normal; font-style: normal; font-size: 16px;\" version=\"1.1\" viewBox=\"0,0,336.0,168.0\" width=\"336px\" xmlns=\"http://www.w3.org/2000/svg\" xmlns:ev=\"http://www.w3.org/2001/xml-events\" xmlns:xlink=\"http://www.w3.org/1999/xlink\"><defs /><svg width=\"100%\" x=\"0\" y=\"0em\"><defs /><text text-anchor=\"middle\" x=\"50%\" y=\"1em\">S</text></svg><svg width=\"14.2857%\" x=\"0%\" y=\"3em\"><defs /><svg width=\"100%\" x=\"0\" y=\"0em\"><defs /><text text-anchor=\"middle\" x=\"50%\" y=\"1em\">This</text></svg><svg width=\"100%\" x=\"0%\" y=\"3em\"><defs /><svg width=\"100%\" x=\"0\" y=\"0em\"><defs /><text text-anchor=\"middle\" x=\"50%\" y=\"1em\">DT</text></svg></svg><line stroke=\"black\" x1=\"50%\" x2=\"50%\" y1=\"1.2em\" y2=\"3em\" /></svg><line stroke=\"black\" x1=\"50%\" x2=\"7.14286%\" y1=\"1.2em\" y2=\"3em\" /><svg width=\"11.9048%\" x=\"14.2857%\" y=\"3em\"><defs /><svg width=\"100%\" x=\"0\" y=\"0em\"><defs /><text text-anchor=\"middle\" x=\"50%\" y=\"1em\">is</text></svg><svg width=\"100%\" x=\"0%\" y=\"3em\"><defs /><svg width=\"100%\" x=\"0\" y=\"0em\"><defs /><text text-anchor=\"middle\" x=\"50%\" y=\"1em\">VBZ</text></svg></svg><line stroke=\"black\" x1=\"50%\" x2=\"50%\" y1=\"1.2em\" y2=\"3em\" /></svg><line stroke=\"black\" x1=\"50%\" x2=\"20.2381%\" y1=\"1.2em\" y2=\"3em\" /><svg width=\"9.52381%\" x=\"26.1905%\" y=\"3em\"><defs /><svg width=\"100%\" x=\"0\" y=\"0em\"><defs /><text text-anchor=\"middle\" x=\"50%\" y=\"1em\">a</text></svg><svg width=\"100%\" x=\"0%\" y=\"3em\"><defs /><svg width=\"100%\" x=\"0\" y=\"0em\"><defs /><text text-anchor=\"middle\" x=\"50%\" y=\"1em\">DT</text></svg></svg><line stroke=\"black\" x1=\"50%\" x2=\"50%\" y1=\"1.2em\" y2=\"3em\" /></svg><line stroke=\"black\" x1=\"50%\" x2=\"30.9524%\" y1=\"1.2em\" y2=\"3em\" /><svg width=\"19.0476%\" x=\"35.7143%\" y=\"3em\"><defs /><svg width=\"100%\" x=\"0\" y=\"0em\"><defs /><text text-anchor=\"middle\" x=\"50%\" y=\"1em\">sample</text></svg><svg width=\"100%\" x=\"0%\" y=\"3em\"><defs /><svg width=\"100%\" x=\"0\" y=\"0em\"><defs /><text text-anchor=\"middle\" x=\"50%\" y=\"1em\">JJ</text></svg></svg><line stroke=\"black\" x1=\"50%\" x2=\"50%\" y1=\"1.2em\" y2=\"3em\" /></svg><line stroke=\"black\" x1=\"50%\" x2=\"45.2381%\" y1=\"1.2em\" y2=\"3em\" /><svg width=\"21.4286%\" x=\"54.7619%\" y=\"3em\"><defs /><svg width=\"100%\" x=\"0\" y=\"0em\"><defs /><text text-anchor=\"middle\" x=\"50%\" y=\"1em\">GPE</text></svg><svg width=\"100%\" x=\"0%\" y=\"3em\"><defs /><svg width=\"100%\" x=\"0\" y=\"0em\"><defs /><text text-anchor=\"middle\" x=\"50%\" y=\"1em\">English</text></svg><svg width=\"100%\" x=\"0%\" y=\"3em\"><defs /><svg width=\"100%\" x=\"0\" y=\"0em\"><defs /><text text-anchor=\"middle\" x=\"50%\" y=\"1em\">JJ</text></svg></svg><line stroke=\"black\" x1=\"50%\" x2=\"50%\" y1=\"1.2em\" y2=\"3em\" /></svg><line stroke=\"black\" x1=\"50%\" x2=\"50%\" y1=\"1.2em\" y2=\"3em\" /></svg><line stroke=\"black\" x1=\"50%\" x2=\"65.4762%\" y1=\"1.2em\" y2=\"3em\" /><svg width=\"23.8095%\" x=\"76.1905%\" y=\"3em\"><defs /><svg width=\"100%\" x=\"0\" y=\"0em\"><defs /><text text-anchor=\"middle\" x=\"50%\" y=\"1em\">sentence</text></svg><svg width=\"100%\" x=\"0%\" y=\"3em\"><defs /><svg width=\"100%\" x=\"0\" y=\"0em\"><defs /><text text-anchor=\"middle\" x=\"50%\" y=\"1em\">NN</text></svg></svg><line stroke=\"black\" x1=\"50%\" x2=\"50%\" y1=\"1.2em\" y2=\"3em\" /></svg><line stroke=\"black\" x1=\"50%\" x2=\"88.0952%\" y1=\"1.2em\" y2=\"3em\" /></svg>"
          },
          "metadata": {}
        }
      ],
      "source": [
        "nltk.download('maxent_ne_chunker')\n",
        "nltk.download('words')\n",
        "tree = chunk.ne_chunk(tagged_sent)\n",
        "from IPython.display import display\n",
        "display(tree) # 文章の木を描画する"
      ]
    },
    {
      "cell_type": "markdown",
      "metadata": {
        "id": "vpcS-QaQDeJr"
      },
      "source": [
        "コード 5.16"
      ]
    },
    {
      "cell_type": "code",
      "execution_count": 30,
      "metadata": {
        "colab": {
          "base_uri": "https://localhost:8080/"
        },
        "id": "oQJkA-ZGEdko",
        "outputId": "8e27e72b-bf20-4ee4-fe9c-0d2779b13bbf"
      },
      "outputs": [
        {
          "output_type": "stream",
          "name": "stderr",
          "text": [
            "[nltk_data] Downloading package wordnet to /root/nltk_data...\n",
            "[nltk_data]   Package wordnet is already up-to-date!\n",
            "[nltk_data] Downloading package omw-1.4 to /root/nltk_data...\n"
          ]
        },
        {
          "output_type": "execute_result",
          "data": {
            "text/plain": [
              "True"
            ]
          },
          "metadata": {},
          "execution_count": 30
        }
      ],
      "source": [
        "import nltk\n",
        "from nltk.corpus import wordnet\n",
        "\n",
        "nltk.download('wordnet')\n",
        "nltk.download('omw-1.4')"
      ]
    },
    {
      "cell_type": "code",
      "execution_count": 31,
      "metadata": {
        "colab": {
          "base_uri": "https://localhost:8080/"
        },
        "id": "5flbIvI2DcVO",
        "outputId": "0e475224-b479-44cd-9c28-1469f8c4d43a"
      },
      "outputs": [
        {
          "output_type": "stream",
          "name": "stdout",
          "text": [
            "Definition:  benefit\n",
            "Example:  ['for your own good', \"what's the good of worrying?\"]\n",
            "synonyms: \n",
            " {'unspoilt', 'respectable', 'honorable', 'dependable', 'adept', 'dear', 'secure', 'beneficial', 'just', 'practiced', 'salutary', 'safe', 'effective', 'unspoiled', 'near', 'upright', 'thoroughly', 'goodness', 'proficient', 'honest', 'undecomposed', 'skillful', 'ripe', 'full', 'commodity', 'trade_good', 'estimable', 'soundly', 'expert', 'in_force', 'in_effect', 'well', 'sound', 'serious', 'good', 'skilful', 'right'}\n",
            "antonyms: \n",
            " {'badness', 'evil', 'evilness', 'bad', 'ill'}\n"
          ]
        }
      ],
      "source": [
        "from nltk.corpus import wordnet\n",
        "syns = wordnet.synsets(\"good\")\n",
        "print(\"Definition: \", syns[0].definition())\n",
        "print(\"Example: \", syns[0].examples())\n",
        "synonyms = []\n",
        "antonyms = []\n",
        "# 類義語と対義語(反対の意味を持つ語)を出力\n",
        "for syn in wordnet.synsets(\"good\"):\n",
        "     for l in syn.lemmas():\n",
        "        synonyms.append(l.name())\n",
        "        if l.antonyms():\n",
        "             antonyms.append(l.antonyms()[0].name())\n",
        "print (\"synonyms: \\n\", set(synonyms))\n",
        "print (\"antonyms: \\n\", set(antonyms))"
      ]
    },
    {
      "cell_type": "markdown",
      "metadata": {
        "id": "I1IUFatTFZVg"
      },
      "source": [
        "コード 5.19"
      ]
    },
    {
      "cell_type": "code",
      "execution_count": 33,
      "metadata": {
        "colab": {
          "base_uri": "https://localhost:8080/"
        },
        "id": "7L6Fhq0ZFcl5",
        "outputId": "35f5fadb-c47e-488b-e295-7becd91abb68"
      },
      "outputs": [
        {
          "output_type": "stream",
          "name": "stdout",
          "text": [
            "             Doc_3.txt  Doc_1.txt  Doc_2.txt\n",
            "analytics            0          1          1\n",
            "and                  1          1          1\n",
            "are                  0          1          1\n",
            "books                1          0          0\n",
            "domain               0          0          1\n",
            "equally              0          1          0\n",
            "for                  0          1          1\n",
            "important            0          1          1\n",
            "knowledge            0          0          1\n",
            "like                 1          0          0\n",
            "programming          0          1          0\n",
            "reading              1          0          0\n",
            "skills               0          2          1\n",
            "statistics           0          1          1\n",
            "travelling           1          0          0\n"
          ]
        },
        {
          "output_type": "stream",
          "name": "stderr",
          "text": [
            "/usr/local/lib/python3.7/dist-packages/sklearn/utils/deprecation.py:87: FutureWarning: Function get_feature_names is deprecated; get_feature_names is deprecated in 1.0 and will be removed in 1.2. Please use get_feature_names_out instead.\n",
            "  warnings.warn(msg, category=FutureWarning)\n"
          ]
        }
      ],
      "source": [
        "import os\n",
        "import pandas as pd\n",
        "from sklearn.feature_extraction.text import CountVectorizer\n",
        "# フォルダ内のすべてのファイルに対してファイル名をキー，テキストを値とする辞書を作成する関数\n",
        "def CorpusFromDir(dir_path):\n",
        "    result = dict(\n",
        "        docs = [open(os.path.join(dir_path,f)).read() for f in\n",
        "                os.listdir(dir_path)],\n",
        "           ColNames = map(\n",
        "               lambda x: x, os.listdir(dir_path)))\n",
        "    return result\n",
        "\n",
        "docs = CorpusFromDir('Data/text_files')\n",
        "# 初期化\n",
        "vectorizer = CountVectorizer()\n",
        "doc_vec = vectorizer.fit_transform(docs.get('docs'))\n",
        "# データフレームの作成\n",
        "df = pd.DataFrame(doc_vec.toarray().transpose(),\n",
        "                  index = vectorizer.get_feature_names())\n",
        "# 列名をファイル名となるように変換\n",
        "df.columns = docs.get('ColNames')\n",
        "print (df)"
      ]
    },
    {
      "cell_type": "markdown",
      "metadata": {
        "id": "Sm6CxgJflIhW"
      },
      "source": [
        "コード 5.21"
      ]
    },
    {
      "cell_type": "code",
      "execution_count": 36,
      "metadata": {
        "id": "opScLgkxlrDE"
      },
      "outputs": [],
      "source": [
        "import numpy as np\n",
        "import matplotlib.pyplot as plt"
      ]
    },
    {
      "cell_type": "code",
      "execution_count": 37,
      "metadata": {
        "colab": {
          "base_uri": "https://localhost:8080/",
          "height": 347
        },
        "id": "d_dgoHRalLJf",
        "outputId": "7cecd320-f8bd-4463-a5c5-4aa2612663d3"
      },
      "outputs": [
        {
          "output_type": "display_data",
          "data": {
            "text/plain": [
              "<Figure size 432x288 with 1 Axes>"
            ],
            "image/png": "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\n"
          },
          "metadata": {
            "needs_background": "light"
          }
        }
      ],
      "source": [
        "freq = df.iloc[:,0].sort_values(ascending=False, inplace=False)\n",
        "words = freq.index\n",
        "pos = np.arange(len(words))\n",
        "width=1.0\n",
        "ax=plt.axes(frameon=True)\n",
        "ax.set_xticks(pos)\n",
        "ax.set_xticklabels(words, rotation='vertical', fontsize=9)\n",
        "ax.set_title('Word Frequency Chart')\n",
        "ax.set_xlabel('Words')\n",
        "ax.set_ylabel('Frequency')\n",
        "plt.bar(pos, freq, width, color='b')\n",
        "plt.show()"
      ]
    },
    {
      "cell_type": "markdown",
      "metadata": {
        "id": "C3w6s0-JdXB5"
      },
      "source": [
        "コード 5.22"
      ]
    },
    {
      "cell_type": "code",
      "execution_count": 38,
      "metadata": {
        "colab": {
          "base_uri": "https://localhost:8080/"
        },
        "id": "XW2cnUS9dcg9",
        "outputId": "c498a8a8-dfc3-4d68-df9b-10dae0e5aa92"
      },
      "outputs": [
        {
          "output_type": "stream",
          "name": "stdout",
          "text": [
            "Looking in indexes: https://pypi.org/simple, https://us-python.pkg.dev/colab-wheels/public/simple/\n",
            "Requirement already satisfied: WordCloud in /usr/local/lib/python3.7/dist-packages (1.8.2.2)\n",
            "Requirement already satisfied: pillow in /usr/local/lib/python3.7/dist-packages (from WordCloud) (7.1.2)\n",
            "Requirement already satisfied: numpy>=1.6.1 in /usr/local/lib/python3.7/dist-packages (from WordCloud) (1.21.6)\n",
            "Requirement already satisfied: matplotlib in /usr/local/lib/python3.7/dist-packages (from WordCloud) (3.2.2)\n",
            "Requirement already satisfied: cycler>=0.10 in /usr/local/lib/python3.7/dist-packages (from matplotlib->WordCloud) (0.11.0)\n",
            "Requirement already satisfied: kiwisolver>=1.0.1 in /usr/local/lib/python3.7/dist-packages (from matplotlib->WordCloud) (1.4.4)\n",
            "Requirement already satisfied: pyparsing!=2.0.4,!=2.1.2,!=2.1.6,>=2.0.1 in /usr/local/lib/python3.7/dist-packages (from matplotlib->WordCloud) (3.0.9)\n",
            "Requirement already satisfied: python-dateutil>=2.1 in /usr/local/lib/python3.7/dist-packages (from matplotlib->WordCloud) (2.8.2)\n",
            "Requirement already satisfied: typing-extensions in /usr/local/lib/python3.7/dist-packages (from kiwisolver>=1.0.1->matplotlib->WordCloud) (4.1.1)\n",
            "Requirement already satisfied: six>=1.5 in /usr/local/lib/python3.7/dist-packages (from python-dateutil>=2.1->matplotlib->WordCloud) (1.12.0)\n"
          ]
        }
      ],
      "source": [
        "!pip install WordCloud"
      ]
    },
    {
      "cell_type": "code",
      "execution_count": 40,
      "metadata": {
        "colab": {
          "base_uri": "https://localhost:8080/",
          "height": 214
        },
        "id": "uZx1FFgRdDE6",
        "outputId": "6075a423-b09c-41fe-f4ca-f1748c409cd7"
      },
      "outputs": [
        {
          "output_type": "display_data",
          "data": {
            "text/plain": [
              "<Figure size 432x288 with 1 Axes>"
            ],
            "image/png": "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\n"
          },
          "metadata": {
            "needs_background": "light"
          }
        }
      ],
      "source": [
        "from wordcloud import WordCloud\n",
        "# テキスト全体の読み込み\n",
        "text = open('Data/text_files/Doc_1.txt').read()\n",
        "# ワードクラウド画像の生成\n",
        "wordcloud = WordCloud().generate(text)\n",
        "# 生成された画像の描画:\n",
        "# matplotlibによる方法:\n",
        "import matplotlib.pyplot as plt\n",
        "plt.imshow(wordcloud.recolor(random_state=2017))\n",
        "plt.title('Most Frequent Words')\n",
        "plt.axis(\"off\")\n",
        "plt.show()"
      ]
    },
    {
      "cell_type": "markdown",
      "metadata": {
        "id": "bpfRUJtci2XT"
      },
      "source": [
        "コード 5.23"
      ]
    },
    {
      "cell_type": "code",
      "execution_count": 41,
      "metadata": {
        "colab": {
          "base_uri": "https://localhost:8080/"
        },
        "id": "1H8qavTNjsal",
        "outputId": "ffa4b970-9a3e-4dd5-bf1b-e1e273ac9e1a"
      },
      "outputs": [
        {
          "output_type": "stream",
          "name": "stderr",
          "text": [
            "[nltk_data] Downloading package punkt to /root/nltk_data...\n",
            "[nltk_data]   Package punkt is already up-to-date!\n"
          ]
        },
        {
          "output_type": "execute_result",
          "data": {
            "text/plain": [
              "True"
            ]
          },
          "metadata": {},
          "execution_count": 41
        }
      ],
      "source": [
        "nltk.download('punkt')"
      ]
    },
    {
      "cell_type": "code",
      "execution_count": 42,
      "metadata": {
        "id": "-i9w7iQNjbtV"
      },
      "outputs": [],
      "source": [
        "import matplotlib.pyplot as plt"
      ]
    },
    {
      "cell_type": "code",
      "execution_count": 43,
      "metadata": {
        "colab": {
          "base_uri": "https://localhost:8080/",
          "height": 295
        },
        "id": "QGjCrrjzi46M",
        "outputId": "942fe63d-b2be-414d-b164-97baf679f5b9"
      },
      "outputs": [
        {
          "output_type": "display_data",
          "data": {
            "text/plain": [
              "<Figure size 432x288 with 1 Axes>"
            ],
            "image/png": "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\n"
          },
          "metadata": {
            "needs_background": "light"
          }
        }
      ],
      "source": [
        "from nltk import word_tokenize\n",
        "\n",
        "def dispersion_plot(text, words):\n",
        "    words_token = word_tokenize(text)\n",
        "    points = [(x,y) for x in range(len(words_token))\n",
        "    for y in range(len(words)) if words_token[x] == words[y]]\n",
        "    if points:\n",
        "        x,y=zip(*points)\n",
        "    else:\n",
        "        x=y=()\n",
        "\n",
        "    plt.plot(x,y,\"rx\",scalex=.1)\n",
        "    plt.yticks(range(len(words)),words,color=\"b\")\n",
        "    plt.ylim(-1,len(words))\n",
        "    plt.title(\"Lexical Dispersion Plot\")\n",
        "    plt.xlabel(\"Word Offset\")\n",
        "    plt.show()\n",
        "text = 'statistics skills and programming skills are equally important for \\\n",
        "     analytics. statistics skills and domain knowledge are important for \\\n",
        "     analytics'\n",
        "dispersion_plot(text, ['statistics', 'skills', 'and', 'important'])"
      ]
    },
    {
      "cell_type": "markdown",
      "metadata": {
        "id": "C-Rpo_GrEhRY"
      },
      "source": [
        "コード 5.24"
      ]
    },
    {
      "cell_type": "code",
      "execution_count": 44,
      "metadata": {
        "colab": {
          "base_uri": "https://localhost:8080/",
          "height": 386
        },
        "id": "3lBYelYa-ryj",
        "outputId": "00abce62-191c-4b7e-9ad0-362e883fabf9"
      },
      "outputs": [
        {
          "output_type": "stream",
          "name": "stderr",
          "text": [
            "/usr/local/lib/python3.7/dist-packages/statsmodels/tools/_testing.py:19: FutureWarning: pandas.util.testing is deprecated. Use the functions in the public API at pandas.testing instead.\n",
            "  import pandas.util.testing as tm\n",
            "/usr/local/lib/python3.7/dist-packages/sklearn/utils/deprecation.py:87: FutureWarning: Function get_feature_names is deprecated; get_feature_names is deprecated in 1.0 and will be removed in 1.2. Please use get_feature_names_out instead.\n",
            "  warnings.warn(msg, category=FutureWarning)\n"
          ]
        },
        {
          "output_type": "display_data",
          "data": {
            "text/plain": [
              "<Figure size 432x288 with 2 Axes>"
            ],
            "image/png": "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\n"
          },
          "metadata": {
            "needs_background": "light"
          }
        }
      ],
      "source": [
        "import statsmodels.api as sm\n",
        "import scipy.sparse as sp\n",
        "# デフォルトのユニグラムモデル\n",
        "count_model = CountVectorizer(ngram_range=(1,1))\n",
        "docs_unigram = count_model.fit_transform(docs.get('docs'))\n",
        "# スパース(疎)なcsr (Compressed Sparse Row)形式での共起行列\n",
        "docs_unigram_matrix = (docs_unigram.T * docs_unigram)\n",
        "# 同一な単語を 0にセットする\n",
        "docs_unigram_matrix.setdiag(0)\n",
        "# co-occurrence matrix in sparse csr format\n",
        "docs_unigram_matrix = (docs_unigram.T * docs_unigram)\n",
        "docs_unigram_matrix_diags = sp.diags(1./docs_unigram_matrix.diagonal())\n",
        "# 共起行列の正規化\n",
        "docs_unigram_matrix_norm = docs_unigram_matrix_diags * docs_unigram_matrix # データフレームへ変換\n",
        "df = pd.DataFrame(docs_unigram_matrix_norm.todense(),\n",
        "index = count_model.get_feature_names())\n",
        "df.columns = count_model.get_feature_names()\n",
        "# プロット\n",
        "sm.graphics.plot_corr(df, title='Co-occurrence Matrix', xnames=list(df.index))\n",
        "plt.show()"
      ]
    },
    {
      "cell_type": "markdown",
      "metadata": {
        "id": "AbfO2EduB4b7"
      },
      "source": [
        "コード 5.26"
      ]
    },
    {
      "cell_type": "code",
      "execution_count": 45,
      "metadata": {
        "colab": {
          "base_uri": "https://localhost:8080/"
        },
        "id": "UuSm5pVTBp5w",
        "outputId": "a8784437-1358-4745-d3ec-a91c28b6ca39"
      },
      "outputs": [
        {
          "output_type": "stream",
          "name": "stdout",
          "text": [
            "['alt.atheism', 'comp.graphics', 'comp.os.ms-windows.misc', 'comp.sys.ibm.pc.hardware', 'comp.sys.mac.hardware', 'comp.windows.x', 'misc.forsale', 'rec.autos', 'rec.motorcycles', 'rec.sport.baseball', 'rec.sport.hockey', 'sci.crypt', 'sci.electronics', 'sci.med', 'sci.space', 'soc.religion.christian', 'talk.politics.guns', 'talk.politics.mideast', 'talk.politics.misc', 'talk.religion.misc']\n"
          ]
        }
      ],
      "source": [
        "from sklearn.datasets import fetch_20newsgroups\n",
        "from sklearn.feature_extraction.text import TfidfVectorizer\n",
        "from sklearn.preprocessing import Normalizer\n",
        "from sklearn import metrics\n",
        "from sklearn.cluster import KMeans, MiniBatchKMeans\n",
        "import numpy as np\n",
        "# データをロードしてトピック名を出力\n",
        "newsgroups_train = fetch_20newsgroups(subset='train')\n",
        "print(list(newsgroups_train.target_names))"
      ]
    },
    {
      "cell_type": "code",
      "execution_count": 46,
      "metadata": {
        "colab": {
          "base_uri": "https://localhost:8080/"
        },
        "id": "K1n_n8p-AeFs",
        "outputId": "a8b4e6a9-176f-4461-8626-a52f72e01e33"
      },
      "outputs": [
        {
          "output_type": "stream",
          "name": "stdout",
          "text": [
            "2768 documents\n",
            "3 categories\n",
            "Extracting features from the dataset using a sparse vectorizer\n",
            "n_samples: 2768, n_features: 35311\n"
          ]
        }
      ],
      "source": [
        "categories = ['alt.atheism', 'comp.graphics', 'rec.motorcycles']\n",
        "dataset = fetch_20newsgroups(subset='all', categories=categories, shuffle=True,\n",
        "random_state=2017)\n",
        "print(\"%d documents\" % len(dataset.data))\n",
        "print(\"%d categories\" % len(dataset.target_names))\n",
        "labels = dataset.target\n",
        "print(\"Extracting features from the dataset using a sparse vectorizer\")\n",
        "vectorizer = TfidfVectorizer(stop_words='english')\n",
        "X = vectorizer.fit_transform(dataset.data)\n",
        "print(\"n_samples: %d, n_features: %d\" % X.shape)"
      ]
    },
    {
      "cell_type": "markdown",
      "metadata": {
        "id": "yy7AVXOBCIqN"
      },
      "source": [
        "コード 5.27"
      ]
    },
    {
      "cell_type": "code",
      "execution_count": 47,
      "metadata": {
        "id": "dAfQDWXlClfJ"
      },
      "outputs": [],
      "source": [
        "from sklearn.pipeline import make_pipeline"
      ]
    },
    {
      "cell_type": "code",
      "execution_count": 48,
      "metadata": {
        "colab": {
          "base_uri": "https://localhost:8080/"
        },
        "id": "vcYai2zUCEWc",
        "outputId": "6daf27d7-cc16-4018-d70f-3f81e5069c9a"
      },
      "outputs": [
        {
          "output_type": "stream",
          "name": "stdout",
          "text": [
            "Explained variance of the SVD step: 95%\n"
          ]
        }
      ],
      "source": [
        "from sklearn.decomposition import TruncatedSVD\n",
        "# 次元数を 2000に削減\n",
        "svd = TruncatedSVD(2000)\n",
        "lsa = make_pipeline(svd, Normalizer(copy=False))\n",
        "X = lsa.fit_transform(X)\n",
        "explained_variance = svd.explained_variance_ratio_.sum()\n",
        "print(\"Explained variance of the SVD step: {}%\".format(int(explained_variance\n",
        "* 100)))"
      ]
    },
    {
      "cell_type": "markdown",
      "metadata": {
        "id": "Tih1Ru-8Cxrx"
      },
      "source": [
        "コード 5.28"
      ]
    },
    {
      "cell_type": "code",
      "execution_count": 49,
      "metadata": {
        "colab": {
          "base_uri": "https://localhost:8080/"
        },
        "id": "-bf5JJ4BC19-",
        "outputId": "afb0298e-e66a-411e-c421-e1fd880171d6"
      },
      "outputs": [
        {
          "output_type": "stream",
          "name": "stdout",
          "text": [
            "Clustering sparse data with MiniBatchKMeans(batch_size=1000, init_size=1000, n_clusters=5, n_init=1)\n",
            "Top terms per cluster:\n",
            "Cluster 0: graphics edu image 3d university program thanks files file lines\n",
            "Cluster 1: stafford winona edu shaft john ibm com msus mangoe wheelies\n",
            "Cluster 2: edu god com people don writes say atheism believe just\n"
          ]
        }
      ],
      "source": [
        "from __future__ import print_function\n",
        "km = KMeans(n_clusters=3, init='k-means++', max_iter=100, n_init=1)\n",
        "# Scikit learn は非常に大きいコーパスに適したバッチモードでk-meansを実行するためのMiniBatchKMeansを提供する\n",
        "km = MiniBatchKMeans(n_clusters=5, init='k-means++', n_init=1, init_size=1000, batch_size=1000)\n",
        "print(\"Clustering sparse data with %s\" % km)\n",
        "km.fit(X)\n",
        "print(\"Top terms per cluster:\")\n",
        "original_space_centroids = \\\n",
        "svd.inverse_transform(km.cluster_centers_)\n",
        "order_centroids = original_space_centroids.argsort()[:, ::-1]\n",
        "terms = vectorizer.get_feature_names_out()\n",
        "for i in range(3):\n",
        "    print(\"Cluster %d:\" % i, end='')\n",
        "    for ind in order_centroids[i, :10]:\n",
        "        print(' %s' % terms[ind], end='')\n",
        "    print()"
      ]
    },
    {
      "cell_type": "code",
      "execution_count": 50,
      "metadata": {
        "colab": {
          "base_uri": "https://localhost:8080/",
          "height": 585
        },
        "id": "Jeqn8X0gAh8B",
        "outputId": "871ddc45-1652-4569-fbf4-18ea8a22b555"
      },
      "outputs": [
        {
          "output_type": "display_data",
          "data": {
            "text/plain": [
              "<Figure size 576x576 with 1 Axes>"
            ],
            "image/png": "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\n"
          },
          "metadata": {
            "needs_background": "light"
          }
        }
      ],
      "source": [
        "from sklearn.metrics.pairwise import cosine_similarity\n",
        "dist = 1 - cosine_similarity(X)\n",
        "from scipy.cluster.hierarchy import ward, dendrogram\n",
        "linkage_matrix = ward(dist)\n",
        "# 事前計算された類似度からWard法を使って近接度の行列を計算\n",
        "fig, ax = plt.subplots(figsize=(8, 8))\n",
        "# サイズを設定\n",
        "ax = dendrogram(linkage_matrix, orientation=\"right\")\n",
        "plt.tick_params(axis= 'x', which='both')\n",
        "plt.tight_layout()\n",
        "#show plot with tight layout\n",
        "plt.show()"
      ]
    },
    {
      "cell_type": "markdown",
      "metadata": {
        "id": "bLZsPtAgdchR"
      },
      "source": [
        "コード 5.34 センチメント分析のコード例"
      ]
    },
    {
      "cell_type": "code",
      "execution_count": 51,
      "metadata": {
        "colab": {
          "base_uri": "https://localhost:8080/",
          "height": 224
        },
        "id": "Qk2T58EheE-R",
        "outputId": "802a0f5d-cb6d-4923-abc0-c96f125a9ddb"
      },
      "outputs": [
        {
          "output_type": "stream",
          "name": "stderr",
          "text": [
            "[nltk_data] Downloading package vader_lexicon to /root/nltk_data...\n"
          ]
        },
        {
          "output_type": "execute_result",
          "data": {
            "text/plain": [
              "   ID                                             Review  polarity_score  \\\n",
              "0   1  Excellent service my claim was dealt with very...          0.7346   \n",
              "1   2  Very sympathetically dealt within all aspects ...         -0.8155   \n",
              "2   3  Having received yet another ludicrous quote fr...          0.9785   \n",
              "3   4  Very prompt and fair handling of claim. A mino...          0.1440   \n",
              "4   5  Very good and excellent value for money simple...          0.8610   \n",
              "\n",
              "   neutral_score  negative_score  positive_score sentiment  \n",
              "0          0.618           0.000           0.382  POSITIVE  \n",
              "1          0.680           0.320           0.000  NEGATIVE  \n",
              "2          0.711           0.039           0.251  POSITIVE  \n",
              "3          0.651           0.135           0.214  POSITIVE  \n",
              "4          0.485           0.000           0.515  POSITIVE  "
            ],
            "text/html": [
              "\n",
              "  <div id=\"df-07abfd20-3c63-4415-97e3-90e42f9a0e26\">\n",
              "    <div class=\"colab-df-container\">\n",
              "      <div>\n",
              "<style scoped>\n",
              "    .dataframe tbody tr th:only-of-type {\n",
              "        vertical-align: middle;\n",
              "    }\n",
              "\n",
              "    .dataframe tbody tr th {\n",
              "        vertical-align: top;\n",
              "    }\n",
              "\n",
              "    .dataframe thead th {\n",
              "        text-align: right;\n",
              "    }\n",
              "</style>\n",
              "<table border=\"1\" class=\"dataframe\">\n",
              "  <thead>\n",
              "    <tr style=\"text-align: right;\">\n",
              "      <th></th>\n",
              "      <th>ID</th>\n",
              "      <th>Review</th>\n",
              "      <th>polarity_score</th>\n",
              "      <th>neutral_score</th>\n",
              "      <th>negative_score</th>\n",
              "      <th>positive_score</th>\n",
              "      <th>sentiment</th>\n",
              "    </tr>\n",
              "  </thead>\n",
              "  <tbody>\n",
              "    <tr>\n",
              "      <th>0</th>\n",
              "      <td>1</td>\n",
              "      <td>Excellent service my claim was dealt with very...</td>\n",
              "      <td>0.7346</td>\n",
              "      <td>0.618</td>\n",
              "      <td>0.000</td>\n",
              "      <td>0.382</td>\n",
              "      <td>POSITIVE</td>\n",
              "    </tr>\n",
              "    <tr>\n",
              "      <th>1</th>\n",
              "      <td>2</td>\n",
              "      <td>Very sympathetically dealt within all aspects ...</td>\n",
              "      <td>-0.8155</td>\n",
              "      <td>0.680</td>\n",
              "      <td>0.320</td>\n",
              "      <td>0.000</td>\n",
              "      <td>NEGATIVE</td>\n",
              "    </tr>\n",
              "    <tr>\n",
              "      <th>2</th>\n",
              "      <td>3</td>\n",
              "      <td>Having received yet another ludicrous quote fr...</td>\n",
              "      <td>0.9785</td>\n",
              "      <td>0.711</td>\n",
              "      <td>0.039</td>\n",
              "      <td>0.251</td>\n",
              "      <td>POSITIVE</td>\n",
              "    </tr>\n",
              "    <tr>\n",
              "      <th>3</th>\n",
              "      <td>4</td>\n",
              "      <td>Very prompt and fair handling of claim. A mino...</td>\n",
              "      <td>0.1440</td>\n",
              "      <td>0.651</td>\n",
              "      <td>0.135</td>\n",
              "      <td>0.214</td>\n",
              "      <td>POSITIVE</td>\n",
              "    </tr>\n",
              "    <tr>\n",
              "      <th>4</th>\n",
              "      <td>5</td>\n",
              "      <td>Very good and excellent value for money simple...</td>\n",
              "      <td>0.8610</td>\n",
              "      <td>0.485</td>\n",
              "      <td>0.000</td>\n",
              "      <td>0.515</td>\n",
              "      <td>POSITIVE</td>\n",
              "    </tr>\n",
              "  </tbody>\n",
              "</table>\n",
              "</div>\n",
              "      <button class=\"colab-df-convert\" onclick=\"convertToInteractive('df-07abfd20-3c63-4415-97e3-90e42f9a0e26')\"\n",
              "              title=\"Convert this dataframe to an interactive table.\"\n",
              "              style=\"display:none;\">\n",
              "        \n",
              "  <svg xmlns=\"http://www.w3.org/2000/svg\" height=\"24px\"viewBox=\"0 0 24 24\"\n",
              "       width=\"24px\">\n",
              "    <path d=\"M0 0h24v24H0V0z\" fill=\"none\"/>\n",
              "    <path d=\"M18.56 5.44l.94 2.06.94-2.06 2.06-.94-2.06-.94-.94-2.06-.94 2.06-2.06.94zm-11 1L8.5 8.5l.94-2.06 2.06-.94-2.06-.94L8.5 2.5l-.94 2.06-2.06.94zm10 10l.94 2.06.94-2.06 2.06-.94-2.06-.94-.94-2.06-.94 2.06-2.06.94z\"/><path d=\"M17.41 7.96l-1.37-1.37c-.4-.4-.92-.59-1.43-.59-.52 0-1.04.2-1.43.59L10.3 9.45l-7.72 7.72c-.78.78-.78 2.05 0 2.83L4 21.41c.39.39.9.59 1.41.59.51 0 1.02-.2 1.41-.59l7.78-7.78 2.81-2.81c.8-.78.8-2.07 0-2.86zM5.41 20L4 18.59l7.72-7.72 1.47 1.35L5.41 20z\"/>\n",
              "  </svg>\n",
              "      </button>\n",
              "      \n",
              "  <style>\n",
              "    .colab-df-container {\n",
              "      display:flex;\n",
              "      flex-wrap:wrap;\n",
              "      gap: 12px;\n",
              "    }\n",
              "\n",
              "    .colab-df-convert {\n",
              "      background-color: #E8F0FE;\n",
              "      border: none;\n",
              "      border-radius: 50%;\n",
              "      cursor: pointer;\n",
              "      display: none;\n",
              "      fill: #1967D2;\n",
              "      height: 32px;\n",
              "      padding: 0 0 0 0;\n",
              "      width: 32px;\n",
              "    }\n",
              "\n",
              "    .colab-df-convert:hover {\n",
              "      background-color: #E2EBFA;\n",
              "      box-shadow: 0px 1px 2px rgba(60, 64, 67, 0.3), 0px 1px 3px 1px rgba(60, 64, 67, 0.15);\n",
              "      fill: #174EA6;\n",
              "    }\n",
              "\n",
              "    [theme=dark] .colab-df-convert {\n",
              "      background-color: #3B4455;\n",
              "      fill: #D2E3FC;\n",
              "    }\n",
              "\n",
              "    [theme=dark] .colab-df-convert:hover {\n",
              "      background-color: #434B5C;\n",
              "      box-shadow: 0px 1px 3px 1px rgba(0, 0, 0, 0.15);\n",
              "      filter: drop-shadow(0px 1px 2px rgba(0, 0, 0, 0.3));\n",
              "      fill: #FFFFFF;\n",
              "    }\n",
              "  </style>\n",
              "\n",
              "      <script>\n",
              "        const buttonEl =\n",
              "          document.querySelector('#df-07abfd20-3c63-4415-97e3-90e42f9a0e26 button.colab-df-convert');\n",
              "        buttonEl.style.display =\n",
              "          google.colab.kernel.accessAllowed ? 'block' : 'none';\n",
              "\n",
              "        async function convertToInteractive(key) {\n",
              "          const element = document.querySelector('#df-07abfd20-3c63-4415-97e3-90e42f9a0e26');\n",
              "          const dataTable =\n",
              "            await google.colab.kernel.invokeFunction('convertToInteractive',\n",
              "                                                     [key], {});\n",
              "          if (!dataTable) return;\n",
              "\n",
              "          const docLinkHtml = 'Like what you see? Visit the ' +\n",
              "            '<a target=\"_blank\" href=https://colab.research.google.com/notebooks/data_table.ipynb>data table notebook</a>'\n",
              "            + ' to learn more about interactive tables.';\n",
              "          element.innerHTML = '';\n",
              "          dataTable['output_type'] = 'display_data';\n",
              "          await google.colab.output.renderOutput(dataTable, element);\n",
              "          const docLink = document.createElement('div');\n",
              "          docLink.innerHTML = docLinkHtml;\n",
              "          element.appendChild(docLink);\n",
              "        }\n",
              "      </script>\n",
              "    </div>\n",
              "  </div>\n",
              "  "
            ]
          },
          "metadata": {},
          "execution_count": 51
        }
      ],
      "source": [
        "import pandas as pd\n",
        "from nltk.sentiment.vader import SentimentIntensityAnalyzer\n",
        "from nltk.sentiment.util import *\n",
        "nltk.download('vader_lexicon')\n",
        "\n",
        "data = pd.read_csv('Data/customer_review.csv')\n",
        "SIA = SentimentIntensityAnalyzer()\n",
        "data['polarity_score']=data.Review.apply(lambda x:SIA.polarity_scores(x)['compound'])\n",
        "data['neutral_score']=data.Review.apply(lambda x:SIA.polarity_scores(x)['neu'])\n",
        "data['negative_score']=data.Review.apply(lambda x:SIA.polarity_scores(x)['neg'])\n",
        "data['positive_score']=data.Review.apply(lambda x:SIA.polarity_scores(x)['pos'])\n",
        "data['sentiment']=''\n",
        "data.loc[data.polarity_score>0,'sentiment']='POSITIVE'\n",
        "data.loc[data.polarity_score==0,'sentiment']='NEUTRAL'\n",
        "data.loc[data.polarity_score<0,'sentiment']='NEGATIVE'\n",
        "data.head()"
      ]
    },
    {
      "cell_type": "code",
      "execution_count": 52,
      "metadata": {
        "colab": {
          "base_uri": "https://localhost:8080/",
          "height": 321
        },
        "id": "b2l5jrq_fJ3u",
        "outputId": "d81a633a-0d5f-4343-b8e9-ee893323b248"
      },
      "outputs": [
        {
          "output_type": "display_data",
          "data": {
            "text/plain": [
              "<Figure size 432x288 with 1 Axes>"
            ],
            "image/png": "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\n"
          },
          "metadata": {
            "needs_background": "light"
          }
        }
      ],
      "source": [
        "data.sentiment.value_counts().plot(kind='bar',title=\"sentiment analysis\")\n",
        "plt.show()"
      ]
    },
    {
      "cell_type": "markdown",
      "metadata": {
        "id": "vFbOqE31KOE7"
      },
      "source": [
        "コード 5.35"
      ]
    },
    {
      "cell_type": "markdown",
      "metadata": {
        "id": "3ioW0mTgL7MZ"
      },
      "source": [
        "Stanford Core NLPのPythonラッパー（https://stanfordnlp.github.io/stanza/) を使用した例"
      ]
    },
    {
      "cell_type": "code",
      "execution_count": 53,
      "metadata": {
        "colab": {
          "base_uri": "https://localhost:8080/",
          "height": 920,
          "referenced_widgets": [
            "8a00e82d6fb841849d69b400f79c4943",
            "fef56525b40142b18a748df9dcdc2bb6",
            "48c1ec3d71ed40fba03ae32011b78cf7",
            "4ac0acea573a4bbf892f0458447f1cb8",
            "a133691727154ac5baa20a860d282c89",
            "f886cf8f07a6438d914ee5da84710d3f",
            "8976a01ce07b4355957012620a38bb68",
            "e9adbf79a1c44875a9daa80a2e0faeb6",
            "0ccdd1c6aff540d59518fd85d5749cbd",
            "d27139dc0e1c44fba69a07d110dae4c0",
            "922c31b5a830464ba847d98ccad5113f"
          ]
        },
        "id": "5-NZ8Z2qUhcD",
        "outputId": "cb213c79-966c-42e3-cb9c-0197d22fcef4"
      },
      "outputs": [
        {
          "output_type": "stream",
          "name": "stdout",
          "text": [
            "Looking in indexes: https://pypi.org/simple, https://us-python.pkg.dev/colab-wheels/public/simple/\n",
            "Collecting stanza\n",
            "  Downloading stanza-1.4.0-py3-none-any.whl (574 kB)\n",
            "\u001b[K     |████████████████████████████████| 574 kB 14.1 MB/s \n",
            "\u001b[?25hRequirement already satisfied: six in /usr/local/lib/python3.7/dist-packages (from stanza) (1.12.0)\n",
            "Collecting emoji\n",
            "  Downloading emoji-2.0.0.tar.gz (197 kB)\n",
            "\u001b[K     |████████████████████████████████| 197 kB 94.5 MB/s \n",
            "\u001b[?25hCollecting transformers\n",
            "  Downloading transformers-4.21.1-py3-none-any.whl (4.7 MB)\n",
            "\u001b[K     |████████████████████████████████| 4.7 MB 84.4 MB/s \n",
            "\u001b[?25hRequirement already satisfied: torch>=1.3.0 in /usr/local/lib/python3.7/dist-packages (from stanza) (1.12.1+cu113)\n",
            "Requirement already satisfied: numpy in /usr/local/lib/python3.7/dist-packages (from stanza) (1.21.6)\n",
            "Requirement already satisfied: tqdm in /usr/local/lib/python3.7/dist-packages (from stanza) (4.64.0)\n",
            "Requirement already satisfied: protobuf in /usr/local/lib/python3.7/dist-packages (from stanza) (3.17.3)\n",
            "Requirement already satisfied: requests in /usr/local/lib/python3.7/dist-packages (from stanza) (2.28.1)\n",
            "Requirement already satisfied: typing-extensions in /usr/local/lib/python3.7/dist-packages (from torch>=1.3.0->stanza) (4.1.1)\n",
            "Requirement already satisfied: urllib3<1.27,>=1.21.1 in /usr/local/lib/python3.7/dist-packages (from requests->stanza) (1.24.3)\n",
            "Requirement already satisfied: idna<4,>=2.5 in /usr/local/lib/python3.7/dist-packages (from requests->stanza) (2.10)\n",
            "Requirement already satisfied: charset-normalizer<3,>=2 in /usr/local/lib/python3.7/dist-packages (from requests->stanza) (2.1.0)\n",
            "Requirement already satisfied: certifi>=2017.4.17 in /usr/local/lib/python3.7/dist-packages (from requests->stanza) (2022.6.15)\n",
            "Requirement already satisfied: packaging>=20.0 in /usr/local/lib/python3.7/dist-packages (from transformers->stanza) (21.3)\n",
            "Collecting huggingface-hub<1.0,>=0.1.0\n",
            "  Downloading huggingface_hub-0.8.1-py3-none-any.whl (101 kB)\n",
            "\u001b[K     |████████████████████████████████| 101 kB 14.9 MB/s \n",
            "\u001b[?25hCollecting tokenizers!=0.11.3,<0.13,>=0.11.1\n",
            "  Downloading tokenizers-0.12.1-cp37-cp37m-manylinux_2_12_x86_64.manylinux2010_x86_64.whl (6.6 MB)\n",
            "\u001b[K     |████████████████████████████████| 6.6 MB 55.7 MB/s \n",
            "\u001b[?25hCollecting pyyaml>=5.1\n",
            "  Downloading PyYAML-6.0-cp37-cp37m-manylinux_2_5_x86_64.manylinux1_x86_64.manylinux_2_12_x86_64.manylinux2010_x86_64.whl (596 kB)\n",
            "\u001b[K     |████████████████████████████████| 596 kB 58.3 MB/s \n",
            "\u001b[?25hRequirement already satisfied: importlib-metadata in /usr/local/lib/python3.7/dist-packages (from transformers->stanza) (4.12.0)\n",
            "Requirement already satisfied: filelock in /usr/local/lib/python3.7/dist-packages (from transformers->stanza) (3.7.1)\n",
            "Requirement already satisfied: regex!=2019.12.17 in /usr/local/lib/python3.7/dist-packages (from transformers->stanza) (2022.6.2)\n",
            "Requirement already satisfied: pyparsing!=3.0.5,>=2.0.2 in /usr/local/lib/python3.7/dist-packages (from packaging>=20.0->transformers->stanza) (3.0.9)\n",
            "Requirement already satisfied: zipp>=0.5 in /usr/local/lib/python3.7/dist-packages (from importlib-metadata->transformers->stanza) (3.8.1)\n",
            "Building wheels for collected packages: emoji\n",
            "  Building wheel for emoji (setup.py) ... \u001b[?25l\u001b[?25hdone\n",
            "  Created wheel for emoji: filename=emoji-2.0.0-py3-none-any.whl size=193022 sha256=fd94ecc4708e31e13a5b57df827f437dc36fd549eac84a2fcce98c5848a102f1\n",
            "  Stored in directory: /root/.cache/pip/wheels/ec/29/4d/3cfe7452ac7d8d83b1930f8a6205c3c9649b24e80f9029fc38\n",
            "Successfully built emoji\n",
            "Installing collected packages: pyyaml, tokenizers, huggingface-hub, transformers, emoji, stanza\n",
            "  Attempting uninstall: pyyaml\n",
            "    Found existing installation: PyYAML 3.13\n",
            "    Uninstalling PyYAML-3.13:\n",
            "      Successfully uninstalled PyYAML-3.13\n",
            "Successfully installed emoji-2.0.0 huggingface-hub-0.8.1 pyyaml-6.0 stanza-1.4.0 tokenizers-0.12.1 transformers-4.21.1\n"
          ]
        },
        {
          "output_type": "stream",
          "name": "stderr",
          "text": [
            "INFO:stanza:Installing CoreNLP package into ./corenlp\n"
          ]
        },
        {
          "output_type": "display_data",
          "data": {
            "text/plain": [
              "Downloading https://huggingface.co/stanfordnlp/CoreNLP/resolve/main/stanford-corenlp-latest.zip:   0%|        …"
            ],
            "application/vnd.jupyter.widget-view+json": {
              "version_major": 2,
              "version_minor": 0,
              "model_id": "8a00e82d6fb841849d69b400f79c4943"
            }
          },
          "metadata": {}
        },
        {
          "output_type": "stream",
          "name": "stderr",
          "text": [
            "WARNING:stanza:For customized installation location, please set the `CORENLP_HOME` environment variable to the location of the installation. In Unix, this is done with `export CORENLP_HOME=./corenlp`.\n"
          ]
        }
      ],
      "source": [
        "!pip install stanza\n",
        "import stanza\n",
        "corenlp_dir = './corenlp'\n",
        "stanza.install_corenlp(dir=corenlp_dir)\n",
        "\n",
        "import os\n",
        "os.environ[\"CORENLP_HOME\"] = corenlp_dir"
      ]
    },
    {
      "cell_type": "code",
      "execution_count": 54,
      "metadata": {
        "colab": {
          "base_uri": "https://localhost:8080/"
        },
        "id": "3Q9VHUblQg7T",
        "outputId": "f2a58c06-7363-46e5-97e6-1e70c6954483"
      },
      "outputs": [
        {
          "output_type": "stream",
          "name": "stdout",
          "text": [
            "openjdk version \"11.0.15\" 2022-04-19\n",
            "OpenJDK Runtime Environment (build 11.0.15+10-Ubuntu-0ubuntu0.18.04.1)\n",
            "OpenJDK 64-Bit Server VM (build 11.0.15+10-Ubuntu-0ubuntu0.18.04.1, mixed mode, sharing)\n"
          ]
        }
      ],
      "source": [
        "!java -version"
      ]
    },
    {
      "cell_type": "code",
      "source": [
        "import stanza\n",
        "import time\n",
        "\n",
        "# 内部的に起動されるStanford CoreNLPサーバーへ接続するクライアント\n",
        "from stanza.server import CoreNLPClient\n",
        "\n",
        "client = CoreNLPClient(timeout=150000000, be_quiet=True, annotators=['openie'], \n",
        "endpoint='http://localhost:9001')\n",
        "client.start()\n",
        "import time\n",
        "time.sleep(10)\n",
        "\n",
        "text = \\\n",
        "  'The quick brown fox jumps over the lazy dog. ' + \\\n",
        "  'A rare black squirrel has become a regular visitor to a suburban garden. ' + \\\n",
        "  'The driver did not change the flat tire. ' + \\\n",
        "  'The driver crashed the bike white bumper.'\n",
        "\n",
        "document = client.annotate(text, output_format='json')\n",
        "triples = []\n",
        "for sentence in document['sentences']:\n",
        "    for triple in sentence['openie']:\n",
        "        print(triple['subject'] +  ':'  + triple['relation'] +  ':' + triple['object'])\n",
        "\n",
        "client.stop()"
      ],
      "metadata": {
        "colab": {
          "base_uri": "https://localhost:8080/"
        },
        "id": "JFGnfnYFduXV",
        "outputId": "0f976f51-86d0-430b-9098-8abb07c80b32"
      },
      "execution_count": 55,
      "outputs": [
        {
          "output_type": "stream",
          "name": "stderr",
          "text": [
            "INFO:stanza:Writing properties to tmp file: corenlp_server-5a684c45df48404a.props\n",
            "INFO:stanza:Starting server with command: java -Xmx5G -cp ./corenlp/* edu.stanford.nlp.pipeline.StanfordCoreNLPServer -port 9001 -timeout 150000000 -threads 5 -maxCharLength 100000 -quiet True -serverProperties corenlp_server-5a684c45df48404a.props -annotators openie -preload -outputFormat serialized\n"
          ]
        },
        {
          "output_type": "stream",
          "name": "stdout",
          "text": [
            "quick brown fox:jumps over:lazy dog\n",
            "fox:jumps over:dog\n",
            "brown fox:jumps over:dog\n",
            "quick brown fox:jumps over:dog\n",
            "quick fox:jumps over:dog\n",
            "quick fox:jumps over:lazy dog\n",
            "fox:jumps over:lazy dog\n",
            "brown fox:jumps over:lazy dog\n",
            "rare squirrel:visitor to:suburban garden\n",
            "black squirrel:has become:visitor\n",
            "rare black squirrel:has become:regular visitor\n",
            "rare black squirrel:has become:visitor to suburban garden\n",
            "rare black squirrel:has become:visitor to garden\n",
            "rare black squirrel:regular visitor to:suburban garden\n",
            "rare squirrel:regular visitor to:garden\n",
            "rare squirrel:has become:visitor to garden\n",
            "black squirrel:has become:regular visitor to garden\n",
            "squirrel:regular visitor to:suburban garden\n",
            "squirrel:visitor to:garden\n",
            "squirrel:has become:regular visitor\n",
            "rare black squirrel:visitor to:garden\n",
            "squirrel:regular visitor to:garden\n",
            "black squirrel:has become:visitor to suburban garden\n",
            "black squirrel:regular visitor to:garden\n",
            "black squirrel:has become:regular visitor to suburban garden\n",
            "black squirrel:has become:regular visitor\n",
            "black squirrel:visitor to:garden\n",
            "rare black squirrel:has become:visitor\n",
            "squirrel:has become:visitor to garden\n",
            "rare squirrel:regular visitor to:suburban garden\n",
            "rare black squirrel:visitor to:suburban garden\n",
            "squirrel:has become:visitor\n",
            "rare squirrel:visitor to:garden\n",
            "rare black squirrel:has become:regular visitor to garden\n",
            "squirrel:visitor to:suburban garden\n",
            "rare squirrel:has become:regular visitor\n",
            "rare black squirrel:regular visitor to:garden\n",
            "rare squirrel:has become:regular visitor to garden\n",
            "rare squirrel:has become:regular visitor to suburban garden\n",
            "rare black squirrel:has become:regular visitor to suburban garden\n",
            "black squirrel:has become:visitor to garden\n",
            "rare squirrel:has become:visitor\n",
            "black squirrel:visitor to:suburban garden\n",
            "black squirrel:regular visitor to:suburban garden\n",
            "rare squirrel:has become:visitor to suburban garden\n",
            "squirrel:has become:visitor to suburban garden\n",
            "squirrel:has become:regular visitor to garden\n",
            "squirrel:has become:regular visitor to suburban garden\n",
            "driver:crashed:bike white bumper\n",
            "driver:crashed:bike bumper\n"
          ]
        }
      ]
    },
    {
      "cell_type": "markdown",
      "source": [
        "コード 5.36 Word2Vec のコード例"
      ],
      "metadata": {
        "id": "rpsYxLKCkwzx"
      }
    },
    {
      "cell_type": "markdown",
      "source": [
        "model.most_similar(['girl', 'father'], ['boy'], topn=3)"
      ],
      "metadata": {
        "id": "f7jEGISTrRTq"
      }
    },
    {
      "cell_type": "code",
      "source": [
        "import gdown\n",
        "\n",
        "output = './GoogleNews-vectors-negative300.bin.gz'\n",
        "file_id = '0B7XkCwpI5KDYNlNUTTlSS21pQmM'\n",
        "    \n",
        "# Google Driveからファイルをダウンロード\n",
        "gdown.download('https://drive.google.com/uc?id=' + file_id, output, \n",
        "                quiet=False)\n",
        "\n",
        "print('DONE.')"
      ],
      "metadata": {
        "colab": {
          "base_uri": "https://localhost:8080/"
        },
        "id": "3ovb9l6yma_3",
        "outputId": "279ed865-0af9-4d39-eac1-7790e010c6a5"
      },
      "execution_count": 56,
      "outputs": [
        {
          "output_type": "stream",
          "name": "stderr",
          "text": [
            "Downloading...\n",
            "From: https://drive.google.com/uc?id=0B7XkCwpI5KDYNlNUTTlSS21pQmM\n",
            "To: /content/GoogleNews-vectors-negative300.bin.gz\n",
            "100%|██████████| 1.65G/1.65G [00:21<00:00, 75.9MB/s]"
          ]
        },
        {
          "output_type": "stream",
          "name": "stdout",
          "text": [
            "DONE.\n"
          ]
        },
        {
          "output_type": "stream",
          "name": "stderr",
          "text": [
            "\n"
          ]
        }
      ]
    },
    {
      "cell_type": "code",
      "source": [
        "!gunzip GoogleNews-vectors-negative300.bin.gz"
      ],
      "metadata": {
        "id": "_JdQNoSvpKCt"
      },
      "execution_count": 57,
      "outputs": []
    },
    {
      "cell_type": "code",
      "source": [
        "import gensim\n",
        "# Google の学習済みWord2Vecモデルをファイル名GoogleNews-vectors-negative300.binとし保存し，ロードする\n",
        "model = gensim.models.KeyedVectors.load_word2vec_format('GoogleNews-vectors-negative300.bin', binary=True)\n",
        "model.most_similar(positive=['woman', 'king'], negative=['man'], topn=5)"
      ],
      "metadata": {
        "id": "lqWpCHKLkfMI"
      },
      "execution_count": null,
      "outputs": []
    },
    {
      "cell_type": "code",
      "source": [
        "model.most_similar(['girl', 'father'], ['boy'], topn=3)"
      ],
      "metadata": {
        "id": "hfEDcqXyrfl4"
      },
      "execution_count": null,
      "outputs": []
    },
    {
      "cell_type": "code",
      "source": [
        "model.doesnt_match(\"breakfast cereal dinner lunch\".split())"
      ],
      "metadata": {
        "id": "ZTEOFoPdrcfM"
      },
      "execution_count": null,
      "outputs": []
    },
    {
      "cell_type": "code",
      "source": [
        "sentences = [['cigarette','smoking','is','injurious', 'to', 'health'],['cigarette','smoking','causes','cancer'],['cigarette','are','not','to','be','sold','to','kids']]\n",
        "\n",
        "# train word2vec on the two sentences\n",
        "model = gensim.models.Word2Vec(sentences, min_count=1, sg=1, window = 3)\n",
        "\n",
        "model.wv.most_similar(positive=['cigarette', 'smoking'], negative=['kids'], topn=1)"
      ],
      "metadata": {
        "id": "9gEk2VnotJlu"
      },
      "execution_count": null,
      "outputs": []
    },
    {
      "cell_type": "markdown",
      "source": [
        "コード 5.38 推薦システムのコード例"
      ],
      "metadata": {
        "id": "lvt3z2A92QXg"
      }
    },
    {
      "cell_type": "code",
      "source": [
        "import numpy as np\n",
        "import pandas as pd\n",
        "\n",
        "df = pd.read_csv('Data/movie_rating.csv')\n",
        "\n",
        "n_users = df.userID.unique().shape[0]\n",
        "n_items = df.itemID.unique().shape[0]\n",
        "print('\\nNumber of users = ' + str(n_users) + ' | Number of movies = ' + str(n_items))"
      ],
      "metadata": {
        "id": "gGfmQUYP2SWU"
      },
      "execution_count": null,
      "outputs": []
    },
    {
      "cell_type": "code",
      "source": [
        "# ユーザー-アイテムの類似度行列を生成\n",
        "df_matrix = np.zeros((n_users, n_items))\n",
        "for line in df.itertuples():\n",
        "     df_matrix[line[1]-1, line[2]-1] = line[3]\n",
        "from sklearn.metrics.pairwise import pairwise_distances\n",
        "user_similarity = pairwise_distances(df_matrix, metric='cosine')\n",
        "item_similarity = pairwise_distances(df_matrix.T, metric='cosine')\n",
        "# ユーザー 7 に対して類似するユーザーのトップ 3\n",
        "print (\"Similar users for user id 7: \\n\",\n",
        "       pd.DataFrame(user_similarity).loc[6,pd.DataFrame(user_similarity\n",
        "           ).loc[6,:] > 0].sort_values(ascending=False)[0:3])"
      ],
      "metadata": {
        "id": "BqcJ-kDI2tGA"
      },
      "execution_count": null,
      "outputs": []
    },
    {
      "cell_type": "code",
      "source": [
        "# アイテム 6 に対する類似度の高いアイテムのトップ 3\n",
        "print (\"Similar items for item id 6: \\n\",\n",
        "      pd.DataFrame(item_similarity).loc[5,pd.DataFrame(item_similarity\n",
        "          ).loc[5,:] > 0].sort_values(ascending=False)[0:3])"
      ],
      "metadata": {
        "id": "P4hKVYM53I6u"
      },
      "execution_count": null,
      "outputs": []
    },
    {
      "cell_type": "markdown",
      "source": [
        "コード 5.39 推薦システムと精度評価のコード例"
      ],
      "metadata": {
        "id": "sr7rrXtY8Bk7"
      }
    },
    {
      "cell_type": "code",
      "source": [
        "# アイテムベースの評価を予測する関数\n",
        "def item_based_prediction(rating_matrix, similarity_matrix):\n",
        "    return rating_matrix.dot(similarity_matrix) / np.array([np.abs(similarity_matrix).sum(axis=1)])\n",
        "# ユーザーベースの評価予測関数\n",
        "def user_based_prediction(rating_matrix, similarity_matrix):\n",
        "    mean_user_rating = rating_matrix.mean(axis=1)\n",
        "    ratings_diff = (rating_matrix - mean_user_rating[:, np.newaxis])\n",
        "    return mean_user_rating[:, np.newaxis] + similarity_matrix.dot(ratings_diff) / np.array([np.abs(similarity_matrix).sum(axis=1)]).T\n",
        "item_based_prediction = item_based_prediction(df_matrix, item_similarity)\n",
        "user_based_prediction = user_based_prediction(df_matrix, user_similarity)\n",
        "# RMSEを計算\n",
        "from sklearn.metrics import mean_squared_error\n",
        "from math import sqrt\n",
        "def rmse(prediction, actual):\n",
        "    prediction = prediction[actual.nonzero()].flatten()\n",
        "    actual = actual[actual.nonzero()].flatten()\n",
        "    return sqrt(mean_squared_error(prediction, actual))\n",
        "print ( 'User-based CF RMSE:'   + str(rmse(user_based_prediction, df_matrix)))\n",
        "print ( 'Item-based CF RMSE:'   + str(rmse(item_based_prediction, df_matrix)))"
      ],
      "metadata": {
        "id": "eojut9xS7FxL"
      },
      "execution_count": null,
      "outputs": []
    },
    {
      "cell_type": "code",
      "source": [
        "y_user_based = pd.DataFrame(user_based_prediction)\n",
        "# ユーザー 6が未評価の映画を予測(ユーザベース)\n",
        "predictions = y_user_based.loc[6,pd.DataFrame(df_matrix).loc[6,:] == 0]\n",
        "top = predictions.sort_values(ascending=False).head(n=1)\n",
        "recommendations = pd.DataFrame(data=top)\n",
        "recommendations.columns = [ 'Predicted Rating' ]\n",
        "print (recommendations)"
      ],
      "metadata": {
        "id": "YuwFtz3B2wF0"
      },
      "execution_count": null,
      "outputs": []
    },
    {
      "cell_type": "code",
      "source": [
        "y_item_based = pd.DataFrame(item_based_prediction)\n",
        "# ユーザー 6が未評価の映画を予測(アイテムベース)\n",
        "predictions = y_item_based.loc[6,pd.DataFrame(df_matrix).loc[6,:] == 0]\n",
        "top = predictions.sort_values(ascending=False).head(n=1)\n",
        "recommendations = pd.DataFrame(data=top)\n",
        "recommendations.columns = [ 'Predicted Rating' ]\n",
        "print (recommendations)"
      ],
      "metadata": {
        "id": "uWZNt19Y7nv5"
      },
      "execution_count": null,
      "outputs": []
    },
    {
      "cell_type": "markdown",
      "source": [
        "コード 5.40 SVD による推薦システムのコード例"
      ],
      "metadata": {
        "id": "DU2jvSjP759v"
      }
    },
    {
      "cell_type": "code",
      "source": [
        "# スパース性(疎性)の計算\n",
        "sparsity=round(1.0-len(df)/float(n_users*n_items),3)\n",
        "print('The sparsity level of is　' + str(sparsity*100) + '%')\n",
        "import scipy.sparse as sp\n",
        "from scipy.sparse.linalg import svds\n",
        "# 訓練データ行列に特異値分解(SVD)を適用し，要素を取得(抽出するベクトルの次元数kは指定する) \n",
        "u, s, vt = svds(df_matrix, k = 5)\n",
        "s_diag_matrix=np.diag(s)\n",
        "X_pred = np.dot(np.dot(u, s_diag_matrix), vt)\n",
        "print ( 'User-based CF MSE:'   + str(rmse(X_pred, df_matrix)))"
      ],
      "metadata": {
        "id": "HyQjMqmJ73QM"
      },
      "execution_count": null,
      "outputs": []
    }
  ],
  "metadata": {
    "colab": {
      "collapsed_sections": [],
      "name": "mmlwp6s_chapter5.ipynb",
      "provenance": []
    },
    "kernelspec": {
      "display_name": "Python 3",
      "name": "python3"
    },
    "language_info": {
      "name": "python"
    },
    "widgets": {
      "application/vnd.jupyter.widget-state+json": {
        "8a00e82d6fb841849d69b400f79c4943": {
          "model_module": "@jupyter-widgets/controls",
          "model_name": "HBoxModel",
          "model_module_version": "1.5.0",
          "state": {
            "_dom_classes": [],
            "_model_module": "@jupyter-widgets/controls",
            "_model_module_version": "1.5.0",
            "_model_name": "HBoxModel",
            "_view_count": null,
            "_view_module": "@jupyter-widgets/controls",
            "_view_module_version": "1.5.0",
            "_view_name": "HBoxView",
            "box_style": "",
            "children": [
              "IPY_MODEL_fef56525b40142b18a748df9dcdc2bb6",
              "IPY_MODEL_48c1ec3d71ed40fba03ae32011b78cf7",
              "IPY_MODEL_4ac0acea573a4bbf892f0458447f1cb8"
            ],
            "layout": "IPY_MODEL_a133691727154ac5baa20a860d282c89"
          }
        },
        "fef56525b40142b18a748df9dcdc2bb6": {
          "model_module": "@jupyter-widgets/controls",
          "model_name": "HTMLModel",
          "model_module_version": "1.5.0",
          "state": {
            "_dom_classes": [],
            "_model_module": "@jupyter-widgets/controls",
            "_model_module_version": "1.5.0",
            "_model_name": "HTMLModel",
            "_view_count": null,
            "_view_module": "@jupyter-widgets/controls",
            "_view_module_version": "1.5.0",
            "_view_name": "HTMLView",
            "description": "",
            "description_tooltip": null,
            "layout": "IPY_MODEL_f886cf8f07a6438d914ee5da84710d3f",
            "placeholder": "​",
            "style": "IPY_MODEL_8976a01ce07b4355957012620a38bb68",
            "value": "Downloading https://huggingface.co/stanfordnlp/CoreNLP/resolve/main/stanford-corenlp-latest.zip: 100%"
          }
        },
        "48c1ec3d71ed40fba03ae32011b78cf7": {
          "model_module": "@jupyter-widgets/controls",
          "model_name": "FloatProgressModel",
          "model_module_version": "1.5.0",
          "state": {
            "_dom_classes": [],
            "_model_module": "@jupyter-widgets/controls",
            "_model_module_version": "1.5.0",
            "_model_name": "FloatProgressModel",
            "_view_count": null,
            "_view_module": "@jupyter-widgets/controls",
            "_view_module_version": "1.5.0",
            "_view_name": "ProgressView",
            "bar_style": "success",
            "description": "",
            "description_tooltip": null,
            "layout": "IPY_MODEL_e9adbf79a1c44875a9daa80a2e0faeb6",
            "max": 506248615,
            "min": 0,
            "orientation": "horizontal",
            "style": "IPY_MODEL_0ccdd1c6aff540d59518fd85d5749cbd",
            "value": 506248615
          }
        },
        "4ac0acea573a4bbf892f0458447f1cb8": {
          "model_module": "@jupyter-widgets/controls",
          "model_name": "HTMLModel",
          "model_module_version": "1.5.0",
          "state": {
            "_dom_classes": [],
            "_model_module": "@jupyter-widgets/controls",
            "_model_module_version": "1.5.0",
            "_model_name": "HTMLModel",
            "_view_count": null,
            "_view_module": "@jupyter-widgets/controls",
            "_view_module_version": "1.5.0",
            "_view_name": "HTMLView",
            "description": "",
            "description_tooltip": null,
            "layout": "IPY_MODEL_d27139dc0e1c44fba69a07d110dae4c0",
            "placeholder": "​",
            "style": "IPY_MODEL_922c31b5a830464ba847d98ccad5113f",
            "value": " 506M/506M [00:15&lt;00:00, 31.5MB/s]"
          }
        },
        "a133691727154ac5baa20a860d282c89": {
          "model_module": "@jupyter-widgets/base",
          "model_name": "LayoutModel",
          "model_module_version": "1.2.0",
          "state": {
            "_model_module": "@jupyter-widgets/base",
            "_model_module_version": "1.2.0",
            "_model_name": "LayoutModel",
            "_view_count": null,
            "_view_module": "@jupyter-widgets/base",
            "_view_module_version": "1.2.0",
            "_view_name": "LayoutView",
            "align_content": null,
            "align_items": null,
            "align_self": null,
            "border": null,
            "bottom": null,
            "display": null,
            "flex": null,
            "flex_flow": null,
            "grid_area": null,
            "grid_auto_columns": null,
            "grid_auto_flow": null,
            "grid_auto_rows": null,
            "grid_column": null,
            "grid_gap": null,
            "grid_row": null,
            "grid_template_areas": null,
            "grid_template_columns": null,
            "grid_template_rows": null,
            "height": null,
            "justify_content": null,
            "justify_items": null,
            "left": null,
            "margin": null,
            "max_height": null,
            "max_width": null,
            "min_height": null,
            "min_width": null,
            "object_fit": null,
            "object_position": null,
            "order": null,
            "overflow": null,
            "overflow_x": null,
            "overflow_y": null,
            "padding": null,
            "right": null,
            "top": null,
            "visibility": null,
            "width": null
          }
        },
        "f886cf8f07a6438d914ee5da84710d3f": {
          "model_module": "@jupyter-widgets/base",
          "model_name": "LayoutModel",
          "model_module_version": "1.2.0",
          "state": {
            "_model_module": "@jupyter-widgets/base",
            "_model_module_version": "1.2.0",
            "_model_name": "LayoutModel",
            "_view_count": null,
            "_view_module": "@jupyter-widgets/base",
            "_view_module_version": "1.2.0",
            "_view_name": "LayoutView",
            "align_content": null,
            "align_items": null,
            "align_self": null,
            "border": null,
            "bottom": null,
            "display": null,
            "flex": null,
            "flex_flow": null,
            "grid_area": null,
            "grid_auto_columns": null,
            "grid_auto_flow": null,
            "grid_auto_rows": null,
            "grid_column": null,
            "grid_gap": null,
            "grid_row": null,
            "grid_template_areas": null,
            "grid_template_columns": null,
            "grid_template_rows": null,
            "height": null,
            "justify_content": null,
            "justify_items": null,
            "left": null,
            "margin": null,
            "max_height": null,
            "max_width": null,
            "min_height": null,
            "min_width": null,
            "object_fit": null,
            "object_position": null,
            "order": null,
            "overflow": null,
            "overflow_x": null,
            "overflow_y": null,
            "padding": null,
            "right": null,
            "top": null,
            "visibility": null,
            "width": null
          }
        },
        "8976a01ce07b4355957012620a38bb68": {
          "model_module": "@jupyter-widgets/controls",
          "model_name": "DescriptionStyleModel",
          "model_module_version": "1.5.0",
          "state": {
            "_model_module": "@jupyter-widgets/controls",
            "_model_module_version": "1.5.0",
            "_model_name": "DescriptionStyleModel",
            "_view_count": null,
            "_view_module": "@jupyter-widgets/base",
            "_view_module_version": "1.2.0",
            "_view_name": "StyleView",
            "description_width": ""
          }
        },
        "e9adbf79a1c44875a9daa80a2e0faeb6": {
          "model_module": "@jupyter-widgets/base",
          "model_name": "LayoutModel",
          "model_module_version": "1.2.0",
          "state": {
            "_model_module": "@jupyter-widgets/base",
            "_model_module_version": "1.2.0",
            "_model_name": "LayoutModel",
            "_view_count": null,
            "_view_module": "@jupyter-widgets/base",
            "_view_module_version": "1.2.0",
            "_view_name": "LayoutView",
            "align_content": null,
            "align_items": null,
            "align_self": null,
            "border": null,
            "bottom": null,
            "display": null,
            "flex": null,
            "flex_flow": null,
            "grid_area": null,
            "grid_auto_columns": null,
            "grid_auto_flow": null,
            "grid_auto_rows": null,
            "grid_column": null,
            "grid_gap": null,
            "grid_row": null,
            "grid_template_areas": null,
            "grid_template_columns": null,
            "grid_template_rows": null,
            "height": null,
            "justify_content": null,
            "justify_items": null,
            "left": null,
            "margin": null,
            "max_height": null,
            "max_width": null,
            "min_height": null,
            "min_width": null,
            "object_fit": null,
            "object_position": null,
            "order": null,
            "overflow": null,
            "overflow_x": null,
            "overflow_y": null,
            "padding": null,
            "right": null,
            "top": null,
            "visibility": null,
            "width": null
          }
        },
        "0ccdd1c6aff540d59518fd85d5749cbd": {
          "model_module": "@jupyter-widgets/controls",
          "model_name": "ProgressStyleModel",
          "model_module_version": "1.5.0",
          "state": {
            "_model_module": "@jupyter-widgets/controls",
            "_model_module_version": "1.5.0",
            "_model_name": "ProgressStyleModel",
            "_view_count": null,
            "_view_module": "@jupyter-widgets/base",
            "_view_module_version": "1.2.0",
            "_view_name": "StyleView",
            "bar_color": null,
            "description_width": ""
          }
        },
        "d27139dc0e1c44fba69a07d110dae4c0": {
          "model_module": "@jupyter-widgets/base",
          "model_name": "LayoutModel",
          "model_module_version": "1.2.0",
          "state": {
            "_model_module": "@jupyter-widgets/base",
            "_model_module_version": "1.2.0",
            "_model_name": "LayoutModel",
            "_view_count": null,
            "_view_module": "@jupyter-widgets/base",
            "_view_module_version": "1.2.0",
            "_view_name": "LayoutView",
            "align_content": null,
            "align_items": null,
            "align_self": null,
            "border": null,
            "bottom": null,
            "display": null,
            "flex": null,
            "flex_flow": null,
            "grid_area": null,
            "grid_auto_columns": null,
            "grid_auto_flow": null,
            "grid_auto_rows": null,
            "grid_column": null,
            "grid_gap": null,
            "grid_row": null,
            "grid_template_areas": null,
            "grid_template_columns": null,
            "grid_template_rows": null,
            "height": null,
            "justify_content": null,
            "justify_items": null,
            "left": null,
            "margin": null,
            "max_height": null,
            "max_width": null,
            "min_height": null,
            "min_width": null,
            "object_fit": null,
            "object_position": null,
            "order": null,
            "overflow": null,
            "overflow_x": null,
            "overflow_y": null,
            "padding": null,
            "right": null,
            "top": null,
            "visibility": null,
            "width": null
          }
        },
        "922c31b5a830464ba847d98ccad5113f": {
          "model_module": "@jupyter-widgets/controls",
          "model_name": "DescriptionStyleModel",
          "model_module_version": "1.5.0",
          "state": {
            "_model_module": "@jupyter-widgets/controls",
            "_model_module_version": "1.5.0",
            "_model_name": "DescriptionStyleModel",
            "_view_count": null,
            "_view_module": "@jupyter-widgets/base",
            "_view_module_version": "1.2.0",
            "_view_name": "StyleView",
            "description_width": ""
          }
        }
      }
    }
  },
  "nbformat": 4,
  "nbformat_minor": 0
}
