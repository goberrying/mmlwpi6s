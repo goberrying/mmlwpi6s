{
  "nbformat": 4,
  "nbformat_minor": 0,
  "metadata": {
    "colab": {
      "name": "mmlwp6s_chapter5.ipynb",
      "provenance": [],
      "collapsed_sections": []
    },
    "kernelspec": {
      "name": "python3",
      "display_name": "Python 3"
    },
    "language_info": {
      "name": "python"
    }
  },
  "cells": [
    {
      "cell_type": "code",
      "source": [
        "!git clone https://github.com/Apress/mastering-ml-w-python-in-six-steps.git"
      ],
      "metadata": {
        "colab": {
          "base_uri": "https://localhost:8080/"
        },
        "id": "9WBI7ORXku5C",
        "outputId": "609fed4d-2d22-4cf3-d755-dd3e8ce07cb6"
      },
      "execution_count": 13,
      "outputs": [
        {
          "output_type": "stream",
          "name": "stdout",
          "text": [
            "Cloning into 'mastering-ml-w-python-in-six-steps'...\n",
            "remote: Enumerating objects: 167, done.\u001b[K\n",
            "remote: Total 167 (delta 0), reused 0 (delta 0), pack-reused 167\u001b[K\n",
            "Receiving objects: 100% (167/167), 20.14 MiB | 27.72 MiB/s, done.\n",
            "Resolving deltas: 100% (1/1), done.\n"
          ]
        }
      ]
    },
    {
      "cell_type": "code",
      "source": [
        "!ln -s mastering-ml-w-python-in-six-steps/Chapter_5_Code/Code/Data Data\n",
        "!ln -s mastering-ml-w-python-in-six-steps/Chapter_5_Code/Code Code"
      ],
      "metadata": {
        "id": "Ixh37Uz7llB6"
      },
      "execution_count": 97,
      "outputs": []
    },
    {
      "cell_type": "markdown",
      "source": [
        "コード 5.1"
      ],
      "metadata": {
        "id": "V_O4gva9fqNB"
      }
    },
    {
      "cell_type": "code",
      "source": [
        "!apt-get install poppler-utils\n",
        "!apt-get install tesseract-ocr"
      ],
      "metadata": {
        "colab": {
          "base_uri": "https://localhost:8080/"
        },
        "id": "3ynVyl0VojHp",
        "outputId": "58f7da02-891a-4f05-ca46-03a6ad84f98a"
      },
      "execution_count": 22,
      "outputs": [
        {
          "output_type": "stream",
          "name": "stdout",
          "text": [
            "Reading package lists... Done\n",
            "Building dependency tree       \n",
            "Reading state information... Done\n",
            "The following packages were automatically installed and are no longer required:\n",
            "  libnvidia-common-460 nsight-compute-2020.2.0\n",
            "Use 'apt autoremove' to remove them.\n",
            "The following NEW packages will be installed:\n",
            "  poppler-utils\n",
            "0 upgraded, 1 newly installed, 0 to remove and 42 not upgraded.\n",
            "Need to get 154 kB of archives.\n",
            "After this operation, 613 kB of additional disk space will be used.\n",
            "Get:1 http://archive.ubuntu.com/ubuntu bionic-updates/main amd64 poppler-utils amd64 0.62.0-2ubuntu2.12 [154 kB]\n",
            "Fetched 154 kB in 0s (549 kB/s)\n",
            "Selecting previously unselected package poppler-utils.\n",
            "(Reading database ... 155203 files and directories currently installed.)\n",
            "Preparing to unpack .../poppler-utils_0.62.0-2ubuntu2.12_amd64.deb ...\n",
            "Unpacking poppler-utils (0.62.0-2ubuntu2.12) ...\n",
            "Setting up poppler-utils (0.62.0-2ubuntu2.12) ...\n",
            "Processing triggers for man-db (2.8.3-2ubuntu0.1) ...\n",
            "Reading package lists... Done\n",
            "Building dependency tree       \n",
            "Reading state information... Done\n",
            "The following packages were automatically installed and are no longer required:\n",
            "  libnvidia-common-460 nsight-compute-2020.2.0\n",
            "Use 'apt autoremove' to remove them.\n",
            "The following additional packages will be installed:\n",
            "  tesseract-ocr-eng tesseract-ocr-osd\n",
            "The following NEW packages will be installed:\n",
            "  tesseract-ocr tesseract-ocr-eng tesseract-ocr-osd\n",
            "0 upgraded, 3 newly installed, 0 to remove and 42 not upgraded.\n",
            "Need to get 4,795 kB of archives.\n",
            "After this operation, 15.8 MB of additional disk space will be used.\n",
            "Get:1 http://archive.ubuntu.com/ubuntu bionic/universe amd64 tesseract-ocr-eng all 4.00~git24-0e00fe6-1.2 [1,588 kB]\n",
            "Get:2 http://archive.ubuntu.com/ubuntu bionic/universe amd64 tesseract-ocr-osd all 4.00~git24-0e00fe6-1.2 [2,989 kB]\n",
            "Get:3 http://archive.ubuntu.com/ubuntu bionic/universe amd64 tesseract-ocr amd64 4.00~git2288-10f4998a-2 [218 kB]\n",
            "Fetched 4,795 kB in 0s (10.1 MB/s)\n",
            "Selecting previously unselected package tesseract-ocr-eng.\n",
            "(Reading database ... 155231 files and directories currently installed.)\n",
            "Preparing to unpack .../tesseract-ocr-eng_4.00~git24-0e00fe6-1.2_all.deb ...\n",
            "Unpacking tesseract-ocr-eng (4.00~git24-0e00fe6-1.2) ...\n",
            "Selecting previously unselected package tesseract-ocr-osd.\n",
            "Preparing to unpack .../tesseract-ocr-osd_4.00~git24-0e00fe6-1.2_all.deb ...\n",
            "Unpacking tesseract-ocr-osd (4.00~git24-0e00fe6-1.2) ...\n",
            "Selecting previously unselected package tesseract-ocr.\n",
            "Preparing to unpack .../tesseract-ocr_4.00~git2288-10f4998a-2_amd64.deb ...\n",
            "Unpacking tesseract-ocr (4.00~git2288-10f4998a-2) ...\n",
            "Setting up tesseract-ocr-osd (4.00~git24-0e00fe6-1.2) ...\n",
            "Setting up tesseract-ocr-eng (4.00~git24-0e00fe6-1.2) ...\n",
            "Setting up tesseract-ocr (4.00~git2288-10f4998a-2) ...\n",
            "Processing triggers for man-db (2.8.3-2ubuntu0.1) ...\n"
          ]
        }
      ]
    },
    {
      "cell_type": "code",
      "source": [
        "!pip install textract pdf2image"
      ],
      "metadata": {
        "colab": {
          "base_uri": "https://localhost:8080/",
          "height": 1000
        },
        "id": "Mh03c49_f4Tf",
        "outputId": "39dd241c-4f18-407a-afd4-b6a6562c3286"
      },
      "execution_count": 23,
      "outputs": [
        {
          "output_type": "stream",
          "name": "stdout",
          "text": [
            "Collecting textract\n",
            "  Downloading textract-1.6.5-py3-none-any.whl (23 kB)\n",
            "Collecting pdf2image\n",
            "  Downloading pdf2image-1.16.0-py3-none-any.whl (10 kB)\n",
            "Collecting pdfminer.six==20191110\n",
            "  Downloading pdfminer.six-20191110-py2.py3-none-any.whl (5.6 MB)\n",
            "\u001b[K     |████████████████████████████████| 5.6 MB 6.6 MB/s \n",
            "\u001b[?25hRequirement already satisfied: chardet==3.* in /usr/local/lib/python3.7/dist-packages (from textract) (3.0.4)\n",
            "Collecting six~=1.12.0\n",
            "  Downloading six-1.12.0-py2.py3-none-any.whl (10 kB)\n",
            "Collecting docx2txt~=0.8\n",
            "  Downloading docx2txt-0.8.tar.gz (2.8 kB)\n",
            "Collecting extract-msg<=0.29.*\n",
            "  Downloading extract_msg-0.28.7-py2.py3-none-any.whl (69 kB)\n",
            "\u001b[K     |████████████████████████████████| 69 kB 5.1 MB/s \n",
            "\u001b[?25hCollecting SpeechRecognition~=3.8.1\n",
            "  Downloading SpeechRecognition-3.8.1-py2.py3-none-any.whl (32.8 MB)\n",
            "\u001b[K     |████████████████████████████████| 32.8 MB 1.4 MB/s \n",
            "\u001b[?25hCollecting beautifulsoup4~=4.8.0\n",
            "  Downloading beautifulsoup4-4.8.2-py3-none-any.whl (106 kB)\n",
            "\u001b[K     |████████████████████████████████| 106 kB 63.9 MB/s \n",
            "\u001b[?25hCollecting xlrd~=1.2.0\n",
            "  Downloading xlrd-1.2.0-py2.py3-none-any.whl (103 kB)\n",
            "\u001b[K     |████████████████████████████████| 103 kB 46.9 MB/s \n",
            "\u001b[?25hCollecting argcomplete~=1.10.0\n",
            "  Downloading argcomplete-1.10.3-py2.py3-none-any.whl (36 kB)\n",
            "Collecting python-pptx~=0.6.18\n",
            "  Downloading python-pptx-0.6.21.tar.gz (10.1 MB)\n",
            "\u001b[K     |████████████████████████████████| 10.1 MB 1.3 MB/s \n",
            "\u001b[?25hRequirement already satisfied: sortedcontainers in /usr/local/lib/python3.7/dist-packages (from pdfminer.six==20191110->textract) (2.4.0)\n",
            "Collecting pycryptodome\n",
            "  Downloading pycryptodome-3.14.1-cp35-abi3-manylinux2010_x86_64.whl (2.0 MB)\n",
            "\u001b[K     |████████████████████████████████| 2.0 MB 28.6 MB/s \n",
            "\u001b[?25hRequirement already satisfied: soupsieve>=1.2 in /usr/local/lib/python3.7/dist-packages (from beautifulsoup4~=4.8.0->textract) (2.3.2.post1)\n",
            "Collecting imapclient==2.1.0\n",
            "  Downloading IMAPClient-2.1.0-py2.py3-none-any.whl (73 kB)\n",
            "\u001b[K     |████████████████████████████████| 73 kB 1.8 MB/s \n",
            "\u001b[?25hCollecting olefile>=0.46\n",
            "  Downloading olefile-0.46.zip (112 kB)\n",
            "\u001b[K     |████████████████████████████████| 112 kB 50.5 MB/s \n",
            "\u001b[?25hCollecting tzlocal>=2.1\n",
            "  Downloading tzlocal-4.2-py3-none-any.whl (19 kB)\n",
            "Collecting compressed-rtf>=1.0.6\n",
            "  Downloading compressed_rtf-1.0.6.tar.gz (5.8 kB)\n",
            "Collecting ebcdic>=1.1.1\n",
            "  Downloading ebcdic-1.1.1-py2.py3-none-any.whl (128 kB)\n",
            "\u001b[K     |████████████████████████████████| 128 kB 47.2 MB/s \n",
            "\u001b[?25hRequirement already satisfied: lxml>=3.1.0 in /usr/local/lib/python3.7/dist-packages (from python-pptx~=0.6.18->textract) (4.2.6)\n",
            "Requirement already satisfied: Pillow>=3.3.2 in /usr/local/lib/python3.7/dist-packages (from python-pptx~=0.6.18->textract) (7.1.2)\n",
            "Collecting XlsxWriter>=0.5.7\n",
            "  Downloading XlsxWriter-3.0.3-py3-none-any.whl (149 kB)\n",
            "\u001b[K     |████████████████████████████████| 149 kB 60.8 MB/s \n",
            "\u001b[?25hCollecting backports.zoneinfo\n",
            "  Downloading backports.zoneinfo-0.2.1-cp37-cp37m-manylinux1_x86_64.whl (70 kB)\n",
            "\u001b[K     |████████████████████████████████| 70 kB 8.3 MB/s \n",
            "\u001b[?25hCollecting pytz-deprecation-shim\n",
            "  Downloading pytz_deprecation_shim-0.1.0.post0-py2.py3-none-any.whl (15 kB)\n",
            "Collecting tzdata\n",
            "  Downloading tzdata-2022.1-py2.py3-none-any.whl (339 kB)\n",
            "\u001b[K     |████████████████████████████████| 339 kB 74.6 MB/s \n",
            "\u001b[?25hBuilding wheels for collected packages: docx2txt, compressed-rtf, olefile, python-pptx\n",
            "  Building wheel for docx2txt (setup.py) ... \u001b[?25l\u001b[?25hdone\n",
            "  Created wheel for docx2txt: filename=docx2txt-0.8-py3-none-any.whl size=3980 sha256=5736d65ae924d4c5da216458bebc057e3d4c1f5621531e9841046db981c3a7e3\n",
            "  Stored in directory: /root/.cache/pip/wheels/b7/20/b2/473e3aea9a0c0d3e7b2f7bd81d06d0794fec12752733d1f3a8\n",
            "  Building wheel for compressed-rtf (setup.py) ... \u001b[?25l\u001b[?25hdone\n",
            "  Created wheel for compressed-rtf: filename=compressed_rtf-1.0.6-py3-none-any.whl size=6204 sha256=59e2ed57f1734dd907bbc307241aabd64836c451ff6924eb68d81d4d89a0282c\n",
            "  Stored in directory: /root/.cache/pip/wheels/bb/33/88/88ceee84d1b74b391c086bc594d3fcf80800decfbd6e1ff565\n",
            "  Building wheel for olefile (setup.py) ... \u001b[?25l\u001b[?25hdone\n",
            "  Created wheel for olefile: filename=olefile-0.46-py2.py3-none-any.whl size=35432 sha256=1b00d93a33ff9539a952d4d25461250dd822072bda640c0c445edeb1e50a93f3\n",
            "  Stored in directory: /root/.cache/pip/wheels/84/53/e6/37d90ccb3ad1a3ca98d2b17107e9fda401a7c541ea1eb6a65a\n",
            "  Building wheel for python-pptx (setup.py) ... \u001b[?25l\u001b[?25hdone\n",
            "  Created wheel for python-pptx: filename=python_pptx-0.6.21-py3-none-any.whl size=470951 sha256=fa6f872fb543b0d3acfc9d857df6600b4aeeadf07846502917162b41560173ff\n",
            "  Stored in directory: /root/.cache/pip/wheels/a7/ab/f4/52560d0d4bd4055e9261c6df6e51c7b56c2b23cca3dee811a3\n",
            "Successfully built docx2txt compressed-rtf olefile python-pptx\n",
            "Installing collected packages: tzdata, backports.zoneinfo, six, pytz-deprecation-shim, XlsxWriter, tzlocal, pycryptodome, olefile, imapclient, ebcdic, compressed-rtf, xlrd, SpeechRecognition, python-pptx, pdfminer.six, extract-msg, docx2txt, beautifulsoup4, argcomplete, textract, pdf2image\n",
            "  Attempting uninstall: six\n",
            "    Found existing installation: six 1.15.0\n",
            "    Uninstalling six-1.15.0:\n",
            "      Successfully uninstalled six-1.15.0\n",
            "  Attempting uninstall: tzlocal\n",
            "    Found existing installation: tzlocal 1.5.1\n",
            "    Uninstalling tzlocal-1.5.1:\n",
            "      Successfully uninstalled tzlocal-1.5.1\n",
            "  Attempting uninstall: xlrd\n",
            "    Found existing installation: xlrd 1.1.0\n",
            "    Uninstalling xlrd-1.1.0:\n",
            "      Successfully uninstalled xlrd-1.1.0\n",
            "  Attempting uninstall: beautifulsoup4\n",
            "    Found existing installation: beautifulsoup4 4.6.3\n",
            "    Uninstalling beautifulsoup4-4.6.3:\n",
            "      Successfully uninstalled beautifulsoup4-4.6.3\n",
            "\u001b[31mERROR: pip's dependency resolver does not currently take into account all the packages that are installed. This behaviour is the source of the following dependency conflicts.\n",
            "tensorflow 2.8.0 requires tf-estimator-nightly==2.8.0.dev2021122109, which is not installed.\n",
            "google-colab 1.0.0 requires six~=1.15.0, but you have six 1.12.0 which is incompatible.\n",
            "google-api-python-client 1.12.11 requires six<2dev,>=1.13.0, but you have six 1.12.0 which is incompatible.\n",
            "google-api-core 1.31.5 requires six>=1.13.0, but you have six 1.12.0 which is incompatible.\n",
            "datascience 0.10.6 requires folium==0.2.1, but you have folium 0.8.3 which is incompatible.\n",
            "albumentations 0.1.12 requires imgaug<0.2.7,>=0.2.5, but you have imgaug 0.2.9 which is incompatible.\u001b[0m\n",
            "Successfully installed SpeechRecognition-3.8.1 XlsxWriter-3.0.3 argcomplete-1.10.3 backports.zoneinfo-0.2.1 beautifulsoup4-4.8.2 compressed-rtf-1.0.6 docx2txt-0.8 ebcdic-1.1.1 extract-msg-0.28.7 imapclient-2.1.0 olefile-0.46 pdf2image-1.16.0 pdfminer.six-20191110 pycryptodome-3.14.1 python-pptx-0.6.21 pytz-deprecation-shim-0.1.0.post0 six-1.12.0 textract-1.6.5 tzdata-2022.1 tzlocal-4.2 xlrd-1.2.0\n"
          ]
        },
        {
          "output_type": "display_data",
          "data": {
            "application/vnd.colab-display-data+json": {
              "pip_warning": {
                "packages": [
                  "six"
                ]
              }
            }
          },
          "metadata": {}
        }
      ]
    },
    {
      "cell_type": "code",
      "source": [
        "!apt install tesseract-ocr-jpn  tesseract-ocr-jpn-vert"
      ],
      "metadata": {
        "colab": {
          "base_uri": "https://localhost:8080/"
        },
        "id": "BIeADcbfbJP7",
        "outputId": "286b87c8-3cc4-46fd-cf3f-0c6886be8a33"
      },
      "execution_count": 32,
      "outputs": [
        {
          "output_type": "stream",
          "name": "stdout",
          "text": [
            "Requirement already satisfied: pyocr in /usr/local/lib/python3.7/dist-packages (0.8.2)\n",
            "Requirement already satisfied: Pillow in /usr/local/lib/python3.7/dist-packages (from pyocr) (7.1.2)\n",
            "Reading package lists... Done\n",
            "Building dependency tree       \n",
            "Reading state information... Done\n",
            "The following packages were automatically installed and are no longer required:\n",
            "  libnvidia-common-460 nsight-compute-2020.2.0\n",
            "Use 'apt autoremove' to remove them.\n",
            "The following NEW packages will be installed:\n",
            "  tesseract-ocr-jpn tesseract-ocr-jpn-vert\n",
            "0 upgraded, 2 newly installed, 0 to remove and 42 not upgraded.\n",
            "Need to get 3,277 kB of archives.\n",
            "After this operation, 5,539 kB of additional disk space will be used.\n",
            "Get:1 http://archive.ubuntu.com/ubuntu bionic/universe amd64 tesseract-ocr-jpn all 4.00~git24-0e00fe6-1.2 [1,389 kB]\n",
            "Get:2 http://archive.ubuntu.com/ubuntu bionic/universe amd64 tesseract-ocr-jpn-vert all 4.00~git24-0e00fe6-1.2 [1,888 kB]\n",
            "Fetched 3,277 kB in 0s (6,784 kB/s)\n",
            "Selecting previously unselected package tesseract-ocr-jpn.\n",
            "(Reading database ... 155278 files and directories currently installed.)\n",
            "Preparing to unpack .../tesseract-ocr-jpn_4.00~git24-0e00fe6-1.2_all.deb ...\n",
            "Unpacking tesseract-ocr-jpn (4.00~git24-0e00fe6-1.2) ...\n",
            "Selecting previously unselected package tesseract-ocr-jpn-vert.\n",
            "Preparing to unpack .../tesseract-ocr-jpn-vert_4.00~git24-0e00fe6-1.2_all.deb ...\n",
            "Unpacking tesseract-ocr-jpn-vert (4.00~git24-0e00fe6-1.2) ...\n",
            "Setting up tesseract-ocr-jpn (4.00~git24-0e00fe6-1.2) ...\n",
            "Setting up tesseract-ocr-jpn-vert (4.00~git24-0e00fe6-1.2) ...\n"
          ]
        }
      ]
    },
    {
      "cell_type": "code",
      "source": [
        "# You can read/learn more about latest updates about textractについての # 最新の更新について，公式文書サイトでより学ぶことができる:\n",
        "# http://textract.readthedocs.io/en/latest/\n",
        "import textract\n",
        "# 一般的なpdfからテキストを抽出\n",
        "text = textract.process('Data/pdf/raw_text.pdf', language='eng')\n",
        "# 2段組のpdfからテキストを抽出\n",
        "text = textract.process('Data/pdf/two_column.pdf', language='eng')\n",
        "# スキャンしたテキスト pdfからテキストを抽出\n",
        "text = textract.process('Data/pdf/ocr_text.pdf', method='tesseract', language='eng')\n",
        "# jpgからテキストを抽出\n",
        "text = textract.process('Data/jpg/raw_text.jpg', method='tesseract', language='eng')\n",
        "# 音声ファイルからテキストを抽出\n",
        "text = textract.process('Data/wav/raw_text.wav', language='eng')\n",
        "# jpgから日本語テキストを抽出\n",
        "text = textract.process('Data/jpg/japanese_text.jpg', method='tesseract', language='jpn')"
      ],
      "metadata": {
        "id": "0YgQAfrAft2G",
        "colab": {
          "base_uri": "https://localhost:8080/"
        },
        "outputId": "f98d8ca8-a86a-4283-bb87-9cb64559ec87"
      },
      "execution_count": 34,
      "outputs": [
        {
          "output_type": "stream",
          "name": "stdout",
          "text": [
            "b'\\xe5\\xb0\\x91\\xe5\\xb9\\xb4\\xe5\\xb0\\x91\\xe5\\xa5\\xb3\\xe3\\x81\\xab\\xe3\\x81\\x8a\\xe3\\x81\\x8f\\xe3\\x82\\x8b\\xe8\\xa8\\x80\\xe8\\x91\\x89\\n\\xe5\\x85\\xac\\xe6\\xb4\\xa5\\xe3\\x83\\x8f\\xe3\\x83\\xbc\\n\\n \\n\\n\\xe7\\xa7\\x81\\xe3\\x81\\xaf\\xe6\\x96\\xb0\\xe6\\xbd\\x9f\\xe3\\x81\\xae\\xe7\\x94\\x9f\\xe3\\x82\\x8c\\xe3\\x81\\xa7\\xe5\\xb0\\x8f\\xe5\\xad\\xb8\\xe6\\xa0\\xa1\\xe3\\x81\\xaf\\xe8\\xa5\\xbf\\xe7\\x95\\x91\\xe5\\xb0\\x8f\\xe5\\xad\\xb8\\xe6\\xa0\\xa1 (\\xe4\\xbb\\x8a\\xe3\\x81\\xaf\\xe3\\x81\\xaa\\xe3\\x81\\x84\\xe3\\x81\\x8c\\xe3\\x80\\x81\\xe5\\xbb\\xa3\\xe5\\xb0\\x8f\\xe8\\xb7\\xaf\\xe3\\x81\\xae\\xe6\\xb6\\x88\\xe9\\x98\\xb2\\xe3\\x81\\xae\\xe8\\xa9\\xb0\\xe7\\xb7\\x92\\xe3\\x81\\xae\\xe3\\x81\\x82\\xe3\\x82\\x8b\\xe9\\x99\\x84\\xe8\\xbf\\x91) \\xe3\\x81\\xb8\\xe9\\x80\\x9a\\xe3\\x81\\xa4\\xe3\\x81\\x9f\\xe3\\x82\\x82\\xe3\\x81\\xae\\xe3\\x81\\xa0\\xe3\\x80\\x82\\xe3\\x81\\x9d\\xe3\\x81\\x93\\xe3\\x82\\x92\\xe5\\x87\\xba\\xe3\\x81\\xa6\\xe5\\xa4\\xa7\\xe7\\x95\\x91\\xe3\\x81\\xae\\xe9\\xab\\x98\\xe7\\xad\\x89\\xe5\\xb0\\x8f\\xe5\\xad\\xb8\\xe6\\xa0\\xa1\\xe3\\x81\\xb8\\xe9\\x80\\xb2\\xe3\\x82\\x93\\xe3\\x81\\xa0\\xe3\\x81\\x8c\\xe3\\x80\\x81\\xe6\\x88\\x90\\xe7\\xb8\\xbe\\xe3\\x81\\xaf\\xe3\\x81\\x91\\xe3\\x81\\xa4\\xe3\\x81\\x97\\xe3\\x81\\xa6\\xe5\\x84\\xaa\\xe7\\xad\\x89\\xe3\\x81\\xa9\\n\\xe3\\x81\\x93\\xe3\\x82\\x8d\\xe3\\x81\\xa7\\xe3\\x81\\xaa\\xe3\\x81\\x8f\\xe3\\x80\\x81\\xe3\\x82\\x84\\xe3\\x81\\x86\\xe3\\x82\\x84\\xe3\\x81\\x8f\\xe3\\x80\\x88\\xe7\\x9c\\x9e\\xe4\\xb8\\xad\\xe3\\x81\\xb8\\xe3\\x81\\xa8\\xe3\\x81\\xa9\\xe3\\x81\\x8f\\xe3\\x81\\x8b\\xe3\\x81\\xa8\\xe3\\x81\\xa9\\xe3\\x81\\x8b\\xe3\\x81\\xaa\\xe3\\x81\\x84\\xe3\\x81\\x8b\\xe3\\x81\\xa8\\xe3\\x81\\x84\\xe3\\x81\\xb5\\xe7\\xa8\\x8b\\xe5\\xba\\xa6\\xe3\\x81\\xa0\\xe3\\x81\\xa4\\xe3\\x81\\x9f\\xe3\\x80\\x82\\n\\n\\xe5\\x8d\\x92\\xe6\\xa5\\xad\\xe3\\x81\\x99\\xe3\\x82\\x8b\\xe6\\x99\\x82\\xe3\\x80\\x81\\xe5\\xa6\\x82\\xe6\\xa0\\xa1\\xe3\\x81\\xb8\\xe8\\x87\\xaa\\xe5\\x88\\x86\\xe3\\x81\\xae\\xe7\\x9b\\xae\\xe7\\x9a\\x84\\xe3\\x82\\x92\\xe7\\xb4\\x99\\xe3\\x81\\xab\\xe6\\x9b\\xb8\\xe3\\x81\\x84\\xe3\\x81\\xa6\\xe5\\x87\\xba\\xe3\\x81\\x99\\xe3\\x81\\x93\\xe3\\x81\\xa8\\xe3\\x81\\xa8\\xe3\\x81\\xaa\\xe3\\x81\\xa4\\xe3\\x81\\x9f\\xe3\\x80\\x82\\xe3\\x81\\x9d\\xe3\\x81\\xae\\xe6\\x99\\x82\\xe7\\xa7\\x81\\xe3\\x81\\xae\\xe5\\x90\\x8c\\xe7\\xb4\\x9a\\xe7\\x94\\x9f\\xe3\\x81\\xaf\\xe5\\xbc\\xa7\\xe7\\x90\\x86\\xe5\\xa4\\xa7\\xe8\\x87\\xa3\\xe3\\x81\\xab\\xe3\\x81\\xaa\\xe3\\x82\\x8a\\xe3\\x81\\x9f\\xe3\\x81\\x84\\xe3\\x81\\xa8\\xe3\\x81\\x8b\\xe3\\x80\\x81\\xe9\\x99\\xb8\\xe8\\xbb\\x8d\\xe5\\xa4\\xa7\\xe8\\x87\\xa3\\xe3\\x81\\x91\\xe3\\x82\\x93\\xe6\\xb5\\xb7\\xe8\\xbb\\x8d\\xe5\\xa4\\xa7\\xe8\\x87\\xa3\\xe3\\x81\\xab\\xe3\\x81\\xaa\\xe3\\x82\\x8b\\xe3\\x81\\xa8\\xe3\\x81\\x8b\\xe3\\x80\\x81\\xe3\\x81\\x95\\xe3\\x81\\x86\\xe3\\x81\\x84\\xe3\\x81\\xb5\\xe3\\x81\\x93\\xe3\\x81\\xa8\\xe3\\x82\\x92\\xe3\\x81\\xaf\\xe3\\x81\\xaa\\xe3\\x81\\xb0\\n\\xe3\\x81\\xaa\\xe3\\x81\\x97\\xe3\\x81\\x8f\\xe6\\x9b\\xb8\\xe3\\x81\\x84\\xe3\\x81\\xa6\\xe5\\x87\\xba\\xe3\\x81\\x97\\xe3\\x81\\x9f\\xe4\\xba\\xba\\xe3\\x81\\x8c\\xe5\\xa4\\x9a\\xe3\\x81\\x8b\\xe3\\x81\\xa4\\xe3\\x81\\x9f\\xe3\\x80\\x82 \\xe7\\xa7\\x81\\xe3\\x81\\xaf\\xe4\\xbb\\x8a\\xe3\\x81\\xa7\\xe3\\x82\\x82\\xe3\\x82\\x8f\\xe3\\x81\\x99\\xe3\\x82\\x8c\\xe3\\x81\\xaa\\xe3\\x81\\x84\\xe3\\x81\\x8c\\xe3\\x80\\x81\\xe5\\xb0\\x8f\\xe6\\xa0\\xa1\\xe3\\x82\\x92\\xe5\\x87\\xba\\xe3\\x81\\x9f\\xe3\\x81\\xaa\\xe3\\x82\\x89\\xe7\\x99\\xbe\\xe5\\xa7\\x93\\xe3\\x81\\xab\\xe3\\x81\\xaa\\xe3\\x82\\x8b\\xe3\\x80\\x81\\xe3\\x81\\x9f\\xe3\\x81\\xa0\\xe3\\x81\\xae\\xe7\\x99\\xbe\\xe5\\xa7\\x93\\xe3\\x81\\xa7\\xe4\\xb8\\x80\\xe7\\x94\\x9f\\xe3\\x81\\x8f\\xe3\\x82\\x89\\xe3\\x81\\x97\\xe3\\x81\\x9f\\xe3\\x81\\x84\\xe3\\x81\\xa8\\xe3\\x81\\x84\\xe3\\x81\\xb5\\xe3\\x81\\x93\\xe3\\x81\\xa8\\xe3\\x82\\x92\\xe6\\x9b\\xb8\\xe3\\x81\\x84\\xe3\\x81\\xa6\\xe5\\x87\\xba\\xe3\\x81\\x97\\xe3\\x81\\x9f\\xe8\\xa8\\x98\\xe6\\x86\\xb6\\xe3\\x81\\x8c\\xe3\\x81\\x82\\xe3\\x82\\x8b\\xe3\\x80\\x82\\n\\n\\xe5\\x85\\x9a\\xe6\\x99\\x82\\xe3\\x81\\x9d\\xe3\\x82\\x93\\xe3\\x81\\xaa\\xe3\\x81\\x93\\xe3\\x81\\xa8\\xe3\\x82\\x92\\xe6\\x9b\\xb8\\xe3\\x81\\x84\\xe3\\x81\\x9f\\xe3\\x81\\xae\\xe3\\x81\\xaf\\xe7\\xa7\\x81\\xe3\\x81\\xa0\\xe3\\x81\\x91\\xe3\\x81\\xa0\\xe3\\x81\\xa4\\xe3\\x81\\x9f\\xe3\\x81\\xa8\\xe6\\x80\\x9d\\xe3\\x81\\xb5\\xe3\\x80\\x82\\xe5\\x96\\xb6\\xe6\\x99\\x82\\xe3\\x81\\xae\\xe7\\xa7\\x81\\xe3\\x81\\xaf\\xe5\\xb9\\xb4\\xe9\\xbd\\xa2\\xe7\\x9a\\x84\\xe3\\x81\\xab\\xe3\\x82\\x82\\xe5\\xb8\\x8c\\xe6\\x9c\\x9b\\xe3\\x81\\xab\\xe8\\xbc\\x9d\\xe3\\x81\\x84\\xe3\\x81\\xa6\\xe3\\x82\\x92\\xe3\\x82\\x89\\xe3\\x81\\x9a\\xe6\\x88\\x90\\xe7\\xb8\\xbe\\xe3\\x82\\x82\\xe3\\x81\\xa1\\xe3\\x81\\x82\\xe3\\x81\\xbe\\xe3\\x82\\x8a\\xe3\\x82\\x88\\xe3\\x81\\x8f\\xe3\\x81\\xaa\\xe3\\x81\\x8b\\xe3\\x81\\xa4\\xe3\\x81\\x9f\\xe3\\x81\\x9f\\xe3\\x82\\x81\\xe3\\x81\\xab\\xe3\\x80\\x81\\xe3\\x81\\x9d\\xe3\\x82\\x93\\xe3\\x81\\xaa\\xe3\\x81\\x93\\xe3\\x81\\xa8\\xe3\\x82\\x92\\xe6\\x9b\\xb8\\xe3\\x81\\x84\\xe3\\x81\\x9f\\xe3\\x81\\xae\\xe3\\x81\\xa0\\xe3\\x82\\x89\\xe3\\x81\\x86\\xe3\\x81\\xa8\\xe6\\x80\\x9d\\xe3\\x81\\xb5\\xe3\\x80\\x82\\n\\n\\xe3\\x81\\x91\\xe3\\x81\\xa4\\xe3\\x81\\x97\\xe3\\x81\\xa6\\xe4\\xbb\\x8a\\xe3\\x81\\x84\\xe3\\x81\\xb5\\xe3\\x81\\xa8\\xe3\\x81\\x93\\xe3\\x82\\x8d\\xe3\\x81\\xae\\xe5\\xb9\\xb3\\xe6\\xb0\\x91\\xe6\\x80\\x9d\\xe6\\x83\\xb3\\xe3\\x81\\xa8\\xe3\\x81\\x8b\\xe3\\x82\\x92\\xe6\\xbe\\xa4\\xe6\\x99\\x82\\xe3\\x82\\x82\\xe3\\x81\\xa4\\xe3\\x81\\xa6\\xe3\\x82\\x90\\xe3\\x81\\x9f\\xe3\\x81\\xae\\xe3\\x81\\xa7\\xe3\\x81\\xaf\\xe3\\x81\\xaa\\xe3\\x81\\x84\\xe3\\x80\\x82\\xe3\\x81\\x9f\\xe3\\x81\\xa0\\xe7\\xa7\\x81\\xe3\\x81\\x8c\\xe3\\x80\\x81\\xe3\\x81\\xb5\\xe3\\x82\\x8b\\xe3\\x81\\xaf\\xe3\\x81\\xaa\\xe3\\x81\\x84\\xe3\\x80\\x81\\xe5\\xb9\\xb3\\xe5\\x87\\xa1\\xe3\\x81\\xaa\\xe3\\x80\\x81\\xe3\\x81\\x9d\\xe3\\x81\\x97\\xe3\\x81\\xa6\\xe8\\x83\\xb8\\xe5\\x95\\x8f\\xe3\\x82\\x82\\xe3\\x81\\x82\\xe3\\x81\\xbe\\xe3\\x82\\x8a\\xe3\\x81\\xaf\\xe3\\x81\\xaa\\xe3\\x81\\xb0\\xe3\\x81\\xaa\\xe3\\x81\\x97\\xe3\\x81\\x8f\\xe3\\x81\\xaa\\xe3\\x81\\x84\\xe3\\x81\\x9f\\xe3\\x81\\xa0\\xe3\\x81\\xae\\xe5\\xad\\x90\\xe4\\xbe\\x9b\\xe3\\x81\\xa0\\xe3\\x81\\xa4\\xe3\\x81\\x9f\\xe3\\x81\\x93\\xe3\\x81\\xa8\\xe3\\x82\\x92\\xe7\\xa4\\xba\\xe3\\x81\\x99\\n\\xe3\\x82\\x82\\xe3\\x81\\xae\\xe3\\x81\\xa0\\xe3\\x80\\x82\\n\\n\\xe3\\x81\\x97\\xe3\\x81\\x8b\\xe3\\x81\\x97\\xe3\\x81\\x9d\\xe3\\x82\\x8c\\xe3\\x81\\x8b\\xe3\\x82\\x89\\xe4\\xb8\\xad\\xe8\\xbe\\xb1\\xe3\\x81\\xb8\\xe3\\x82\\x84\\xe3\\x81\\xa4\\xe3\\x81\\xa6\\xe3\\x82\\x82\\xe3\\x82\\x89\\xe3\\x81\\xb2\\xe3\\x80\\x81\\xe9\\x80\\xb2\\xe3\\x82\\x93\\xe3\\x81\\xa7\\xe5\\xa4\\xa7\\xe5\\xad\\xb8\\xe3\\x82\\x82\\xe5\\x87\\xba\\xe3\\x82\\x8b\\xe3\\x81\\x93\\xe3\\x81\\xa8\\xe3\\x81\\x8c\\xe3\\x81\\xa7\\xe3\\x81\\x8d\\xe3\\x80\\x81\\xe4\\xbb\\x8a\\xe6\\x97\\xa5\\xe3\\x81\\xbe\\xe3\\x81\\xa7\\xe4\\xba\\x86\\xe5\\x95\\x8f\\xe3\\x82\\x92\\xe3\\x81\\xa4\\xe3\\x81\\xa5\\xe3\\x81\\x91\\xe3\\x82\\x8b\\xe3\\x81\\x93\\xe3\\x81\\xa8\\xe3\\x81\\x8c\\xe3\\x81\\xa7\\xe3\\x81\\x8d\\xe3\\x81\\x9f\\xe3\\x80\\x82 \\xe6\\x9c\\x80\\xe5\\x88\\x9d\\xe5\\xb6\\x8b\\xe3\\x81\\x8c\\xe3\\x82\\x88\\xe3\\x82\\x8f\\xe3\\x81\\x8b\\xe3\\x81\\xa4\\xe3\\x81\\x9f\\xe3\\x81\\xae\\xe3\\x81\\xa7\\xe3\\x80\\x81\\xe5\\xb8\\x8c\\xe6\\x9c\\x9b\\xe3\\x82\\x82\\xe6\\xb6\\x88\\xe6\\xa5\\xb5\\xe7\\x9a\\x84\\xe3\\x81\\xa0\\xe3\\x81\\xa4\\xe3\\x81\\x9f\\xe3\\x81\\xa8\\xe6\\x80\\x9d\\xe3\\x81\\xb5\\xe3\\x81\\x8c\\xe3\\x80\\x81\\xe4\\xbb\\x8a\\n\\xe6\\x97\\xa5\\xe4\\xb8\\x83\\xe5\\x8d\\x81\\xe4\\xba\\x8c\\xe6\\xad\\xb3\\xe3\\x81\\xae\\xe9\\xab\\x98\\xe9\\xbd\\xa2\\xe3\\x81\\xab\\xe9\\x81\\x94\\xe3\\x81\\x97\\xe3\\x81\\xa6\\xe3\\x82\\x82\\xe3\\x80\\x81\\xe3\\x82\\x8f\\xe3\\x82\\x8a\\xe3\\x81\\x82\\xe3\\x81\\xb2\\xe4\\xb8\\x88\\xe5\\xa4\\xab\\xe3\\x81\\xa7\\xe3\\x82\\x90\\xe3\\x82\\x8b\\xe3\\x80\\x82\\xe4\\xba\\xba\\xe9\\x96\\x93\\xe3\\x81\\xae\\xe4\\xb8\\x80\\xe7\\x94\\x9f\\xe3\\x81\\xa8\\xe3\\x81\\x84\\xe3\\x81\\xb5\\xe3\\x82\\x82\\xe3\\x81\\xae\\xe3\\x81\\xaf\\xe3\\x81\\x91\\xe3\\x81\\xa4\\xe3\\x81\\x97\\xe3\\x81\\xa6\\xe4\\xba\\x8c\\xe5\\xb9\\xb4\\xe3\\x82\\x84\\xe3\\x82\\x84\\xe4\\xb8\\x89\\xe5\\xb9\\xb4\\xe3\\x81\\xa7\\xe5\\x8b\\x9d\\xe8\\xb2\\xa0\\xe3\\x81\\xae\\xe3\\x81\\xa4\\xe3\\x81\\x8f\\xe3\\x80\\x81\\xe3\\x81\\x84\\xe3\\x81\\xaf\\xe3\\x81\\xb0\\xe7\\x9f\\xad\\xe8\\xb7\\x9d\\xe9\\x9b\\xa2\\xe7\\xab\\xb6\\xe8\\xb5\\xb0\\xe3\\x81\\xa7\\xe3\\x81\\xaf\\xe3\\x81\\xaa\\xe3\\x81\\x8f\\xe3\\x80\\x81\\xe5\\x85\\xad\\xe5\\x8d\\x81\\xe5\\xb9\\xb4\\xe3\\x80\\x81\\xe4\\xb8\\x83\\xe5\\x8d\\x81\\xe5\\xb9\\xb4\\xe3\\x80\\x81\\xe6\\x99\\x82\\xe3\\x81\\xa8\\xe3\\x81\\x97\\xe3\\x81\\xa6\\xe7\\x99\\xbe\\n\\xe5\\xb9\\xb4\\xe3\\x81\\xab\\xe3\\x82\\x82\\xe3\\x82\\x8f\\xe3\\x81\\x9f\\xe3\\x82\\x8b\\xe9\\x95\\xb7\\xe8\\xb7\\x9d\\xe9\\x9b\\xa2\\xe7\\xab\\xb6\\xe8\\xb5\\xb0\\xe3\\x81\\xa0\\xe3\\x81\\x8b\\xe3\\x82\\x89\\xe3\\x80\\x81\\xe3\\x81\\xaa\\xe3\\x82\\x93\\xe3\\x81\\xa8\\xe3\\x81\\x84\\xe3\\x81\\xa4\\xe3\\x81\\xa6\\xe3\\x82\\x82\\xe5\\x8c\\x82\\xe3\\x81\\x8c\\xe4\\xb8\\x80\\xe7\\x95\\xaa\\xe5\\xa4\\xa7\\xe5\\x88\\x87\\xe3\\x81\\xa0\\xe3\\x80\\x82\\n\\n\\xe3\\x81\\x97\\xe3\\x81\\x8b\\xe3\\x81\\x97\\xe3\\x81\\x9d\\xe3\\x81\\xae\\xe8\\xb3\\xbc\\xe3\\x82\\x82\\xe3\\x80\\x81\\xe3\\x82\\x82\\xe3\\x81\\xa1\\xe3\\x82\\x84\\xe3\\x81\\x86\\xe3\\x81\\xab\\xe3\\x82\\x88\\xe3\\x81\\xa4\\xe3\\x81\\xa6\\xe3\\x81\\xaf\\xe3\\x82\\x82\\xe3\\x81\\xa4\\xe3\\x82\\x82\\xe3\\x81\\xae\\xe3\\x81\\xa0\\xe3\\x80\\x82 \\xe7\\xa7\\x81\\xe3\\x81\\xae\\xe7\\x9f\\xa5\\xe4\\xba\\xba\\xe3\\x81\\xa7\\xe5\\x85\\xab\\xe5\\x8d\\x81\\xe4\\xbd\\x95\\xe6\\xad\\xb3\\xe3\\x81\\xab\\xe3\\x81\\xaa\\xe3\\x82\\x8b\\xe4\\xba\\xba\\xe3\\x81\\xa7\\xe3\\x80\\x81\\xe5\\xad\\x90\\xe4\\xbe\\x9b\\xe3\\x81\\xae\\xe6\\x99\\x82\\xe9\\xaa\\xa8\\xe3\\x81\\x8c\\xe5\\xbc\\xb1\\xe3\\x81\\x8b\\xe3\\x81\\xa4\\xe3\\x81\\x9f\\xe3\\x81\\xa8\\xe3\\x81\\x84\\xe3\\x81\\xb5\\xe4\\xba\\xba\\xe3\\x81\\x8c\\xe4\\xba\\x8c\\xe4\\xba\\xba\\xe3\\x82\\x82\\xe4\\xb8\\x89\\xe4\\xba\\xba\\xe3\\x82\\x82\\xe3\\x82\\x90\\xe3\\x82\\x8b\\xe3\\x80\\x82\\n\\n\\xe8\\x87\\xaa\\xe5\\x88\\x86\\xe3\\x81\\xae\\xe9\\xaa\\xb8\\xe3\\x81\\xae\\xe3\\x81\\x8f\\xe3\\x81\\x9b\\xe3\\x81\\xa8\\xe3\\x80\\x81\\xe5\\xbc\\xb1\\xe3\\x81\\xbf\\xe3\\x82\\x92\\xe5\\xae\\x88\\xe3\\x81\\xa4\\xe3\\x81\\xa6\\xe3\\x82\\x86\\xe3\\x81\\x8f\\xe3\\x80\\x81\\xe3\\x81\\x9d\\xe3\\x81\\xae\\xe6\\x89\\x8b\\xe3\\x81\\x8b\\xe3\\x81\\x92\\xe3\\x82\\x93\\xe3\\x81\\x95\\xe3\\x81\\xb8\\xe3\\x82\\x8f\\xe3\\x81\\x8b\\xe3\\x82\\x8c\\xe3\\x81\\xb0\\xe3\\x80\\x81\\xe3\\x81\\x82\\xe3\\x82\\x93\\xe3\\x81\\xa7\\xe3\\x82\\x8f\\xe3\\x81\\x84\\xe9\\x95\\xb7\\xe3\\x81\\x8f\\xe3\\x80\\x81\\xe6\\x9c\\x80\\xe5\\x88\\x9d\\xe8\\xb3\\xbc\\xe3\\x81\\xae\\xe5\\xbc\\xb7\\xe3\\x81\\x84\\xe3\\x81\\xae\\xe3\\x82\\x92\\xe3\\x81\\xbb\\xe3\\x81\\x93\\xe3\\x81\\xa4\\xe3\\x81\\xa6\\xe3\\x82\\x90\\xe3\\x81\\x9f\\xe4\\xba\\xba\\xe3\\x82\\x88\\xe3\\x82\\x8a\\xe3\\x82\\x82\\xe3\\x80\\x81\\xe3\\x81\\x8b\\xe3\\x81\\xb8\\xe3\\x81\\xa4\\xe3\\x81\\xa6\\xe9\\x95\\xb7\\xe7\\x94\\x9f\\xe3\\x81\\x8d\\xe3\\x82\\x92\\xe3\\x81\\x99\\xe3\\x82\\x8b\\xe3\\x81\\x93\\xe3\\x81\\xa8\\xe3\\x81\\x8c\\xe3\\x81\\xa7\\xe3\\x81\\x8d\\xe3\\x82\\x8b\\xe3\\x81\\xa8\\xe3\\x81\\x84\\n\\xe3\\x81\\xb5\\xe3\\x81\\x93\\xe3\\x81\\xa8\\xe3\\x81\\x8c\\xe3\\x82\\x8f\\xe3\\x81\\x8b\\xe3\\x82\\x8b\\xe3\\x80\\x82\\n\\n \\n\\n \\n\\n \\n\\n \\n\\n \\n\\n \\n\\n \\n\\n \\n\\n \\n\\x0c'\n"
          ]
        }
      ]
    },
    {
      "cell_type": "code",
      "source": [
        "print(text.decode())"
      ],
      "metadata": {
        "colab": {
          "base_uri": "https://localhost:8080/"
        },
        "id": "cSh6ZFkSf6Cx",
        "outputId": "fa7ce895-ee54-40c1-97e4-e3cd34311c28"
      },
      "execution_count": 35,
      "outputs": [
        {
          "output_type": "stream",
          "name": "stdout",
          "text": [
            "少年少女におくる言葉\n",
            "公津ハー\n",
            "\n",
            " \n",
            "\n",
            "私は新潟の生れで小學校は西畑小學校 (今はないが、廣小路の消防の詰緒のある附近) へ通つたものだ。そこを出て大畑の高等小學校へ進んだが、成績はけつして優等ど\n",
            "ころでなく、やうやく〈眞中へとどくかとどかないかといふ程度だつた。\n",
            "\n",
            "卒業する時、如校へ自分の目的を紙に書いて出すこととなつた。その時私の同級生は弧理大臣になりたいとか、陸軍大臣けん海軍大臣になるとか、さういふことをはなば\n",
            "なしく書いて出した人が多かつた。 私は今でもわすれないが、小校を出たなら百姓になる、ただの百姓で一生くらしたいといふことを書いて出した記憶がある。\n",
            "\n",
            "党時そんなことを書いたのは私だけだつたと思ふ。営時の私は年齢的にも希望に輝いてをらず成績もちあまりよくなかつたために、そんなことを書いたのだらうと思ふ。\n",
            "\n",
            "けつして今いふところの平民思想とかを澤時もつてゐたのではない。ただ私が、ふるはない、平凡な、そして胸問もあまりはなばなしくないただの子供だつたことを示す\n",
            "ものだ。\n",
            "\n",
            "しかしそれから中辱へやつてもらひ、進んで大學も出ることができ、今日まで了問をつづけることができた。 最初嶋がよわかつたので、希望も消極的だつたと思ふが、今\n",
            "日七十二歳の高齢に達しても、わりあひ丈夫でゐる。人間の一生といふものはけつして二年やや三年で勝負のつく、いはば短距離競走ではなく、六十年、七十年、時として百\n",
            "年にもわたる長距離競走だから、なんといつても匂が一番大切だ。\n",
            "\n",
            "しかしその購も、もちやうによつてはもつものだ。 私の知人で八十何歳になる人で、子供の時骨が弱かつたといふ人が二人も三人もゐる。\n",
            "\n",
            "自分の骸のくせと、弱みを守つてゆく、その手かげんさへわかれば、あんでわい長く、最初購の強いのをほこつてゐた人よりも、かへつて長生きをすることができるとい\n",
            "ふことがわかる。\n",
            "\n",
            " \n",
            "\n",
            " \n",
            "\n",
            " \n",
            "\n",
            " \n",
            "\n",
            " \n",
            "\n",
            " \n",
            "\n",
            " \n",
            "\n",
            " \n",
            "\n",
            " \n",
            "\f\n"
          ]
        }
      ]
    },
    {
      "cell_type": "markdown",
      "source": [
        ""
      ],
      "metadata": {
        "id": "cHMYiKb1aOxK"
      }
    },
    {
      "cell_type": "markdown",
      "source": [
        "コード 5.16"
      ],
      "metadata": {
        "id": "vpcS-QaQDeJr"
      }
    },
    {
      "cell_type": "code",
      "execution_count": null,
      "metadata": {
        "colab": {
          "base_uri": "https://localhost:8080/"
        },
        "id": "mOmynfMdc12N",
        "outputId": "2f7077cd-1c54-4f03-97a0-56768ac94f0c"
      },
      "outputs": [
        {
          "output_type": "stream",
          "name": "stdout",
          "text": [
            "Requirement already satisfied: nltk in /usr/local/lib/python3.7/dist-packages (3.2.5)\n",
            "Requirement already satisfied: six in /usr/local/lib/python3.7/dist-packages (from nltk) (1.15.0)\n"
          ]
        }
      ],
      "source": [
        "!pip install nltk"
      ]
    },
    {
      "cell_type": "code",
      "source": [
        "import nltk\n",
        "from nltk.corpus import wordnet\n",
        "\n",
        "nltk.download('wordnet')"
      ],
      "metadata": {
        "colab": {
          "base_uri": "https://localhost:8080/"
        },
        "id": "oQJkA-ZGEdko",
        "outputId": "77032147-c377-46df-c2e7-dcd69ca232ea"
      },
      "execution_count": 5,
      "outputs": [
        {
          "output_type": "stream",
          "name": "stdout",
          "text": [
            "[nltk_data] Downloading package wordnet to /root/nltk_data...\n",
            "[nltk_data]   Unzipping corpora/wordnet.zip.\n"
          ]
        },
        {
          "output_type": "execute_result",
          "data": {
            "text/plain": [
              "True"
            ]
          },
          "metadata": {},
          "execution_count": 5
        }
      ]
    },
    {
      "cell_type": "code",
      "source": [
        "from nltk.corpus import wordnet\n",
        "syns = wordnet.synsets(\"good\")\n",
        "print(\"Definition: \", syns[0].definition())\n",
        "print(\"Example: \", syns[0].examples())\n",
        "synonyms = []\n",
        "antonyms = []\n",
        "# 類義語と対義語(反対の意味を持つ語)を出力\n",
        "for syn in wordnet.synsets(\"good\"):\n",
        "     for l in syn.lemmas():\n",
        "        synonyms.append(l.name())\n",
        "        if l.antonyms():\n",
        "             antonyms.append(l.antonyms()[0].name())\n",
        "print (\"synonyms: \\n\", set(synonyms))\n",
        "print (\"antonyms: \\n\", set(antonyms))"
      ],
      "metadata": {
        "colab": {
          "base_uri": "https://localhost:8080/"
        },
        "id": "5flbIvI2DcVO",
        "outputId": "4cc62d37-cb79-4501-9bf9-4675e1c899fd"
      },
      "execution_count": 6,
      "outputs": [
        {
          "output_type": "stream",
          "name": "stdout",
          "text": [
            "Definition:  benefit\n",
            "Example:  ['for your own good', \"what's the good of worrying?\"]\n",
            "synonyms: \n",
            " {'in_force', 'undecomposed', 'just', 'salutary', 'skilful', 'thoroughly', 'effective', 'ripe', 'dependable', 'respectable', 'dear', 'trade_good', 'serious', 'upright', 'unspoiled', 'soundly', 'beneficial', 'full', 'right', 'safe', 'skillful', 'honorable', 'practiced', 'sound', 'well', 'expert', 'commodity', 'estimable', 'honest', 'proficient', 'near', 'goodness', 'good', 'in_effect', 'adept', 'unspoilt', 'secure'}\n",
            "antonyms: \n",
            " {'badness', 'evil', 'bad', 'evilness', 'ill'}\n"
          ]
        }
      ]
    },
    {
      "cell_type": "markdown",
      "source": [
        "コード 5.19"
      ],
      "metadata": {
        "id": "I1IUFatTFZVg"
      }
    },
    {
      "cell_type": "code",
      "source": [
        "import os\n",
        "import pandas as pd\n",
        "from sklearn.feature_extraction.text import CountVectorizer\n",
        "# フォルダ内のすべてのファイルに対してファイル名をキー，テキストを値とする辞書を作成する関数\n",
        "def CorpusFromDir(dir_path):\n",
        "    result = dict(\n",
        "        docs = [open(os.path.join(dir_path,f)).read() for f in\n",
        "                os.listdir(dir_path)],\n",
        "           ColNames = map(\n",
        "               lambda x: x, os.listdir(dir_path)))\n",
        "    return result\n",
        "\n",
        "docs = CorpusFromDir('Data/text_files')\n",
        "# 初期化\n",
        "vectorizer = CountVectorizer()\n",
        "doc_vec = vectorizer.fit_transform(docs.get('docs'))\n",
        "# データフレームの作成\n",
        "df = pd.DataFrame(doc_vec.toarray().transpose(),\n",
        "                  index = vectorizer.get_feature_names())\n",
        "# 列名をファイル名となるように変換\n",
        "df.columns = docs.get('ColNames')\n",
        "print (df)"
      ],
      "metadata": {
        "colab": {
          "base_uri": "https://localhost:8080/"
        },
        "id": "7L6Fhq0ZFcl5",
        "outputId": "9a1ed426-0ed3-48c0-acea-43a2b5d0b50d"
      },
      "execution_count": 21,
      "outputs": [
        {
          "output_type": "stream",
          "name": "stdout",
          "text": [
            "             Doc_1.txt  Doc_3.txt  Doc_2.txt\n",
            "analytics            1          0          1\n",
            "and                  1          1          1\n",
            "are                  1          0          1\n",
            "books                0          1          0\n",
            "domain               0          0          1\n",
            "equally              1          0          0\n",
            "for                  1          0          1\n",
            "important            1          0          1\n",
            "knowledge            0          0          1\n",
            "like                 0          1          0\n",
            "programming          1          0          0\n",
            "reading              0          1          0\n",
            "skills               2          0          1\n",
            "statistics           1          0          1\n",
            "travelling           0          1          0\n"
          ]
        },
        {
          "output_type": "stream",
          "name": "stderr",
          "text": [
            "/usr/local/lib/python3.7/dist-packages/sklearn/utils/deprecation.py:87: FutureWarning: Function get_feature_names is deprecated; get_feature_names is deprecated in 1.0 and will be removed in 1.2. Please use get_feature_names_out instead.\n",
            "  warnings.warn(msg, category=FutureWarning)\n"
          ]
        }
      ]
    },
    {
      "cell_type": "markdown",
      "source": [
        "コード 5.21"
      ],
      "metadata": {
        "id": "Sm6CxgJflIhW"
      }
    },
    {
      "cell_type": "code",
      "source": [
        "import numpy as np"
      ],
      "metadata": {
        "id": "opScLgkxlrDE"
      },
      "execution_count": 50,
      "outputs": []
    },
    {
      "cell_type": "code",
      "source": [
        "freq = df.iloc[:,0].sort_values(ascending=False, inplace=False)\n",
        "words = freq.index\n",
        "pos = np.arange(len(words))\n",
        "width=1.0\n",
        "ax=plt.axes(frameon=True)\n",
        "ax.set_xticks(pos)\n",
        "ax.set_xticklabels(words, rotation='vertical', fontsize=9)\n",
        "ax.set_title('Word Frequency Chart')\n",
        "ax.set_xlabel('Words')\n",
        "ax.set_ylabel('Frequency')\n",
        "plt.bar(pos, freq, width, color='b')\n",
        "plt.show()"
      ],
      "metadata": {
        "colab": {
          "base_uri": "https://localhost:8080/",
          "height": 347
        },
        "id": "d_dgoHRalLJf",
        "outputId": "7fcc2ca6-d6c0-4f6b-e334-326ffeb8f787"
      },
      "execution_count": 60,
      "outputs": [
        {
          "output_type": "display_data",
          "data": {
            "text/plain": [
              "<Figure size 432x288 with 1 Axes>"
            ],
            "image/png": "[encoded data removed]"
          },
          "metadata": {
            "needs_background": "light"
          }
        }
      ]
    },
    {
      "cell_type": "markdown",
      "source": [
        "コード 5.22"
      ],
      "metadata": {
        "id": "C3w6s0-JdXB5"
      }
    },
    {
      "cell_type": "code",
      "source": [
        "!pip install WordCloud"
      ],
      "metadata": {
        "colab": {
          "base_uri": "https://localhost:8080/"
        },
        "id": "XW2cnUS9dcg9",
        "outputId": "583084cc-60f9-499c-e1d7-3ba19fa95cbc"
      },
      "execution_count": null,
      "outputs": [
        {
          "output_type": "stream",
          "name": "stdout",
          "text": [
            "Requirement already satisfied: WordCloud in /usr/local/lib/python3.7/dist-packages (1.5.0)\n",
            "Requirement already satisfied: pillow in /usr/local/lib/python3.7/dist-packages (from WordCloud) (7.1.2)\n",
            "Requirement already satisfied: numpy>=1.6.1 in /usr/local/lib/python3.7/dist-packages (from WordCloud) (1.21.6)\n"
          ]
        }
      ]
    },
    {
      "cell_type": "code",
      "source": [
        "from wordcloud import WordCloud\n",
        "# テキスト全体の読み込み\n",
        "text = open('Data/text_files/Doc_1.txt').read()\n",
        "# ワードクラウド画像の生成\n",
        "wordcloud = WordCloud().generate(text)\n",
        "# 生成された画像の描画:\n",
        "# matplotlibによる方法:\n",
        "import matplotlib.pyplot as plt\n",
        "plt.imshow(wordcloud.recolor(random_state=2017))\n",
        "plt.title('Most Frequent Words')\n",
        "plt.axis(\"off\")\n",
        "plt.show()"
      ],
      "metadata": {
        "id": "uZx1FFgRdDE6",
        "colab": {
          "base_uri": "https://localhost:8080/",
          "height": 214
        },
        "outputId": "6d80b829-23bd-441e-ff73-c76efac73303"
      },
      "execution_count": null,
      "outputs": [
        {
          "output_type": "display_data",
          "data": {
            "text/plain": [
              "<Figure size 432x288 with 1 Axes>"
            ],
            "image/png": "[encoded data removed]"
          },
          "metadata": {
            "needs_background": "light"
          }
        }
      ]
    },
    {
      "cell_type": "markdown",
      "source": [
        "コード 5.23"
      ],
      "metadata": {
        "id": "bpfRUJtci2XT"
      }
    },
    {
      "cell_type": "code",
      "source": [
        "nltk.download('punkt')"
      ],
      "metadata": {
        "colab": {
          "base_uri": "https://localhost:8080/"
        },
        "id": "1H8qavTNjsal",
        "outputId": "0204ff56-8510-499d-c85e-24822ab84704"
      },
      "execution_count": 43,
      "outputs": [
        {
          "output_type": "stream",
          "name": "stdout",
          "text": [
            "[nltk_data] Downloading package punkt to /root/nltk_data...\n",
            "[nltk_data]   Unzipping tokenizers/punkt.zip.\n"
          ]
        },
        {
          "output_type": "execute_result",
          "data": {
            "text/plain": [
              "True"
            ]
          },
          "metadata": {},
          "execution_count": 43
        }
      ]
    },
    {
      "cell_type": "code",
      "source": [
        "import matplotlib.pyplot as plt"
      ],
      "metadata": {
        "id": "-i9w7iQNjbtV"
      },
      "execution_count": 38,
      "outputs": []
    },
    {
      "cell_type": "code",
      "source": [
        "from nltk import word_tokenize\n",
        "\n",
        "def dispersion_plot(text, words):\n",
        "    words_token = word_tokenize(text)\n",
        "    points = [(x,y) for x in range(len(words_token))\n",
        "    for y in range(len(words)) if words_token[x] == words[y]]\n",
        "    if points:\n",
        "        x,y=zip(*points)\n",
        "    else:\n",
        "        x=y=()\n",
        "\n",
        "    plt.plot(x,y,\"rx\",scalex=.1)\n",
        "    plt.yticks(range(len(words)),words,color=\"b\")\n",
        "    plt.ylim(-1,len(words))\n",
        "    plt.title(\"Lexical Dispersion Plot\")\n",
        "    plt.xlabel(\"Word Offset\")\n",
        "    plt.show()\n",
        "text = 'statistics skills and programming skills are equally important for \\\n",
        "     analytics. statistics skills and domain knowledge are important for \\\n",
        "     analytics'\n",
        "dispersion_plot(text, ['statistics', 'skills', 'and', 'important'])"
      ],
      "metadata": {
        "colab": {
          "base_uri": "https://localhost:8080/",
          "height": 295
        },
        "id": "QGjCrrjzi46M",
        "outputId": "7cfac45a-645c-402c-e4ce-c7e5a4c68328"
      },
      "execution_count": 61,
      "outputs": [
        {
          "output_type": "display_data",
          "data": {
            "text/plain": [
              "<Figure size 432x288 with 1 Axes>"
            ],
            "image/png": "[encoded data removed]"
          },
          "metadata": {
            "needs_background": "light"
          }
        }
      ]
    },
    {
      "cell_type": "markdown",
      "source": [
        "コード 5.24"
      ],
      "metadata": {
        "id": "C-Rpo_GrEhRY"
      }
    },
    {
      "cell_type": "code",
      "source": [
        "import statsmodels.api as sm\n",
        "import scipy.sparse as sp\n",
        "# デフォルトのユニグラムモデル\n",
        "count_model = CountVectorizer(ngram_range=(1,1))\n",
        "docs_unigram = count_model.fit_transform(docs.get('docs'))\n",
        "# スパース(疎)なcsr (Compressed Sparse Row)形式での共起行列\n",
        "docs_unigram_matrix = (docs_unigram.T * docs_unigram)\n",
        "# 同一な単語を 0にセットする\n",
        "docs_unigram_matrix.setdiag(0)\n",
        "# co-occurrence matrix in sparse csr format\n",
        "docs_unigram_matrix = (docs_unigram.T * docs_unigram)\n",
        "docs_unigram_matrix_diags = sp.diags(1./docs_unigram_matrix.diagonal())\n",
        "# 共起行列の正規化\n",
        "docs_unigram_matrix_norm = docs_unigram_matrix_diags * docs_unigram_matrix # データフレームへ変換\n",
        "df = pd.DataFrame(docs_unigram_matrix_norm.todense(),\n",
        "index = count_model.get_feature_names())\n",
        "df.columns = count_model.get_feature_names()\n",
        "# プロット\n",
        "sm.graphics.plot_corr(df, title='Co-occurrence Matrix', xnames=list(df.index))\n",
        "plt.show()"
      ],
      "metadata": {
        "colab": {
          "base_uri": "https://localhost:8080/",
          "height": 351
        },
        "id": "3lBYelYa-ryj",
        "outputId": "2efdc525-3b56-4332-e2cc-3f920e878922"
      },
      "execution_count": 65,
      "outputs": [
        {
          "output_type": "stream",
          "name": "stderr",
          "text": [
            "/usr/local/lib/python3.7/dist-packages/sklearn/utils/deprecation.py:87: FutureWarning: Function get_feature_names is deprecated; get_feature_names is deprecated in 1.0 and will be removed in 1.2. Please use get_feature_names_out instead.\n",
            "  warnings.warn(msg, category=FutureWarning)\n"
          ]
        },
        {
          "output_type": "display_data",
          "data": {
            "text/plain": [
              "<Figure size 432x288 with 2 Axes>"
            ],
            "image/png": "[encoded data removed]"
          },
          "metadata": {
            "needs_background": "light"
          }
        }
      ]
    },
    {
      "cell_type": "markdown",
      "source": [
        "コード 5.26"
      ],
      "metadata": {
        "id": "AbfO2EduB4b7"
      }
    },
    {
      "cell_type": "code",
      "source": [
        "from sklearn.datasets import fetch_20newsgroups\n",
        "from sklearn.feature_extraction.text import TfidfVectorizer\n",
        "from sklearn.preprocessing import Normalizer\n",
        "from sklearn import metrics\n",
        "from sklearn.cluster import KMeans, MiniBatchKMeans\n",
        "import numpy as np\n",
        "# データをロードしてトピック名を出力\n",
        "newsgroups_train = fetch_20newsgroups(subset='train')\n",
        "print(list(newsgroups_train.target_names))"
      ],
      "metadata": {
        "colab": {
          "base_uri": "https://localhost:8080/"
        },
        "id": "UuSm5pVTBp5w",
        "outputId": "19cf2356-7ea9-4282-9bc9-8735598e4b28"
      },
      "execution_count": 69,
      "outputs": [
        {
          "output_type": "stream",
          "name": "stdout",
          "text": [
            "['alt.atheism', 'comp.graphics', 'comp.os.ms-windows.misc', 'comp.sys.ibm.pc.hardware', 'comp.sys.mac.hardware', 'comp.windows.x', 'misc.forsale', 'rec.autos', 'rec.motorcycles', 'rec.sport.baseball', 'rec.sport.hockey', 'sci.crypt', 'sci.electronics', 'sci.med', 'sci.space', 'soc.religion.christian', 'talk.politics.guns', 'talk.politics.mideast', 'talk.politics.misc', 'talk.religion.misc']\n"
          ]
        }
      ]
    },
    {
      "cell_type": "code",
      "source": [
        "categories = ['alt.atheism', 'comp.graphics', 'rec.motorcycles']\n",
        "dataset = fetch_20newsgroups(subset='all', categories=categories, shuffle=True,\n",
        "random_state=2017)\n",
        "print(\"%d documents\" % len(dataset.data))\n",
        "print(\"%d categories\" % len(dataset.target_names))\n",
        "labels = dataset.target\n",
        "print(\"Extracting features from the dataset using a sparse vectorizer\")\n",
        "vectorizer = TfidfVectorizer(stop_words='english')\n",
        "X = vectorizer.fit_transform(dataset.data)\n",
        "print(\"n_samples: %d, n_features: %d\" % X.shape)"
      ],
      "metadata": {
        "colab": {
          "base_uri": "https://localhost:8080/"
        },
        "id": "K1n_n8p-AeFs",
        "outputId": "3e538b25-dd2d-4826-db79-39e96a64f6f1"
      },
      "execution_count": 71,
      "outputs": [
        {
          "output_type": "stream",
          "name": "stdout",
          "text": [
            "2768 documents\n",
            "3 categories\n",
            "Extracting features from the dataset using a sparse vectorizer\n",
            "n_samples: 2768, n_features: 35311\n"
          ]
        }
      ]
    },
    {
      "cell_type": "markdown",
      "source": [
        "コード 5.27"
      ],
      "metadata": {
        "id": "yy7AVXOBCIqN"
      }
    },
    {
      "cell_type": "code",
      "source": [
        "from sklearn.pipeline import make_pipeline"
      ],
      "metadata": {
        "id": "dAfQDWXlClfJ"
      },
      "execution_count": 76,
      "outputs": []
    },
    {
      "cell_type": "code",
      "source": [
        "from sklearn.decomposition import TruncatedSVD\n",
        "# 次元数を 2000に削減\n",
        "svd = TruncatedSVD(2000)\n",
        "lsa = make_pipeline(svd, Normalizer(copy=False))\n",
        "X = lsa.fit_transform(X)\n",
        "explained_variance = svd.explained_variance_ratio_.sum()\n",
        "print(\"Explained variance of the SVD step: {}%\".format(int(explained_variance\n",
        "* 100)))"
      ],
      "metadata": {
        "colab": {
          "base_uri": "https://localhost:8080/"
        },
        "id": "vcYai2zUCEWc",
        "outputId": "2c92547f-cef2-49ee-9994-eb65eb48fedf"
      },
      "execution_count": 77,
      "outputs": [
        {
          "output_type": "stream",
          "name": "stdout",
          "text": [
            "Explained variance of the SVD step: 95%\n"
          ]
        }
      ]
    },
    {
      "cell_type": "markdown",
      "source": [
        "コード 5.28"
      ],
      "metadata": {
        "id": "Tih1Ru-8Cxrx"
      }
    },
    {
      "cell_type": "code",
      "source": [
        "from __future__ import print_function\n",
        "km = KMeans(n_clusters=3, init='k-means++', max_iter=100, n_init=1)\n",
        "# Scikit learn は非常に大きいコーパスに適したバッチモードでk-meansを実行するためのMiniBatchKMeansを提供する\n",
        "km = MiniBatchKMeans(n_clusters=5, init='k-means++', n_init=1, init_size=1000, batch_size=1000)\n",
        "print(\"Clustering sparse data with %s\" % km)\n",
        "km.fit(X)\n",
        "print(\"Top terms per cluster:\")\n",
        "original_space_centroids = \\\n",
        "svd.inverse_transform(km.cluster_centers_)\n",
        "order_centroids = original_space_centroids.argsort()[:, ::-1]\n",
        "terms = vectorizer.get_feature_names_out()\n",
        "for i in range(3):\n",
        "    print(\"Cluster %d:\" % i, end='')\n",
        "    for ind in order_centroids[i, :10]:\n",
        "        print(' %s' % terms[ind], end='')\n",
        "    print()"
      ],
      "metadata": {
        "colab": {
          "base_uri": "https://localhost:8080/"
        },
        "id": "-bf5JJ4BC19-",
        "outputId": "48ce2ced-8cd1-4db5-9270-f45b09306491"
      },
      "execution_count": 83,
      "outputs": [
        {
          "output_type": "stream",
          "name": "stdout",
          "text": [
            "Clustering sparse data with MiniBatchKMeans(batch_size=1000, init_size=1000, n_clusters=5, n_init=1)\n",
            "Top terms per cluster:\n",
            "Cluster 0: vice ico com tek bobbe beauchaine org mitre cview cactus\n",
            "Cluster 1: com bike ca writes edu article dod sun like organization\n",
            "Cluster 2: edu god keith people religion atheists atheism say writes don\n"
          ]
        }
      ]
    },
    {
      "cell_type": "code",
      "source": [
        "from sklearn.metrics.pairwise import cosine_similarity\n",
        "dist = 1 - cosine_similarity(X)\n",
        "from scipy.cluster.hierarchy import ward, dendrogram\n",
        "linkage_matrix = ward(dist)\n",
        "# 事前計算された類似度からWard法を使って近接度の行列を計算\n",
        "fig, ax = plt.subplots(figsize=(8, 8))\n",
        "# サイズを設定\n",
        "ax = dendrogram(linkage_matrix, orientation=\"right\")\n",
        "plt.tick_params(axis= 'x', which='both')\n",
        "plt.tight_layout()\n",
        "#show plot with tight layout\n",
        "plt.show()"
      ],
      "metadata": {
        "colab": {
          "base_uri": "https://localhost:8080/",
          "height": 602
        },
        "id": "Jeqn8X0gAh8B",
        "outputId": "1c4127aa-9b7b-4660-ac68-61095b317d57"
      },
      "execution_count": 87,
      "outputs": [
        {
          "output_type": "stream",
          "name": "stdout",
          "text": [
            "<class 'numpy.ndarray'>\n"
          ]
        },
        {
          "output_type": "display_data",
          "data": {
            "text/plain": [
              "<Figure size 576x576 with 1 Axes>"
            ],
            "image/png": "[encoded data removed]"
          },
          "metadata": {
            "needs_background": "light"
          }
        }
      ]
    },
    {
      "cell_type": "markdown",
      "source": [
        "コード 5.35"
      ],
      "metadata": {
        "id": "vFbOqE31KOE7"
      }
    },
    {
      "cell_type": "code",
      "source": [
        "!pip install simplejson JPype1"
      ],
      "metadata": {
        "colab": {
          "base_uri": "https://localhost:8080/"
        },
        "id": "_m9fcfJWQoB3",
        "outputId": "f05fd8ab-179e-453d-eee1-05aa52f2de03"
      },
      "execution_count": 121,
      "outputs": [
        {
          "output_type": "stream",
          "name": "stdout",
          "text": [
            "Requirement already satisfied: simplejson in /usr/local/lib/python3.7/dist-packages (3.17.6)\n",
            "Collecting JPype1\n",
            "  Downloading JPype1-1.3.0-cp37-cp37m-manylinux_2_5_x86_64.manylinux1_x86_64.whl (448 kB)\n",
            "\u001b[K     |████████████████████████████████| 448 kB 6.1 MB/s \n",
            "\u001b[?25hRequirement already satisfied: typing-extensions in /usr/local/lib/python3.7/dist-packages (from JPype1) (4.2.0)\n",
            "Installing collected packages: JPype1\n",
            "Successfully installed JPype1-1.3.0\n"
          ]
        }
      ]
    },
    {
      "cell_type": "code",
      "source": [
        "#!/usr/bin/python\n",
        "# -*- coding: utf-8 -*-\n",
        "\n",
        "import sys\n",
        "\n",
        "# __all__ = ['Extractor']\n",
        "\n",
        "class SOPTriplet(object):\n",
        "  def __init__(self):\n",
        "    self.subject = None\n",
        "    self.predicate = None\n",
        "    self.object = None\n",
        "\n",
        "class SOPExtractor(object):\n",
        "  def __init__(self, chunker):\n",
        "    self.chunker = chunker\n",
        "    self.sop_triplet = SOPTriplet()\n",
        "    self._NP_subtrees = []\n",
        "    self._VP_subtrees = []  \n",
        "\n",
        "    self.NOUNS = ['NN', 'NNP', 'NNPS', 'NNS']\n",
        "    self.VERBS = ['VB', 'VBD', 'VBG', 'VBN', 'VBP', 'VBZ']\n",
        "    self.ADJECTIVES = ['JJ', 'JJR']\n",
        "  \n",
        "  def _do_with_penn_sub_tree(self, tree, needles, visitor, path=()):    \n",
        "    for k in tree:\n",
        "      if k in needles:        \n",
        "        visitor(path, tree[k])\n",
        "      elif type(tree[k]) != dict:\n",
        "        pass\n",
        "      else:\n",
        "        self._do_with_penn_sub_tree(tree[k], needles, visitor, path+(k,)) \n",
        "\n",
        "  # visitors\n",
        "  def _cout(self, path, element):\n",
        "    print(path, element)\n",
        "\n",
        "  def _save_NP_subtree(self, path, element):\n",
        "    self._NP_subtrees.append(dict(path=path, tree=element))\n",
        "\n",
        "  def _save_VP_subtree(self, path, element):\n",
        "    self._VP_subtrees.append(dict(path=path, tree=element))\n",
        "\n",
        "  def _extract_predicate(self, path, element):\n",
        "    if self.sop_triplet.predicate:\n",
        "      if len(self.sop_triplet.predicate['path']) < len(path):\n",
        "        self.sop_triplet.predicate = dict(path=path, tree=element)\n",
        "    else:\n",
        "      self.sop_triplet.predicate = dict(path=path, tree=element)\n",
        "\n",
        "  def _extract_object(self, path, element):\n",
        "    if not self.sop_triplet.object and (path[0] in ['NP', 'PP'] or path[0] == 'ADJP'):\n",
        "      self.sop_triplet.object = element\n",
        "    \n",
        "  def extract(self, sentence):\n",
        "    self.sop_triplet = SOPTriplet()\n",
        "    self._NP_subtrees = []\n",
        "    self._VP_subtrees = []\n",
        "\n",
        "    penn = self.chunker.chunk_string(sentence, json_response=False)   \n",
        "    \n",
        "    self._do_with_penn_sub_tree(penn, 'NP', self._save_NP_subtree)    \n",
        "    self._do_with_penn_sub_tree(penn, 'VP', self._save_VP_subtree) \n",
        "\n",
        "    # extract subject\n",
        "    try:\n",
        "      NP_subtree = None\n",
        "      for t in self._NP_subtrees:\n",
        "        path, tree = t['path'], t['tree']\n",
        "        if path[-1] == 'S':\n",
        "          NP_subtree = tree\n",
        "          break\n",
        "      for k,v in NP_subtree.items():\n",
        "        if k in self.NOUNS:\n",
        "          self.sop_triplet.subject = v\n",
        "          break\n",
        "    except (AttributeError, KeyError, TypeError):\n",
        "      pass\n",
        "\n",
        "    # extract predicate          \n",
        "    try:\n",
        "      VP_subtree = None\n",
        "      for t in self._VP_subtrees:\n",
        "        path, tree = t['path'], t['tree']\n",
        "        if path[-1] == 'S':\n",
        "          VP_subtree = tree\n",
        "          break\n",
        "      self._do_with_penn_sub_tree(VP_subtree, self.VERBS, self._extract_predicate)      \n",
        "      parent = VP_subtree\n",
        "      for p in self.sop_triplet.predicate['path']:\n",
        "        parent = VP_subtree[p]\n",
        "      self.sop_triplet.predicate = self.sop_triplet.predicate['tree']\n",
        "    except (AttributeError, KeyError, TypeError):\n",
        "      pass\n",
        "\n",
        "    # extract object\n",
        "    try:         \n",
        "      self._do_with_penn_sub_tree(parent, self.NOUNS, self._extract_object) \n",
        "      if not self.sop_triplet.object:\n",
        "        self._do_with_penn_sub_tree(parent, self.ADJECTIVES, self._extract_object)            \n",
        "    except (AttributeError, KeyError, TypeError, UnboundLocalError):\n",
        "      pass\n",
        "\n",
        "    return self.sop_triplet\n",
        "\n",
        "  def close(self):\n",
        "    self.chunker.close()    \n",
        "\n"
      ],
      "metadata": {
        "id": "-ze56NgrRcFg"
      },
      "execution_count": 125,
      "outputs": []
    },
    {
      "cell_type": "code",
      "source": [
        "import sys\n",
        "sys.path.insert(0,'./Code')"
      ],
      "metadata": {
        "id": "5Oais4vkSA29"
      },
      "execution_count": 130,
      "outputs": []
    },
    {
      "cell_type": "code",
      "source": [
        "from chunker import PennTreebackChunker\n",
        "#from extractor import SOPExtractor\n",
        "# chunkerを初期化\n",
        "chunker = PennTreebackChunker()\n",
        "extractor = SOPExtractor(chunker)\n",
        "# トリプルを抽出する関数\n",
        "def extract(sentence):\n",
        "    sentence = sentence if sentence[-1] == '.' else sentence+'.'\n",
        "    global extractor\n",
        "    sop_triplet = extractor.extract(sentence)\n",
        "    return sop_triplet\n",
        "\n",
        "sentences = [\n",
        "'The quick brown fox jumps over the lazy dog.',\n",
        "'A rare black squirrel has become a regular visitor to a suburban garden', 'The driver did not change the flat tire',\n",
        "\"The driver crashed the bike white bumper\"\n",
        "]\n",
        "# 文集合内の文に対してトリプルを抽出するループ:\n",
        "for sentence in sentences:\n",
        "  sop_triplet = extract(sentence)\n",
        "  print(sop_triplet.subject + ':' + sop_triplet.predicate + ':' + sop_triplet.object)"
      ],
      "metadata": {
        "colab": {
          "base_uri": "https://localhost:8080/",
          "height": 368
        },
        "id": "uBWw5iu3KQtB",
        "outputId": "9638055d-8c6c-4e65-91da-70c70f81aba8"
      },
      "execution_count": 131,
      "outputs": [
        {
          "output_type": "error",
          "ename": "ImportError",
          "evalue": "ignored",
          "traceback": [
            "\u001b[0;31m---------------------------------------------------------------------------\u001b[0m",
            "\u001b[0;31mImportError\u001b[0m                               Traceback (most recent call last)",
            "\u001b[0;32m<ipython-input-131-46db82a97478>\u001b[0m in \u001b[0;36m<module>\u001b[0;34m()\u001b[0m\n\u001b[0;32m----> 1\u001b[0;31m \u001b[0;32mfrom\u001b[0m \u001b[0mchunker\u001b[0m \u001b[0;32mimport\u001b[0m \u001b[0mPennTreebackChunker\u001b[0m\u001b[0;34m\u001b[0m\u001b[0;34m\u001b[0m\u001b[0m\n\u001b[0m\u001b[1;32m      2\u001b[0m \u001b[0;31m#from extractor import SOPExtractor\u001b[0m\u001b[0;34m\u001b[0m\u001b[0;34m\u001b[0m\u001b[0;34m\u001b[0m\u001b[0m\n\u001b[1;32m      3\u001b[0m \u001b[0;31m# chunkerを初期化\u001b[0m\u001b[0;34m\u001b[0m\u001b[0;34m\u001b[0m\u001b[0;34m\u001b[0m\u001b[0m\n\u001b[1;32m      4\u001b[0m \u001b[0mchunker\u001b[0m \u001b[0;34m=\u001b[0m \u001b[0mPennTreebackChunker\u001b[0m\u001b[0;34m(\u001b[0m\u001b[0;34m)\u001b[0m\u001b[0;34m\u001b[0m\u001b[0;34m\u001b[0m\u001b[0m\n\u001b[1;32m      5\u001b[0m \u001b[0mextractor\u001b[0m \u001b[0;34m=\u001b[0m \u001b[0mSOPExtractor\u001b[0m\u001b[0;34m(\u001b[0m\u001b[0mchunker\u001b[0m\u001b[0;34m)\u001b[0m\u001b[0;34m\u001b[0m\u001b[0;34m\u001b[0m\u001b[0m\n",
            "\u001b[0;31mImportError\u001b[0m: cannot import name 'PennTreebackChunker' from 'chunker' (/usr/local/lib/python3.7/dist-packages/chunker/__init__.py)",
            "",
            "\u001b[0;31m---------------------------------------------------------------------------\u001b[0;32m\nNOTE: If your import is failing due to a missing package, you can\nmanually install dependencies using either !pip or !apt.\n\nTo view examples of installing some common dependencies, click the\n\"Open Examples\" button below.\n\u001b[0;31m---------------------------------------------------------------------------\u001b[0m\n"
          ],
          "errorDetails": {
            "actions": [
              {
                "action": "open_url",
                "actionText": "Open Examples",
                "url": "/notebooks/snippets/importing_libraries.ipynb"
              }
            ]
          }
        }
      ]
    },
    {
      "cell_type": "markdown",
      "source": [
        ""
      ],
      "metadata": {
        "id": "dFV2WU2jfnvq"
      }
    },
    {
      "cell_type": "markdown",
      "source": [
        ""
      ],
      "metadata": {
        "id": "kkVeSXz6dWAo"
      }
    }
  ]
}