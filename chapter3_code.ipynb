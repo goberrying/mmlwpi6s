{
  "cells": [
    {
      "cell_type": "markdown",
      "metadata": {},
      "source": [
        "githubからデータを取得"
      ]
    },
    {
      "cell_type": "code",
      "execution_count": null,
      "metadata": {},
      "outputs": [],
      "source": [
        "!git clone https://github.com/Apress/mastering-ml-w-python-in-six-steps.git\n",
        "!ln -s mastering-ml-w-python-in-six-steps/Chapter_3_Code/Code/Data Data"
      ]
    },
    {
      "cell_type": "markdown",
      "metadata": {
        "id": "UXLj3ZX4BtvX"
      },
      "source": [
        "warningを非表示"
      ]
    },
    {
      "cell_type": "code",
      "execution_count": null,
      "metadata": {
        "id": "CzV2gf60Btvb"
      },
      "outputs": [],
      "source": [
        "import warnings\n",
        "warnings.filterwarnings('ignore')"
      ]
    },
    {
      "cell_type": "markdown",
      "metadata": {
        "id": "Zmfib1d3Btvd"
      },
      "source": [
        "3-1 ダミー変数の作成"
      ]
    },
    {
      "cell_type": "code",
      "execution_count": null,
      "metadata": {
        "colab": {
          "base_uri": "https://localhost:8080/"
        },
        "id": "Jb0E2bYMBtve",
        "outputId": "9ed7a886-fef7-44b6-fb7e-33740952b54a"
      },
      "outputs": [],
      "source": [
        "import pandas as pd\n",
        "from patsy import dmatrices\n",
        "df = pd.DataFrame({'A': ['high', 'medium', 'low'],\n",
        "                   'B': [10,20,30]},\n",
        "                    index=[0, 1, 2])\n",
        "                    \n",
        "# pandasのget_dummies関数を使う\n",
        "df_with_dummies= pd.get_dummies(df, prefix='A', columns=['A'])\n",
        "print (df_with_dummies)"
      ]
    },
    {
      "cell_type": "markdown",
      "metadata": {
        "id": "R19d1L6nBtvf"
      },
      "source": [
        "3-2 カテゴリカル変数の数値への変換"
      ]
    },
    {
      "cell_type": "code",
      "execution_count": null,
      "metadata": {
        "colab": {
          "base_uri": "https://localhost:8080/"
        },
        "id": "TB_B8KekBtvg",
        "outputId": "ebc1fe5f-dca3-4824-d469-710d3d5f9a9e"
      },
      "outputs": [],
      "source": [
        "# pandasのfactorize関数を使う\n",
        "df['A_pd_factorized'] = pd.factorize(df['A'])[0]\n",
        "\n",
        "# sklearnのLabelEncoder関数を代わりに使うこともできる\n",
        "from sklearn.preprocessing import LabelEncoder\n",
        "le = LabelEncoder()\n",
        "df['A_LabelEncoded'] = le.fit_transform(df.A)\n",
        "print (df)"
      ]
    },
    {
      "cell_type": "markdown",
      "metadata": {
        "id": "TpwXbVvlBtvg"
      },
      "source": [
        "3-3. 正規化とスケーリング"
      ]
    },
    {
      "cell_type": "code",
      "execution_count": null,
      "metadata": {
        "colab": {
          "base_uri": "https://localhost:8080/"
        },
        "id": "Ge7ppZBKBtvh",
        "outputId": "a23dc42a-345e-4c18-ceb8-704432adb2d1"
      },
      "outputs": [],
      "source": [
        "from sklearn import datasets\n",
        "import numpy as np\n",
        "from sklearn import preprocessing\n",
        "iris = datasets.load_iris()\n",
        "X = iris.data[:, [2, 3]]\n",
        "y = iris.target\n",
        "std_scale = preprocessing.StandardScaler().fit(X) #標準化\n",
        "X_std = std_scale.transform(X)\n",
        "minmax_scale = preprocessing.MinMaxScaler().fit(X) #正規化\n",
        "X_minmax = minmax_scale.transform(X)\n",
        "print('Mean before standardization: petal length={:.1f}, petal width={:.1f}'\n",
        "      .format(X[:,0].mean(), X[:,1].mean()))\n",
        "print('SD before standardization: petal length={:.1f}, petal width={:.1f}'\n",
        "      .format(X[:,0].std(), X[:,1].std()))\n",
        "print('Mean after standardization: petal length={:.1f}, petal width={:.1f}'\n",
        "      .format(X_std[:,0].mean(), X_std[:,1].mean()))\n",
        "print('SD after standardization: petal length={:.1f}, petal width={:.1f}'\n",
        "      .format(X_std[:,0].std(), X_std[:,1].std()))\n",
        "print('\\nMin value before min-max scaling: patel length={:.1f}, patel width={:.1f}'\n",
        "      .format(X[:,0].min(), X[:,1].min()))\n",
        "print('Max value before min-max scaling: petal length={:.1f}, petal width={:.1f}'\n",
        "      .format(X[:,0].max(), X[:,1].max()))\n",
        "print('Min value after min-max scaling: patel length={:.1f}, patel width={:.1f}'\n",
        "      .format(X_minmax[:,0].min(), X_minmax[:,1].min()))\n",
        "print('Max value after min-max scaling: petal length={:.1f}, petal width={:.1f}'\n",
        "      .format(X_minmax[:,0].max(), X_minmax[:,1].max()))\n"
      ]
    },
    {
      "cell_type": "markdown",
      "metadata": {
        "id": "DfZ-OK9RBtvi"
      },
      "source": [
        "3-4. 単変量解析"
      ]
    },
    {
      "cell_type": "code",
      "execution_count": null,
      "metadata": {
        "colab": {
          "base_uri": "https://localhost:8080/",
          "height": 300
        },
        "id": "7OXMGx7UBtvi",
        "outputId": "1b484a1a-db7f-434f-f310-a4398f59efb5"
      },
      "outputs": [],
      "source": [
        "from sklearn import datasets\n",
        "import numpy as np\n",
        "import pandas as pd\n",
        "import matplotlib.pyplot as plt\n",
        "iris = datasets.load_iris()\n",
        "\n",
        "# Dataframeの変換\n",
        "iris = pd.DataFrame(data= np.c_[iris['data'], iris['target']],\n",
        "                     columns= iris['feature_names'] + ['species'])\n",
        "\n",
        "# クラスラベルの置き換え\n",
        "iris.species = np.where(iris.species == 0.0, 'setosa', np.where(iris.species==1.0,'versicolor', 'virginica'))\n",
        "\n",
        "# 列名からスペースを削除\n",
        "iris.columns = iris.columns.str.replace(' ','')\n",
        "iris.describe()"
      ]
    },
    {
      "cell_type": "code",
      "execution_count": null,
      "metadata": {
        "colab": {
          "base_uri": "https://localhost:8080/"
        },
        "id": "SFsxz2apBtvj",
        "outputId": "77404781-5f04-4b31-b33f-eedb1ca4263c"
      },
      "outputs": [],
      "source": [
        "print (iris['species'].value_counts())"
      ]
    },
    {
      "cell_type": "markdown",
      "metadata": {
        "id": "kRaMdNQyBtvj"
      },
      "source": [
        "3-5 Pnadas DataFrameの可視化"
      ]
    },
    {
      "cell_type": "code",
      "execution_count": null,
      "metadata": {
        "colab": {
          "base_uri": "https://localhost:8080/",
          "height": 602
        },
        "id": "kMFmt7v_Btvj",
        "outputId": "22db6ede-4232-46ef-a959-2ca92b1337e9"
      },
      "outputs": [],
      "source": [
        "# プロットのサイズを設定\n",
        "plt.figure(figsize=(15,8))\n",
        "iris.hist()        # ヒストグラム(histobram)のプロット\n",
        "plt.suptitle(\"Histogram\", fontsize=12) # ヒストグラムにサブタイトルをつける\n",
        "plt.tight_layout(pad=1)\n",
        "plt.show()\n",
        "iris.boxplot()     # 箱ひげ図のプロット\n",
        "plt.title(\"Bar Plot\", fontsize=16)\n",
        "plt.tight_layout(pad=1)\n",
        "plt.show()\n"
      ]
    },
    {
      "cell_type": "markdown",
      "metadata": {
        "id": "1OI8zjIvBtvk"
      },
      "source": [
        "3-6 多変量解析"
      ]
    },
    {
      "cell_type": "code",
      "execution_count": null,
      "metadata": {
        "colab": {
          "base_uri": "https://localhost:8080/",
          "height": 312
        },
        "id": "3MmDiVF-Btvk",
        "outputId": "eebc5748-49bb-4b19-94a1-be63b6e193d5"
      },
      "outputs": [],
      "source": [
        "# 各列の平均値を種ごとに表示\n",
        "iris.groupby(by = \"species\").mean()\n",
        "\n",
        "# 各ラベルクラスに対する各特徴の平均値をプロット\n",
        "iris.groupby(by = \"species\").mean().plot(kind=\"bar\")\n",
        "plt.title('Class vs Measurements')\n",
        "plt.ylabel('mean measurement(cm)')\n",
        "plt.xticks(rotation=0)  # x軸の方向を設定\n",
        "plt.grid(True)\n",
        "\n",
        "# bbox_to_anchorオプションを使用してプロット領域の外側に凡例を配置\n",
        "plt.legend(loc=\"upper left\", bbox_to_anchor=(1,1))"
      ]
    },
    {
      "cell_type": "markdown",
      "metadata": {
        "id": "F3PKRnNSBtvk"
      },
      "source": [
        "3-7相関行列"
      ]
    },
    {
      "cell_type": "code",
      "execution_count": null,
      "metadata": {
        "colab": {
          "base_uri": "https://localhost:8080/",
          "height": 488
        },
        "id": "jniy5jGhBtvl",
        "outputId": "6fa9fdd8-1284-4105-df02-03c9242b87f4"
      },
      "outputs": [],
      "source": [
        "corr = iris.corr()\n",
        "print(corr)\n",
        "import statsmodels.api as sm\n",
        "sm.graphics.plot_corr(corr, xnames=list(corr.columns))\n",
        "plt.show()"
      ]
    },
    {
      "cell_type": "markdown",
      "metadata": {
        "id": "Hiw6WIMMBtvl"
      },
      "source": [
        "3-8 散布図行列"
      ]
    },
    {
      "cell_type": "code",
      "execution_count": null,
      "metadata": {
        "colab": {
          "base_uri": "https://localhost:8080/",
          "height": 690
        },
        "id": "Rb2tN7kqBtvl",
        "outputId": "e00da826-e624-46ab-bb84-2ef037a5451d"
      },
      "outputs": [],
      "source": [
        "from pandas.plotting import scatter_matrix\n",
        "scatter_matrix(iris, figsize=(10, 10))\n",
        "# サブタイトルを散布図につける\n",
        "plt.suptitle(\"Pair Plot\", fontsize=20)"
      ]
    },
    {
      "cell_type": "markdown",
      "metadata": {
        "id": "K7NBNW_mBtvl"
      },
      "source": [
        "3-9 家庭での勉強時間と生徒の成績"
      ]
    },
    {
      "cell_type": "code",
      "execution_count": null,
      "metadata": {
        "colab": {
          "base_uri": "https://localhost:8080/",
          "height": 539
        },
        "id": "WM7HVVIABtvm",
        "outputId": "6ca2299a-cee5-414d-924b-18df7e156b9f"
      },
      "outputs": [],
      "source": [
        "import pandas as pd\n",
        "import numpy as np\n",
        "import matplotlib.pyplot as plt\n",
        "\n",
        "# データの読み込み\n",
        "df = pd.read_csv('Data/Grade_Set_1.csv')\n",
        "print(df)\n",
        "\n",
        "# 散布図のプロット\n",
        "df.plot(kind='scatter', x='Hours_Studied', y='Test_Grade', title='Grade vs Hours Studied')\n",
        "plt.show()\n",
        "\n",
        "# 各変数の相関の確認\n",
        "print(\"Correlation Matrix: \")\n",
        "print(df.corr())"
      ]
    },
    {
      "cell_type": "markdown",
      "metadata": {
        "id": "rtekvUsDBtvm"
      },
      "source": [
        "3-10　線形回帰"
      ]
    },
    {
      "cell_type": "code",
      "execution_count": null,
      "metadata": {
        "colab": {
          "base_uri": "https://localhost:8080/",
          "height": 383
        },
        "id": "Reb3wtFPBtvn",
        "outputId": "914a28d3-35b0-46d1-e5a2-df30197738b8"
      },
      "outputs": [],
      "source": [
        "import sklearn.linear_model as lm\n",
        "\n",
        "# 線形回帰のためのインスタンスを生成する\n",
        "lr = lm.LinearRegression()\n",
        "x= df.Hours_Studied[:, np.newaxis] # 独立変数\n",
        "y= df.Test_Grade.values            # 従属変数\n",
        "\n",
        "# 訓練データセットを使ってモデルを訓練\n",
        "lr.fit(x, y)\n",
        "print(\"Intercept: \", lr.intercept_)\n",
        "print(\"Coefficient: \", lr.coef_)\n",
        "\n",
        "# 与えられたｘに対して手動で予測を行う\n",
        "print(\"Manual prediction :\", lr.intercept_ + lr.coef_ * 6)\n",
        "\n",
        "# ライブラリに含まれる関数を使って予測を行う\n",
        "print(\"Using predict function: \", lr.predict([[6]]))\n",
        "\n",
        "# フィッティングした直線をプロットする\n",
        "plt.scatter(x, y,  color='black')\n",
        "plt.plot(x, lr.predict(x), color='blue', linewidth=3)\n",
        "plt.title('Grade vs Hours Studied')\n",
        "plt.ylabel('Test_Grade')\n",
        "plt.xlabel('Hours_Studied')\n"
      ]
    },
    {
      "cell_type": "markdown",
      "metadata": {
        "id": "48SsROkLBtvn"
      },
      "source": [
        "3-11 線形回帰モデルの精度行列"
      ]
    },
    {
      "cell_type": "code",
      "execution_count": null,
      "metadata": {
        "colab": {
          "base_uri": "https://localhost:8080/"
        },
        "id": "jlj9D86tBtvo",
        "outputId": "540f8e8f-beef-4c0f-b246-e93c8e3faebe"
      },
      "outputs": [],
      "source": [
        "from sklearn.metrics import r2_score , mean_absolute_error, mean_squared_error\n",
        "\n",
        "# Dataframeに予測値を追加\n",
        "df['Test_Grade_Pred'] = lr.predict(x)\n",
        "\n",
        "# 決定係数を手動で計算\n",
        "df['SST'] = np.square(df['Test_Grade'] - df['Test_Grade'].mean())\n",
        "df['SSR'] = np.square(df['Test_Grade_Pred'] - df['Test_Grade'].mean())\n",
        "print(\"Sum of SSR:\", df['SSR'].sum())\n",
        "print(\"Sum of SST:\", df['SST'].sum())\n",
        "print(df)\n",
        "df.to_csv('r-squared.csv', index=False)\n",
        "print(\"R Squared using manual calculation: \", df['SSR'].sum() / df['SST'].sum())\n",
        "\n",
        "# ライブラリの関数を使用\n",
        "print(\"R Squared using built-in function: \", r2_score(df.Test_Grade,  df.Test_Grade_Pred))\n",
        "print(\"Mean Absolute Error: \", mean_absolute_error(df.Test_Grade, df.Test_Grade_Pred))\n",
        "print(\"Root Mean Squared Error: \", np.sqrt(mean_squared_error(df.Test_Grade, df.Test_Grade_Pred)))"
      ]
    },
    {
      "cell_type": "markdown",
      "metadata": {
        "id": "gIVyG09_Btvo"
      },
      "source": [
        "3-12 外れ値 vs. 決定係数"
      ]
    },
    {
      "cell_type": "code",
      "execution_count": null,
      "metadata": {
        "colab": {
          "base_uri": "https://localhost:8080/",
          "height": 418
        },
        "id": "JxVfNaN_Btvo",
        "outputId": "17d834a2-ffd6-4d32-e1c8-fdeada7888f3"
      },
      "outputs": [],
      "source": [
        "# データの読み込み\n",
        "df = pd.read_csv('Data/Grade_Set_1.csv')\n",
        "df.loc[9] = np.array([5, 100])\n",
        "x= df.Hours_Studied[:, np.newaxis] # 独立変数\n",
        "y= df.Test_Grade.values            # 従属変数\n",
        "\n",
        "# トレーニングデータセットをつかってモデルをトレーニング\n",
        "lr.fit(x, y)\n",
        "print(\"Intercept: \", lr.intercept_)\n",
        "print(\"Coefficient: \", lr.coef_)\n",
        "\n",
        "# 与えられたxに対して手動で予測\n",
        "print(\"Manual prediction :\", 54.4022988505747 + 4.64367816*6)\n",
        "\n",
        "# ライブラリを使って予測\n",
        "print(\"Using predict function: \", lr.predict([[6]]))\n",
        "\n",
        "# 直線をプロット\n",
        "plt.scatter(x, y,  color='black')\n",
        "plt.plot(x, lr.predict(x), color='blue', linewidth=3)\n",
        "plt.title('Grade vs Hours Studied')\n",
        "plt.ylabel('Test_Grade')\n",
        "plt.xlabel('Hours_Studied')\n",
        "\n",
        "# Dataframeに予測値を追加\n",
        "df['Test_Grade_Pred'] = lr.predict(x)\n",
        "\n",
        "# ライブラリの関数を使用\n",
        "print(\"R Squared : \", r2_score(df.Test_Grade,  df.Test_Grade_Pred))\n",
        "print(\"Mean Absolute Error: \", mean_absolute_error(df.Test_Grade, \n",
        "df.Test_Grade_Pred))\n",
        "print(\"Root Mean Squared Error: \", np.sqrt(mean_squared_error(df.Test_Grade, df.Test_Grade_Pred)))\n"
      ]
    },
    {
      "cell_type": "markdown",
      "metadata": {
        "id": "_YAPP1g0Btvp"
      },
      "source": [
        "3-13.  多項式回帰"
      ]
    },
    {
      "cell_type": "code",
      "execution_count": null,
      "metadata": {
        "colab": {
          "base_uri": "https://localhost:8080/",
          "height": 297
        },
        "id": "btaLnxdDBtvp",
        "outputId": "c20874ee-f79f-41ce-ad5a-90e908156039"
      },
      "outputs": [],
      "source": [
        "x = np.linspace(-3,3,1000) # -3から3の範囲でサンプリングされた1000個の数\n",
        "# プロット\n",
        "fig, ((ax1, ax2, ax3), (ax4, ax5, ax6)) = plt.subplots(nrows=2, ncols=3)\n",
        "ax1.plot(x, x)\n",
        "ax1.set_title('linear')\n",
        "ax2.plot(x, x**2)\n",
        "ax2.set_title('degree 2')\n",
        "ax3.plot(x, x**3)\n",
        "ax3.set_title('degree 3')\n",
        "ax4.plot(x, x**4)\n",
        "ax4.set_title('degree 4')\n",
        "ax5.plot(x, x**5)\n",
        "ax5.set_title('degree 5')\n",
        "ax6.plot(x, x**6)\n",
        "ax6.set_title('degree 6')\n",
        "plt.tight_layout()# レイアウトをつめて出力"
      ]
    },
    {
      "cell_type": "markdown",
      "metadata": {
        "id": "nDMUvQlsBtvp"
      },
      "source": [
        "3-14. 多項式回帰の例"
      ]
    },
    {
      "cell_type": "code",
      "execution_count": null,
      "metadata": {
        "colab": {
          "base_uri": "https://localhost:8080/",
          "height": 626
        },
        "id": "9_-BZyvJBtvp",
        "outputId": "47c3dcae-ce82-452f-f853-205160d87cdb"
      },
      "outputs": [],
      "source": [
        "# 線形回帰の関数をインポート\n",
        "import sklearn.linear_model as lm\n",
        "# データを読み込み\n",
        "df = pd.read_csv('Data/Grade_Set_2.csv')\n",
        "print(df)\n",
        "# 散布図をプロット\n",
        "df.plot(kind='scatter', x='Hours_Studied', y='Test_Grade', title='Grade vs Hours Studied')\n",
        "#変数間の相関関係を確認\n",
        "print(\"Correlation Matrix: \")\n",
        "print(df.corr())\n",
        "# 線形回帰オブジェクトの作成\n",
        "lr = lm.LinearRegression()\n",
        "x= df.Hours_Studied[:, np.newaxis]           # 独立変数\n",
        "y= df.Test_Grade                             # 従属変数\n",
        "# トレーニングセットを使ったモデルのトレーニング\n",
        "lr.fit(x, y)\n",
        "# フィッティングした線をプロット\n",
        "plt.scatter(x, y,  color='black')\n",
        "plt.plot(x, lr.predict(x), color='blue', linewidth=3)\n",
        "plt.title('Grade vs Hours Studied')\n",
        "plt.ylabel('Test_Grade')\n",
        "plt.xlabel('Hours_Studied')\n",
        "print(\"R Squared: \", r2_score(y, lr.predict(x)))\n"
      ]
    },
    {
      "cell_type": "markdown",
      "metadata": {
        "id": "M8GemvFjBtvp"
      },
      "source": [
        "3-15 多項式の次数が異なる場合の決定係数"
      ]
    },
    {
      "cell_type": "code",
      "execution_count": null,
      "metadata": {
        "colab": {
          "base_uri": "https://localhost:8080/",
          "height": 369
        },
        "id": "MKTpBn-yBtvq",
        "outputId": "3007029b-5823-4cad-b198-55780e5f0b4e"
      },
      "outputs": [],
      "source": [
        "lr = lm.LinearRegression()\n",
        "x= df.Hours_Studied        # 独立変数\n",
        "y= df.Test_Grade           # 従属変数\n",
        "# NumPyのvander関数は入力ベクトルの累乗を返す\n",
        "for deg in [1, 2, 3, 4, 5]:\n",
        "    lr.fit(np.vander(x, deg + 1), y)\n",
        "    y_lr = lr.predict(np.vander(x, deg + 1))\n",
        "    plt.plot(x, y_lr, label='degree ' + str(deg))\n",
        "    plt.legend(loc=2)\n",
        "    print(\"R-squared for degree \" + str(deg) + \" = \",  r2_score(y, y_lr))\n",
        "plt.plot(x, y, 'ok')\n"
      ]
    },
    {
      "cell_type": "markdown",
      "metadata": {
        "id": "-8Qu-bZLBtvq"
      },
      "source": [
        "3-16. Scikit-learnを使った多項式回帰"
      ]
    },
    {
      "cell_type": "code",
      "execution_count": null,
      "metadata": {
        "colab": {
          "base_uri": "https://localhost:8080/",
          "height": 313
        },
        "id": "GcSaFlPQBtvq",
        "outputId": "28e2a0db-2738-4594-fcdc-c85595302fa0"
      },
      "outputs": [],
      "source": [
        "from sklearn.preprocessing import PolynomialFeatures\n",
        "from sklearn.pipeline import make_pipeline\n",
        "\n",
        "x= df.Hours_Studied[:, np.newaxis] # 独立変数\n",
        "y= df.Test_Grade                   # 従属変数\n",
        "degree = 3\n",
        "model = make_pipeline(PolynomialFeatures(degree), lr)\n",
        "model.fit(x, y)\n",
        "plt.scatter(x, y,  color='black')\n",
        "plt.plot(x, model.predict(x), color='green')\n",
        "plt.title('Grade vs Hours Studied')\n",
        "plt.ylabel('Test_Grade')\n",
        "plt.xlabel('Hours_Studied')\n",
        "print(\"R Squared using built-in function: \", r2_score(y, model.predict(x)))"
      ]
    },
    {
      "cell_type": "markdown",
      "metadata": {
        "id": "r_3ZUq_DBtvq"
      },
      "source": [
        "3-17. 多重共線性と分散拡大係数"
      ]
    },
    {
      "cell_type": "code",
      "execution_count": null,
      "metadata": {
        "colab": {
          "base_uri": "https://localhost:8080/",
          "height": 297
        },
        "id": "c-lm1TagBtvq",
        "outputId": "99e13d57-fc02-4cf3-84fd-70cce746a792"
      },
      "outputs": [],
      "source": [
        "# データの読み込み\n",
        "df = pd.read_csv('Data/Housing_Modified.csv')\n",
        "\n",
        "# バイナリを数値化されたブール値に変換\n",
        "lb = preprocessing.LabelBinarizer()\n",
        "df.driveway = lb.fit_transform(df.driveway)\n",
        "df.recroom = lb.fit_transform(df.recroom)\n",
        "df.fullbase = lb.fit_transform(df.fullbase)\n",
        "df.gashw = lb.fit_transform(df.gashw)\n",
        "df.airco = lb.fit_transform(df.airco)\n",
        "df.prefarea = lb.fit_transform(df.prefarea)\n",
        "\n",
        "# ダミー変数の作成\n",
        "df_stories = pd.get_dummies(df['stories'], prefix='stories', drop_first=True)\n",
        "\n",
        "# ダミー変数をメインのデータフレームに結合する\n",
        "df = pd.concat([df, df_stories], axis=1)\n",
        "del df['stories']\n",
        "\n",
        "# statmodels graphicsパッケージのplot_corを使って相関行列をプロット\n",
        "# 相関行列の作成\n",
        "corr = df.corr()\n",
        "sm.graphics.plot_corr(corr, xnames=list(corr.columns))\n",
        "plt.show()\n"
      ]
    },
    {
      "cell_type": "markdown",
      "metadata": {
        "id": "ID-ub6wLBtvr"
      },
      "source": [
        "3-18. 多重共線性の除去"
      ]
    },
    {
      "cell_type": "code",
      "execution_count": null,
      "metadata": {
        "colab": {
          "base_uri": "https://localhost:8080/"
        },
        "id": "pFBfogyzBtvr",
        "outputId": "f786af8d-1941-4465-8ea6-f340bbd69975"
      },
      "outputs": [],
      "source": [
        "from statsmodels.stats.outliers_influence import variance_inflation_factor, OLSInfluence\n",
        "# 機能名のリストを作成\n",
        "independent_variables = ['lotsize', 'bedrooms', 'bathrms','driveway', 'recroom',\n",
        "                         'fullbase','gashw','airco','garagepl', 'prefarea',\n",
        "                         'stories_one','stories_two','stories_three']\n",
        "                         \n",
        "# リストを使って元のDataFrameからサブセットを選択\n",
        "X = df[independent_variables]\n",
        "y = df['price']\n",
        "thresh = 10\n",
        "for i in np.arange(0,len(independent_variables)):\n",
        "    vif = [variance_inflation_factor(X[independent_variables].values, ix) for ix in range(X[independent_variables].shape[1])]\n",
        "    maxloc = vif.index(max(vif))\n",
        "    if max(vif) > thresh:\n",
        "        print(\"vif :\", vif)\n",
        "        print(\"dropping \" + X[independent_variables].columns[maxloc] + \" at index: \" + str(maxloc))\n",
        "        del independent_variables[maxloc]\n",
        "    else:\n",
        "        break\n",
        "print('Final variables:', independent_variables)\n"
      ]
    },
    {
      "cell_type": "markdown",
      "metadata": {
        "id": "JsYl2mJGBtvr"
      },
      "source": [
        "3-19.  多変量線形回帰モデルの構築"
      ]
    },
    {
      "cell_type": "code",
      "execution_count": null,
      "metadata": {
        "colab": {
          "base_uri": "https://localhost:8080/"
        },
        "id": "zij5jsFGBtvr",
        "outputId": "7fb15d80-5989-4841-c0ea-cc72ad60dccc"
      },
      "outputs": [],
      "source": [
        "from sklearn.model_selection import train_test_split\n",
        "from sklearn import metrics\n",
        "# 機能名のリストを作成\n",
        "independent_variables = [\n",
        "'lotsize', 'bathrms','driveway', 'fullbase','gashw', 'airco','garagepl',\n",
        "                         'prefarea','stories_one','stories_three']\n",
        "\n",
        "#リストを使って元のDataFrameからサブセットを選択\n",
        "X = df[independent_variables]\n",
        "X_train, X_test, y_train, y_test = train_test_split(X, y, train_size=.80, random_state=1)\n",
        "\n",
        "# フィッティングしたモデルを作成\n",
        "lm = sm.OLS(y_train, X_train).fit()\n",
        "\n",
        "# 要約を表示\n",
        "print(lm.summary())\n",
        "\n",
        "# テストモデルを使って予測\n",
        "y_train_pred = lm.predict(X_train)\n",
        "y_test_pred = lm.predict(X_test)\n",
        "y_pred = lm.predict(X) # full data\n",
        "print(\"Train MAE: \", metrics.mean_absolute_error(y_train, y_train_pred))\n",
        "print(\"Train RMSE: \", np.sqrt(metrics.mean_squared_error(y_train, y_train_pred)))\n",
        "print(\"Test MAE: \", metrics.mean_absolute_error(y_test, y_test_pred))\n",
        "print(\"Test RMSE: \", np.sqrt(metrics.mean_squared_error(y_test, y_test_pred)))\n"
      ]
    },
    {
      "cell_type": "markdown",
      "metadata": {
        "id": "zx2bAQ9nBtvr"
      },
      "source": [
        "3-20. 正規化された残差とレバレッジのプロット"
      ]
    },
    {
      "cell_type": "code",
      "execution_count": null,
      "metadata": {
        "colab": {
          "base_uri": "https://localhost:8080/",
          "height": 656
        },
        "id": "1VhEcZrdBtvs",
        "outputId": "6b3ea722-d9d7-4ac3-9fee-f7052cc6c2ab"
      },
      "outputs": [],
      "source": [
        "from statsmodels.graphics.regressionplots import plot_leverage_resid2\n",
        "fig, ax = plt.subplots(figsize=(8,6))\n",
        "fig = plot_leverage_resid2(lm, ax = ax)"
      ]
    },
    {
      "cell_type": "markdown",
      "metadata": {
        "id": "49HDhn38Btvv"
      },
      "source": [
        "3-21. 外れ値の探索"
      ]
    },
    {
      "cell_type": "code",
      "execution_count": null,
      "metadata": {
        "colab": {
          "base_uri": "https://localhost:8080/"
        },
        "id": "Oxck3PBKBtvv",
        "outputId": "b14e8ce1-4720-45f4-b212-00d176bf1440"
      },
      "outputs": [],
      "source": [
        "# 外れ値の探索\n",
        "# Bonferroni法による探索\n",
        "test = lm.outlier_test()\n",
        "print('Bad data points (bonf(p) < 0.05):')\n",
        "print(test[test['bonf(p)'] < 0.05])"
      ]
    },
    {
      "cell_type": "markdown",
      "metadata": {
        "id": "y7m9Jpc8Btvv"
      },
      "source": [
        "3-22. 等分散性と正規性"
      ]
    },
    {
      "cell_type": "code",
      "execution_count": null,
      "metadata": {
        "colab": {
          "base_uri": "https://localhost:8080/",
          "height": 676
        },
        "id": "29RSvKolBtvv",
        "outputId": "ad1ea73d-3813-47d3-aa47-df17780f3495"
      },
      "outputs": [],
      "source": [
        "# 等分散性をチェックするためのグラフ\n",
        "plt.plot(lm.resid,'o')\n",
        "plt.title('Residual Plot')\n",
        "plt.ylabel('Residual')\n",
        "plt.xlabel('Observation Numbers')\n",
        "plt.show()\n",
        "plt.hist(lm.resid, density=True)"
      ]
    },
    {
      "cell_type": "markdown",
      "metadata": {
        "id": "Zf2GggwoBtvv"
      },
      "source": [
        "3-23. 線型性のチェック"
      ]
    },
    {
      "cell_type": "code",
      "execution_count": null,
      "metadata": {
        "colab": {
          "base_uri": "https://localhost:8080/",
          "height": 1000
        },
        "id": "VC6xfQCSBtvw",
        "outputId": "3992e4df-ffdc-4a81-9517-c0e7bcb63a77"
      },
      "outputs": [],
      "source": [
        "# 直線のプロット\n",
        "fig = plt.figure(figsize=(10,15))\n",
        "fig = sm.graphics.plot_partregress_grid(lm, fig=fig)"
      ]
    },
    {
      "cell_type": "markdown",
      "metadata": {
        "id": "tg7KQhwaBtvw"
      },
      "source": [
        "3-24. 正則化"
      ]
    },
    {
      "cell_type": "code",
      "execution_count": null,
      "metadata": {
        "colab": {
          "base_uri": "https://localhost:8080/"
        },
        "id": "6YMQ4HyvBtvw",
        "outputId": "2f377983-7d9c-4b5e-f92e-0ad08c0a6c26"
      },
      "outputs": [],
      "source": [
        "from sklearn import linear_model\n",
        "\n",
        "# データの読み込み\n",
        "df = pd.read_csv('Data/Grade_Set_2.csv')\n",
        "df.columns = ['x','y']\n",
        "for i in range(2,50):               # 1乗は処理の必要なし\n",
        "    colname = 'x_%d'%i              # 列名は「x_べき数」となる\n",
        "    df[colname] = df['x']**i\n",
        "independent_variables = list(df.columns)\n",
        "independent_variables.remove('y')\n",
        "X= df[independent_variables]       # 独立変数\n",
        "y= df.y                            # 従属変数\n",
        "\n",
        "# 学習データとテストデータの分割\n",
        "X_train, X_test, y_train, y_test = train_test_split(X, y, train_size=.80, random_state=1)\n",
        "\n",
        "# リッジ回帰\n",
        "lr = linear_model.Ridge(alpha=0.001)\n",
        "lr.fit(X_train, y_train)\n",
        "y_train_pred = lr.predict(X_train)\n",
        "y_test_pred = lr.predict(X_test)\n",
        "print(\"------ Ridge Regression ------\")\n",
        "print(\"Train MAE: \", metrics.mean_absolute_error(y_train, y_train_pred))\n",
        "print(\"Train RMSE: \", np.sqrt(metrics.mean_squared_error(y_train, \n",
        "y_train_pred)))\n",
        "print(\"Test MAE: \", metrics.mean_absolute_error(y_test, y_test_pred))\n",
        "print(\"Test RMSE: \", np.sqrt(metrics.mean_squared_error(y_test, \n",
        "y_test_pred)))\n",
        "print(\"Ridge Coef: \", lr.coef_)\n",
        "\n",
        "# ラッソ回帰\n",
        "lr = linear_model.Lasso(alpha=0.001)\n",
        "lr.fit(X_train, y_train)\n",
        "y_train_pred = lr.predict(X_train)\n",
        "y_test_pred = lr.predict(X_test)\n",
        "print(\"----- LASSO Regression -----\")\n",
        "print(\"Train MAE: \", metrics.mean_absolute_error(y_train, y_train_pred))\n",
        "print(\"Train RMSE: \", np.sqrt(metrics.mean_squared_error(y_train, y_train_pred)))\n",
        "print(\"Test MAE: \", metrics.mean_absolute_error(y_test, y_test_pred))\n",
        "print(\"Test RMSE: \", np.sqrt(metrics.mean_squared_error(y_test, y_test_pred)))\n",
        "print(\"LASSO Coef: \", lr.coef_)"
      ]
    },
    {
      "cell_type": "markdown",
      "metadata": {
        "id": "Lhcf5KikBtvw"
      },
      "source": [
        "3-25. 非線形回帰"
      ]
    },
    {
      "cell_type": "code",
      "execution_count": null,
      "metadata": {
        "colab": {
          "base_uri": "https://localhost:8080/",
          "height": 295
        },
        "id": "PF7H-iPqBtvw",
        "outputId": "0f3356b8-29c1-4914-ed51-416e41468536"
      },
      "outputs": [],
      "source": [
        "import numpy as np\n",
        "import matplotlib.pyplot as plt\n",
        "from scipy.optimize import curve_fit\n",
        "\n",
        "%matplotlib inline\n",
        "\n",
        "x= np.array([-2,-1.64,-0.7,0,0.45,1.2,1.64,2.32,2.9])\n",
        "y = np.array([1.0, 1.5, 2.4, 2, 1.49, 1.2, 1.3, 1.2, 0.5])\n",
        "\n",
        "# 非線形曲線へのフィッティング\n",
        "def func(x, p1,p2):\n",
        "    return p1*np.sin(p2*x) + p2*np.cos(p1*x)\n",
        "\n",
        "popt, pcov = curve_fit(func, x, y, p0=(1.0,0.2))\n",
        "p1 = popt[0]\n",
        "p2 = popt[1]\n",
        "residuals = y - func(x,p1,p2)\n",
        "fres = sum(residuals**2)\n",
        "curvex=np.linspace(-2,3,100)\n",
        "curvey=func(curvex,p1,p2)\n",
        "\n",
        "plt.plot(x,y,'bo ')\n",
        "plt.plot(curvex,curvey,'r')\n",
        "plt.title('Non-linear fitting')\n",
        "plt.xlabel('x')\n",
        "plt.ylabel('y')\n",
        "plt.legend(['data','fit'],loc='best')\n",
        "plt.show()\n"
      ]
    },
    {
      "cell_type": "markdown",
      "metadata": {
        "id": "mCyQs57kBtvw"
      },
      "source": [
        "3-26 ロジスティック回帰"
      ]
    },
    {
      "cell_type": "code",
      "execution_count": null,
      "metadata": {
        "colab": {
          "base_uri": "https://localhost:8080/",
          "height": 348
        },
        "id": "G3BbhZxkBtvx",
        "outputId": "ca50bb56-0e0b-4d65-8fa6-9b00008830d5"
      },
      "outputs": [],
      "source": [
        "import sklearn.linear_model as lm\n",
        "\n",
        "# データの読み込み\n",
        "df = pd.read_csv('Data/Grade_Set_1_Classification.csv')\n",
        "x= df.Hours_Studied[:, np.newaxis] # 独立変数\n",
        "y= df.Result                       # 従属変数\n",
        "\n",
        "# 線形回帰オブジェクトの作成\n",
        "lr = lm.LinearRegression()\n",
        "\n",
        "# 訓練データセットを使ってモデルを訓練\n",
        "lr.fit(x, y)\n",
        "\n",
        "# 直線のプロット\n",
        "plt.scatter(x, y,  color='black')\n",
        "plt.plot(x, lr.predict(x), color='blue', linewidth=3)\n",
        "plt.title('Hours Studied vs Result')\n",
        "plt.ylabel('Result')\n",
        "plt.xlabel('Hours_Studied')\n",
        "\n",
        "# Dataframeへ予測値の追加\n",
        "df['Result_Pred'] = lr.predict(x)\n",
        "\n",
        "# 標準ライブラリを使用\n",
        "print (\"R Squared : \", r2_score(df.Result, df.Result_Pred))\n",
        "print (\"Mean Absolute Error: \", mean_absolute_error(df.Result, df.Result_Pred))\n",
        "print (\"Root Mean Squared Error: \", np.sqrt(mean_squared_error(df.Result, df.Result_Pred)))\n"
      ]
    },
    {
      "cell_type": "markdown",
      "metadata": {
        "id": "wRrmJOa-Btvx"
      },
      "source": [
        "3-27. シグモイド関数のプロット"
      ]
    },
    {
      "cell_type": "code",
      "execution_count": null,
      "metadata": {
        "colab": {
          "base_uri": "https://localhost:8080/",
          "height": 282
        },
        "id": "FCfaGnVXBtvx",
        "outputId": "4c6fc7a2-f2dc-40f8-e86a-f9f04314ad21"
      },
      "outputs": [],
      "source": [
        "# シグモイド関数のプロット\n",
        "x = np.linspace(-10, 10, 100)\n",
        "y = 1.0 / (1.0 + np.exp(-x))\n",
        "plt.plot(x, y, 'r-', label='logit')\n",
        "plt.legend(loc='lower right')"
      ]
    },
    {
      "cell_type": "markdown",
      "metadata": {
        "id": "JP7pRsA8Btvx"
      },
      "source": [
        "3-28. Scikit-learnを使ったロジスティック回帰"
      ]
    },
    {
      "cell_type": "code",
      "execution_count": null,
      "metadata": {
        "colab": {
          "base_uri": "https://localhost:8080/",
          "height": 348
        },
        "id": "AskOzoaiBtvx",
        "outputId": "1e3a0717-3fb8-451b-bfa2-fe67e202725f"
      },
      "outputs": [],
      "source": [
        "from sklearn.linear_model import LogisticRegression\n",
        "\n",
        "# 手動でインターセプトを追加\n",
        "df['intercept'] = 1\n",
        "independent_variables = ['Hours_Studied', 'intercept']\n",
        "x = df[independent_variables]         # 独立変数\n",
        "y = df['Result']                      # 従属変数\n",
        "\n",
        "# ロジスティック回帰モデルをインスタンス化して，XとYにフィットさせる\n",
        "model = LogisticRegression(max_iter=10)\n",
        "model = model.fit(x, y)\n",
        "\n",
        "# 訓練データセットでの精度確認\n",
        "model.score(x, y)\n",
        "\n",
        "# predict_probaでy = 0とy = 1の確率を含む配列を返す\n",
        "print ('Predicted probability:', model.predict_proba(x)[:,1])\n",
        "\n",
        "# predictでは確率(y=1)の値が0.5を超えた場合1，超えない場合は0に変換する\n",
        "print ('Predicted Class:',model.predict(x))\n",
        "\n",
        "# フィッティングした線のプロット\n",
        "plt.scatter(df.Hours_Studied, y,  color='black')\n",
        "plt.yticks([0.0, 0.5, 1.0])\n",
        "plt.plot(df.Hours_Studied, model.predict_proba(x)[:,1], color='blue', linewidth=3)\n",
        "plt.title('Hours Studied vs Result')\n",
        "plt.ylabel('Result')\n",
        "plt.xlabel('Hours_Studied')\n",
        "plt.show()\n"
      ]
    },
    {
      "cell_type": "markdown",
      "metadata": {
        "id": "kzUs2MaEBtvx"
      },
      "source": [
        "3-29. 混同行列"
      ]
    },
    {
      "cell_type": "code",
      "execution_count": null,
      "metadata": {
        "colab": {
          "base_uri": "https://localhost:8080/"
        },
        "id": "eSJmlbRSBtvy",
        "outputId": "ddb003ad-3f9e-4d55-cf29-50e2c4be957e"
      },
      "outputs": [],
      "source": [
        "from sklearn import metrics\n",
        "\n",
        "# 評価指標の作成\n",
        "print (\"Accuracy :\", metrics.accuracy_score(y, model.predict(x)))\n",
        "print (\"AUC :\", metrics.roc_auc_score(y, model.predict_proba(x)[:,1]))\n",
        "print (\"Confusion matrix :\", metrics.confusion_matrix(y, model.predict(x)))\n",
        "print (\"classification report :\", metrics.classification_report(y, model.predict(x)))"
      ]
    },
    {
      "cell_type": "markdown",
      "metadata": {
        "id": "WRA4iv1ZBtvy"
      },
      "source": [
        "3-30　曲線下面積"
      ]
    },
    {
      "cell_type": "code",
      "execution_count": null,
      "metadata": {
        "colab": {
          "base_uri": "https://localhost:8080/",
          "height": 312
        },
        "id": "qD4rq6N4Btvy",
        "outputId": "c0f53c0d-4733-4ee2-de56-dc8d2c463e9a"
      },
      "outputs": [],
      "source": [
        "# 偽陽性率と真陽性率の決定\n",
        "fpr, tpr, _ = metrics.roc_curve(y, model.predict_proba(x)[:,1])\n",
        "\n",
        "# AUCの計算\n",
        "roc_auc = metrics.auc(fpr, tpr)\n",
        "print ('ROC AUC: %0.2f' % roc_auc)\n",
        "\n",
        "# 特定のクラスに対するROC曲線のプロット\n",
        "plt.plot()\n",
        "plt.plot(fpr, tpr, label='ROC curve (area = %0.2f)' % roc_auc)\n",
        "plt.plot([0, 1], [0, 1], 'k--')\n",
        "plt.xlim([0.0, 1.0])\n",
        "plt.ylim([0.0, 1.05])\n",
        "plt.xlabel('False Positive Rate')\n",
        "plt.ylabel('True Positive Rate')\n",
        "plt.title('ROC Curve')\n",
        "plt.legend(loc=\"lower right\")\n",
        "plt.show()\n"
      ]
    },
    {
      "cell_type": "markdown",
      "metadata": {
        "id": "q5mIujm9Btvy"
      },
      "source": [
        "3-31. 直線フィッティングの複雑さの調節"
      ]
    },
    {
      "cell_type": "code",
      "execution_count": null,
      "metadata": {
        "colab": {
          "base_uri": "https://localhost:8080/",
          "height": 365
        },
        "id": "TcA4j3UPBtvy",
        "outputId": "0aa92e3f-e069-4760-ceef-c2920976ff92"
      },
      "outputs": [],
      "source": [
        "# デフォルトのc値でロジスティック回帰モデルをインスタンス化しXとyで適合させる\n",
        "model = LogisticRegression()\n",
        "model = model.fit(x, y)\n",
        "\n",
        "# 学習データセットでの精度確認\n",
        "print (\"C = 1 (default), Accuracy :\", metrics.accuracy_score(y, model.predict(x)))\n",
        "\n",
        "# c = 10のロジスティック回帰モデルをインスタンス化しXとyで適合させる\n",
        "model1 = LogisticRegression(C=10)\n",
        "model1 = model1.fit(x, y)\n",
        "\n",
        "# トレーニングセットでの精度確認\n",
        "print (\"C = 10, Accuracy :\", metrics.accuracy_score(y, model1.predict(x)))\n",
        "\n",
        "# c = 100のロジスティック回帰モデルをインスタンス化しXとyで適合させる\n",
        "model2 = LogisticRegression(C=100)\n",
        "model2 = model2.fit(x, y)\n",
        "\n",
        "# トレーニングセットでの精度確認\n",
        "print (\"C = 100, Accuracy :\", metrics.accuracy_score(y, model2.predict(x)))\n",
        "\n",
        "# c = 1000のロジスティック回帰モデルをインスタンス化しXとyで適合させる\n",
        "model3 = LogisticRegression(C=1000)\n",
        "model3 = model3.fit(x, y)\n",
        "\n",
        "# 学習データセットでの精度確認\n",
        "print (\"C = 1000, Accuracy :\", metrics.accuracy_score(y, model3.predict(x)))\n",
        "\n",
        "# フィッティングした線をプロット\n",
        "plt.scatter(df.Hours_Studied, y,  color='black', label='Result')\n",
        "plt.yticks([0.0, 0.5, 1.0])\n",
        "plt.plot(df.Hours_Studied, model.predict_proba(x)[:,1], color='gray', linewidth=2, label='C=1.0')\n",
        "plt.plot(df.Hours_Studied, model1.predict_proba(x)[:,1], color='blue', linewidth=2,label='C=10')\n",
        "plt.plot(df.Hours_Studied, model2.predict_proba(x)[:,1], color='green', linewidth=2,label='C=100')\n",
        "plt.plot(df.Hours_Studied, model3.predict_proba(x)[:,1], color='red', linewidth=2,label='C=1000')\n",
        "plt.legend(loc='lower right') # 凡例の位置\n",
        "plt.title('Hours Studied vs Result')\n",
        "plt.ylabel('Result')\n",
        "plt.xlabel('Hours_Studied')\n",
        "plt.show()\n"
      ]
    },
    {
      "cell_type": "markdown",
      "metadata": {
        "id": "DGsnxVbGBtvy"
      },
      "source": [
        "3-32. 過剰適合，正しい適合，過小適合"
      ]
    },
    {
      "cell_type": "code",
      "execution_count": null,
      "metadata": {
        "colab": {
          "base_uri": "https://localhost:8080/",
          "height": 1000
        },
        "id": "8wMQ14lfBtvy",
        "outputId": "a2c3a30c-43e9-46f5-b911-a9ce5fde00e3"
      },
      "outputs": [],
      "source": [
        "import pandas as pd\n",
        "\n",
        "data = pd.read_csv('Data/LR_NonLinear.csv')\n",
        "pos = data['class'] == 1\n",
        "neg = data['class'] == 0\n",
        "x1 = data['x1']\n",
        "x2 = data['x2']\n",
        "\n",
        "# 2つの変数の間の散布図を作成\n",
        "def draw_plot():\n",
        "    plt.figure(figsize=(6, 6))\n",
        "    plt.scatter(np.extract(pos, x1), np.extract(pos, x2), c='b', marker='s', label='pos')\n",
        "    plt.scatter(np.extract(neg, x1), np.extract(neg, x2), c='r', marker='o', label='neg')   \n",
        "    plt.xlabel('x1')\n",
        "    plt.ylabel('x2')\n",
        "    plt.legend()\n",
        "\n",
        "# 独立変数の高次多項式の作成\n",
        "order_no = 6\n",
        "\n",
        "# 変数1と2をその高次多項式に対応させる\n",
        "def map_features(variable_1, variable_2, order=order_no):\n",
        "    assert order >= 1\n",
        "    def iter():\n",
        "        for i in range(1, order + 1):\n",
        "            for j in range(i + 1):\n",
        "                yield np.power(variable_1, i - j) * np.power(variable_2, j)\n",
        "    return np.vstack(iter())\n",
        "out = map_features(data['x1'], data['x2'], order=order_no)\n",
        "X = out.transpose()\n",
        "y = data['class']\n",
        "\n",
        "# データを訓練用とテスト用に分割\n",
        "X_train, X_test, y_train, y_test = train_test_split(X, y, test_size=0.3, random_state=0)\n",
        "\n",
        "# 分類直線を描画するための関数\n",
        "def draw_boundary(classifier):\n",
        "    dim = np.linspace(-0.8, 1.1, 100)\n",
        "    dx, dy = np.meshgrid(dim, dim)\n",
        "    v = map_features(dx.flatten(), dy.flatten(), order=order_no)\n",
        "    z = (np.dot(classifier.coef_, v) + classifier.intercept_).reshape(100, 100)\n",
        "    plt.contour(dx, dy, z, levels=[0], colors=['r'])\n",
        "\n",
        "# # c = 0.01として適合させる\n",
        "clf = LogisticRegression(C=0.01).fit(X_train, y_train)\n",
        "print ('Train Accuracy for C=0.01: ', clf.score(X_train, y_train))\n",
        "print ('Test Accuracy for C=0.01: ', clf.score(X_test, y_test))\n",
        "draw_plot()\n",
        "plt.title('Fitting with C=0.01')\n",
        "draw_boundary(clf)\n",
        "plt.legend()\n",
        "\n",
        "# # c = 1として適合させる\n",
        "clf = LogisticRegression(C=1).fit(X_train, y_train)\n",
        "print ('Train Accuracy for C=1: ', clf.score(X_train, y_train))\n",
        "print ('Test Accuracy for C=1: ', clf.score(X_test, y_test))\n",
        "draw_plot()\n",
        "plt.title('Fitting with C=1')\n",
        "draw_boundary(clf)\n",
        "plt.legend()\n",
        "\n",
        "# # c = 10000として適合させる\n",
        "clf = LogisticRegression(C=10000).fit(X_train, y_train)\n",
        "print ('Train Accuracy for C=10000: ', clf.score(X_train, y_train))\n",
        "print ('Test Accuracy for C=10000: ', clf.score(X_test, y_test))\n",
        "draw_plot()\n",
        "plt.title('Fitting with C=10000')\n",
        "draw_boundary(clf)\n",
        "plt.legend()\n"
      ]
    },
    {
      "cell_type": "markdown",
      "metadata": {
        "id": "FnXAPRJUBtvz"
      },
      "source": [
        "3-33. データの読み込み"
      ]
    },
    {
      "cell_type": "code",
      "execution_count": null,
      "metadata": {
        "colab": {
          "base_uri": "https://localhost:8080/"
        },
        "id": "gH8wU9WwBtvz",
        "outputId": "aa8091b0-c8ff-43b9-a214-2578a197e684"
      },
      "outputs": [],
      "source": [
        "from sklearn import datasets\n",
        "import numpy as np\n",
        "import pandas as pd\n",
        "iris = datasets.load_iris()\n",
        "X = iris.data\n",
        "y = iris.target\n",
        "print('Class labels:', np.unique(y))\n"
      ]
    },
    {
      "cell_type": "markdown",
      "metadata": {
        "id": "9pTEaMgWBtvz"
      },
      "source": [
        "3-34. 正規化"
      ]
    },
    {
      "cell_type": "code",
      "execution_count": null,
      "metadata": {
        "id": "vFKWZ1feBtvz"
      },
      "outputs": [],
      "source": [
        "from sklearn.preprocessing import StandardScaler\n",
        "sc = StandardScaler()\n",
        "sc.fit(X)\n",
        "X = sc.transform(X)"
      ]
    },
    {
      "cell_type": "markdown",
      "metadata": {
        "id": "XmPYrj0PBtvz"
      },
      "source": [
        "3-35. 訓練データとテストデータの分割"
      ]
    },
    {
      "cell_type": "code",
      "execution_count": null,
      "metadata": {
        "id": "yer2O8nbBtvz"
      },
      "outputs": [],
      "source": [
        "# 訓練データとテストデータの分割\n",
        "from sklearn.model_selection import train_test_split\n",
        "X_train, X_test, y_train, y_test = train_test_split(X, y, test_size=0.3, random_state=0)"
      ]
    },
    {
      "cell_type": "markdown",
      "metadata": {
        "id": "-XZlnm6fBtvz"
      },
      "source": [
        "3-36.  ロジスティック回帰モデルの学習とその評価"
      ]
    },
    {
      "cell_type": "code",
      "execution_count": null,
      "metadata": {
        "colab": {
          "base_uri": "https://localhost:8080/"
        },
        "id": "_tBJZ-15Btv0",
        "outputId": "f3533bc8-909f-4e9a-d735-488cabf9a41a"
      },
      "outputs": [],
      "source": [
        "from sklearn.linear_model import LogisticRegression\n",
        "from sklearn import metrics\n",
        "\n",
        "# L1正規化で良い結果を求める\n",
        "lr = LogisticRegression(penalty='l1', C=10, random_state=0,solver='liblinear')\n",
        "lr.fit(X_train, y_train)\n",
        "\n",
        "# 評価指標の生成\n",
        "print(\"Train - Accuracy :\", metrics.accuracy_score(y_train, lr.predict(X_train)))\n",
        "print(\"Train - Confusion matrix :\",metrics.confusion_matrix(y_train, lr.predict(X_train)))\n",
        "print(\"Train - classification report :\", metrics.classification_report(y_train, lr.predict(X_train)))\n",
        "print(\"Test - Accuracy :\", metrics.accuracy_score(y_test, lr.predict(X_test)))\n",
        "print(\"Test - Confusion matrix :\",metrics.confusion_matrix(y_test, lr.predict(X_test)))\n",
        "print(\"Test - classification report :\", metrics.classification_report(y_test, lr.predict(X_test)))\n"
      ]
    },
    {
      "cell_type": "markdown",
      "metadata": {
        "id": "e5rdgOS1Btv0"
      },
      "source": [
        "3-37. 一般化線形モデル"
      ]
    },
    {
      "cell_type": "code",
      "execution_count": null,
      "metadata": {
        "colab": {
          "base_uri": "https://localhost:8080/"
        },
        "id": "3hncujmxBtv0",
        "outputId": "39b02d99-13e5-4856-8559-0bdacc326283"
      },
      "outputs": [],
      "source": [
        "df = pd.read_csv('Data/Grade_Set_1.csv')\n",
        "\n",
        "print('####### Linear Regression Model ########')\n",
        "\n",
        "# 線形回帰モデルの作成\n",
        "lr = lm.LinearRegression()\n",
        "x= df.Hours_Studied[:, np.newaxis] # 独立変数\n",
        "y= df.Test_Grade.values            # 従属変数\n",
        "\n",
        "# 訓練データセットを使ってモデルをトレーニング\n",
        "lr.fit(x, y)\n",
        "print (\"Intercept: \", lr.intercept_)\n",
        "print (\"Coefficient: \", lr.coef_)\n",
        "print('\\n####### Generalized Linear Model ########')\n",
        "import statsmodels.api as sm\n",
        "\n",
        "# GLMを実行するためにはx変数に切片定数を追加する必要がある\n",
        "x = sm.add_constant(x, prepend=False)\n",
        "\n",
        "# デフォルトのリンク関数でガウスファミリーモデルをインスタンス化\n",
        "model = sm.GLM(y, x, family = sm.families.Gaussian())\n",
        "model = model.fit()\n",
        "print (model.summary())\n"
      ]
    },
    {
      "cell_type": "markdown",
      "metadata": {
        "id": "E6cUSU_kBtv0"
      },
      "source": [
        "3-38. 決定木モデル"
      ]
    },
    {
      "cell_type": "code",
      "execution_count": null,
      "metadata": {
        "colab": {
          "base_uri": "https://localhost:8080/"
        },
        "id": "BrZ_QAROBtv0",
        "outputId": "d124e586-17c3-4e90-c68f-9338cbfcea51"
      },
      "outputs": [],
      "source": [
        "# pydotをpip install しておく\n",
        "from sklearn import datasets\n",
        "import numpy as np\n",
        "import pandas as pd\n",
        "from sklearn import tree\n",
        "iris = datasets.load_iris()\n",
        "# X = iris.data[:, [2, 3]]\n",
        "X = iris.data\n",
        "y = iris.target\n",
        "from sklearn.preprocessing import StandardScaler\n",
        "sc = StandardScaler()\n",
        "sc.fit(X)\n",
        "X = sc.transform(X)\n",
        "\n",
        "# 学習データとテストデータに分割\n",
        "from sklearn.model_selection import train_test_split\n",
        "X_train, X_test, y_train, y_test = train_test_split(X, y, test_size=0.3, random_state=0)\n",
        "clf = tree.DecisionTreeClassifier(criterion = 'entropy', random_state=0)\n",
        "clf.fit(X_train, y_train)\n",
        "\n",
        "# 評価指標の生成\n",
        "print(\"Train - Accuracy :\", metrics.accuracy_score(y_train, clf.predict(X_train)))\n",
        "print(\"Train - Confusion matrix :\",metrics.confusion_matrix(y_train, clf.predict(X_train)))\n",
        "print(\"Train - classification report :\", metrics.classification_report(y_train, clf.predict(X_train)))\n",
        "print(\"Test - Accuracy :\", metrics.accuracy_score(y_test, clf.predict(X_test)))\n",
        "print(\"Test - Confusion matrix :\",metrics.confusion_matrix(y_test, clf.predict(X_test)))\n",
        "print(\"Test - classification report :\", metrics.classification_report\n",
        "(y_test, clf.predict(X_test)))\n",
        "tree.export_graphviz(clf, out_file='tree.dot')\n",
        "\n",
        "from six import StringIO\n",
        "import pydot\n",
        "out_data = StringIO()\n",
        "tree.export_graphviz(clf, out_file=out_data,\n",
        "                    feature_names=iris.feature_names,\n",
        "                    class_names=clf.classes_.astype(int).astype(str),\n",
        "                    filled=True, rounded=True,\n",
        "                    special_characters=True,\n",
        "                    node_ids=1,)\n",
        "graph = pydot.graph_from_dot_data(out_data.getvalue())\n",
        "# graph[0].write_pdf(\"iris.pdf\")  # save to pdf\n"
      ]
    },
    {
      "cell_type": "markdown",
      "metadata": {
        "id": "gnplqF4jBtv0"
      },
      "source": [
        "3-39. サポートベクターマシン"
      ]
    },
    {
      "cell_type": "code",
      "execution_count": null,
      "metadata": {
        "colab": {
          "base_uri": "https://localhost:8080/"
        },
        "id": "YblDSAXDBtv0",
        "outputId": "fb8642b7-8824-4d35-e7ca-24935d6461dc"
      },
      "outputs": [],
      "source": [
        "from sklearn import datasets\n",
        "import numpy as np\n",
        "import pandas as pd\n",
        "from sklearn import tree\n",
        "from sklearn import metrics\n",
        "iris = datasets.load_iris()\n",
        "X = iris.data[:, [2, 3]]\n",
        "y = iris.target\n",
        "print('Class labels:', np.unique(y))\n",
        "from sklearn.preprocessing import StandardScaler\n",
        "sc = StandardScaler()\n",
        "sc.fit(X)\n",
        "X = sc.transform(X)\n",
        "\n",
        "# 学習データととリーニングデータの分割\n",
        "from sklearn.model_selection import train_test_split\n",
        "X_train, X_test, y_train, y_test = train_test_split(X, y, test_size=0.3, random_state=0)\n",
        "from sklearn.svm import SVC\n",
        "clf = SVC(kernel='linear', C=1.0, random_state=0)\n",
        "clf.fit(X_train, y_train)\n",
        "\n",
        "# 評価指標の生成\n",
        "print(\"Train - Accuracy :\", metrics.accuracy_score(y_train, clf.predict(X_train)))\n",
        "print(\"Train - Confusion matrix :\",metrics.confusion_matrix(y_train, clf.predict(X_train)))\n",
        "print(\"Train - classification report :\", metrics.classification_report(y_train, clf.predict(X_train)))\n",
        "print(\"Test - Accuracy :\", metrics.accuracy_score(y_test, clf.predict(X_test)))\n",
        "print(\"Test - Confusion matrix :\", metrics.confusion_matrix(y_test, clf.predict(X_test)))\n",
        "print(\"Test - classification report :\", metrics.classification_report\n",
        "(y_test, clf.predict(X_test)))"
      ]
    },
    {
      "cell_type": "markdown",
      "metadata": {
        "id": "DTqBrdOhBtv1"
      },
      "source": [
        "3-40.   SVMの決定境界線の設定"
      ]
    },
    {
      "cell_type": "code",
      "execution_count": null,
      "metadata": {
        "colab": {
          "base_uri": "https://localhost:8080/",
          "height": 297
        },
        "id": "qHgwu2mnBtv1",
        "outputId": "36d67782-be55-4ec9-bb1a-427bc57a7332"
      },
      "outputs": [],
      "source": [
        "#sklearnのmake_classification関数を使ってテストデータを作ってみよう\n",
        "from sklearn.datasets import make_classification\n",
        "from matplotlib.colors import ListedColormap\n",
        "\n",
        "X, y = make_classification(n_samples=100, n_features=2, n_informative=2, n_redundant=0, weights=[.5, .5], random_state=0)\n",
        "\n",
        "# 単純なロジスティック回帰モデルの構築\n",
        "clf = SVC(kernel='linear', random_state=0)\n",
        "clf.fit(X, y)\n",
        "\n",
        "# 分離するための超平面を作成\n",
        "w = clf.coef_[0]\n",
        "a = -w[0] / w[1]\n",
        "xx = np.linspace(-5, 5)\n",
        "yy = a * xx - (clf.intercept_[0]) / w[1]\n",
        "\n",
        "# サポートベクタルを通過する超平面をプロット\n",
        "b = clf.support_vectors_[0]\n",
        "yy_down = a * xx + (b[1] - a * b[0])\n",
        "b = clf.support_vectors_[-1]\n",
        "yy_up = a * xx + (b[1] - a * b[0])\n",
        "\n",
        "\n",
        "# 決定境界をプロットする\n",
        "def plot_decision_regions(X, y, classifier):\n",
        "    \n",
        "    h = .02  # メッシュのステップサイズを設定\n",
        "    # カラーマップを作成\n",
        "    markers = ('s', 'x', 'o', '^', 'v')\n",
        "    colors = ('red', 'blue', 'lightgreen', 'gray', 'cyan')\n",
        "    cmap = ListedColormap(colors[:len(np.unique(y))])\n",
        "\n",
        "    # 決定境界のプロット\n",
        "    x1_min, x1_max = X[:, 0].min() - 1, X[:, 0].max() + 1\n",
        "    x2_min, x2_max = X[:, 1].min() - 1, X[:, 1].max() + 1\n",
        "    xx1, xx2 = np.meshgrid(np.arange(x1_min, x1_max, h),\n",
        "                           np.arange(x2_min, x2_max, h))\n",
        "    Z = classifier.predict(np.array([xx1.ravel(), xx2.ravel()]).T)\n",
        "    Z = Z.reshape(xx1.shape)\n",
        "    plt.contourf(xx1, xx2, Z, alpha=0.4, cmap=cmap)\n",
        "    plt.xlim(xx1.min(), xx1.max())\n",
        "    plt.ylim(xx2.min(), xx2.max())\n",
        "\n",
        "    for idx, cl in enumerate(np.unique(y)):\n",
        "        plt.scatter(x=X[y == cl, 0], y=X[y == cl, 1],\n",
        "                    alpha=0.8, color=cmap(idx),\n",
        "                    marker=markers[idx], label=cl)\n",
        "\n",
        "plot_decision_regions(X, y, classifier=clf)\n",
        "\n",
        "# 直線，点，平面に最も近いベクトルをプロットする\n",
        "plt.scatter(clf.support_vectors_[:, 0], clf.support_vectors_[:, 1], s=80, facecolors='none')\n",
        "plt.plot(xx, yy_down, 'k--')\n",
        "plt.plot(xx, yy_up, 'k--')\n",
        "plt.xlabel('X1')\n",
        "plt.ylabel('X2')\n",
        "plt.legend(loc='upper left')\n",
        "plt.tight_layout()\n",
        "plt.show()"
      ]
    },
    {
      "cell_type": "markdown",
      "metadata": {
        "id": "qDnSHdCrBtv1"
      },
      "source": [
        "3-41. ｋ近傍法"
      ]
    },
    {
      "cell_type": "code",
      "execution_count": null,
      "metadata": {
        "colab": {
          "base_uri": "https://localhost:8080/"
        },
        "id": "k9ixhbPcBtv1",
        "outputId": "a353381c-6384-4545-ed9c-7bb28f36c8e5"
      },
      "outputs": [],
      "source": [
        "from sklearn.neighbors import KNeighborsClassifier\n",
        "clf = KNeighborsClassifier(n_neighbors=5, p=2, metric='minkowski')\n",
        "clf.fit(X_train, y_train)\n",
        "\n",
        "# 評価指標の作成\n",
        "print(\"Train - Accuracy :\", metrics.accuracy_score(y_train, clf.predict(X_train)))\n",
        "print(\"Train - Confusion matrix :\",metrics.confusion_matrix(y_train, clf.predict(X_train)))\n",
        "print(\"Train - classification report :\", metrics.classification_report(y_train, clf.predict(X_train)))\n",
        "print(\"Test - Accuracy :\", metrics.accuracy_score(y_test, clf.predict(X_test)))\n",
        "print(\"Test - Confusion matrix :\", metrics.confusion_matrix(y_test, clf.predict(X_test)))\n",
        "print(\"Test - classification report :\", metrics.classification_report(y_test, clf.predict(X_test)))\n"
      ]
    },
    {
      "cell_type": "markdown",
      "metadata": {
        "id": "vghAzdRABtv1"
      },
      "source": [
        "3-42. 時系列の分解"
      ]
    },
    {
      "cell_type": "code",
      "execution_count": null,
      "metadata": {
        "colab": {
          "base_uri": "https://localhost:8080/",
          "height": 240
        },
        "id": "GZEcpqnpBtv1",
        "outputId": "0f0bfe70-e0eb-4d75-c7cc-d8ba3fe9189e"
      },
      "outputs": [],
      "source": [
        "# データソース: O.D. Anderson (1976), in file: data/anderson14,  X社の月次売上高 Jan '65 – May '71 C.\n",
        "df = pd.read_csv('Data/TS.csv')\n",
        "ts = pd.Series(list(df['Sales']), index=pd.to_datetime(df['Month'],format='%Y-%m'))\n",
        "from statsmodels.tsa.seasonal import seasonal_decompose\n",
        "\n",
        "# 対数変換\n",
        "ts_log = np.log(ts)\n",
        "ts_log.dropna(inplace=True)\n",
        "\n",
        "decomposition = seasonal_decompose(ts)\n",
        "trend = decomposition.trend\n",
        "seasonal = decomposition.seasonal\n",
        "residual = decomposition.resid\n",
        "plt.subplot(411)\n",
        "plt.plot(ts_log, label='Original')\n",
        "plt.legend(loc='best')\n",
        "plt.subplot(412)\n",
        "plt.plot(trend, label='Trend')\n",
        "plt.legend(loc='best')\n",
        "plt.subplot(413)\n",
        "plt.plot(seasonal,label='Seasonality')\n",
        "plt.legend(loc='best')\n",
        "plt.tight_layout()"
      ]
    },
    {
      "cell_type": "code",
      "execution_count": null,
      "metadata": {
        "colab": {
          "base_uri": "https://localhost:8080/",
          "height": 260
        },
        "id": "ipHVo1yoBtv2",
        "outputId": "9446f665-9b62-42b7-bc4e-a5aec32cd760"
      },
      "outputs": [],
      "source": [
        "from statsmodels.tsa.stattools import adfuller\n",
        "\n",
        "s_test = adfuller(ts_log, autolag='AIC')\n",
        "print (\"Log transform stationary check p value: \", s_test[1])\n",
        "# 最初の差分を取る\n",
        "ts_log_diff = ts_log - ts_log.shift()\n",
        "ts_log_diff.dropna(inplace=True)\n",
        "s_test = adfuller(ts_log_diff, autolag='AIC')\n",
        "print (\"First order difference stationary check p value: \", s_test[1] )\n",
        "# 移動平均で線を滑らかにする\n",
        "moving_avg = ts_log.rolling(12).mean()\n",
        "fig, (ax1, ax2) = plt.subplots(1, 2, figsize = (10,3))\n",
        "ax1.set_title('First order difference')\n",
        "ax1.tick_params(axis='x', labelsize=7)\n",
        "ax1.tick_params(axis='y', labelsize=7)\n",
        "ax1.plot(ts_log_diff)\n",
        "ax2.plot(ts_log)\n",
        "ax2.set_title('Log vs Moving AVg')\n",
        "ax2.tick_params(axis='x', labelsize=7)\n",
        "ax2.tick_params(axis='y', labelsize=7)\n",
        "ax2.plot(moving_avg, color='red')\n",
        "plt.tight_layout()\n"
      ]
    },
    {
      "cell_type": "markdown",
      "metadata": {
        "id": "46Y9T-YcBtv2"
      },
      "source": [
        "3-44. 自己相関検定"
      ]
    },
    {
      "cell_type": "code",
      "execution_count": null,
      "metadata": {
        "colab": {
          "base_uri": "https://localhost:8080/",
          "height": 258
        },
        "id": "IMIJ1fWMBtv2",
        "outputId": "e69d6c7e-88d0-4ef1-99d6-0edea8351584"
      },
      "outputs": [],
      "source": [
        "fig, (ax1, ax2) = plt.subplots(1, 2, figsize = (10,3))\n",
        "# ACFチャート\n",
        "fig = sm.graphics.tsa.plot_acf(ts_log_diff.values.squeeze(), lags=20, ax=ax1)\n",
        "# 95%信頼区間線の描画\n",
        "ax1.axhline(y=-1.96/np.sqrt(len(ts_log_diff)),linestyle='--',color='gray')\n",
        "ax1.axhline(y=1.96/np.sqrt(len(ts_log_diff)),linestyle='--',color='gray')\n",
        "ax1.set_xlabel('Lags')\n",
        "# PACFチャート\n",
        "fig = sm.graphics.tsa.plot_pacf(ts_log_diff, lags=20, ax=ax2)\n",
        "# 95%信頼区間線の描画\n",
        "ax2.axhline(y=-1.96/np.sqrt(len(ts_log_diff)),linestyle='--',color='gray')\n",
        "ax2.axhline(y=1.96/np.sqrt(len(ts_log_diff)),linestyle='--',color='gray')\n",
        "ax2.set_xlabel('Lags')\n"
      ]
    },
    {
      "cell_type": "markdown",
      "metadata": {
        "id": "7TEY8vTWBtv2"
      },
      "source": [
        "3-45.  ARIMAモデルの構築と評価"
      ]
    },
    {
      "cell_type": "code",
      "execution_count": null,
      "metadata": {
        "colab": {
          "base_uri": "https://localhost:8080/"
        },
        "id": "bKHUBbsxBtv2",
        "outputId": "36cde241-4a08-4ce0-b647-0792d2975fdf"
      },
      "outputs": [],
      "source": [
        "# モデルの構築\n",
        "model = sm.tsa.ARIMA(ts_log, order=(2,0,2))\n",
        "results_ARIMA = model.fit(disp=-1)\n",
        "ts_predict = results_ARIMA.predict()\n",
        "\n",
        "# モデルの評価\n",
        "print(\"AIC: \", results_ARIMA.aic)\n",
        "print(\"BIC: \", results_ARIMA.bic)\n",
        "print(\"Mean Absolute Error: \", mean_absolute_error(ts_log.values, ts_predict.values))\n",
        "print(\"Root Mean Squared Error: \", np.sqrt(mean_squared_error(ts_log.values, ts_predict.values)))\n",
        "\n",
        "# 自己相関の確認\n",
        "print(\"Durbin-Watson statistic :\", sm.stats.durbin_watson(results_ARIMA.resid.values))"
      ]
    },
    {
      "cell_type": "markdown",
      "metadata": {},
      "source": [
        "3-46. ARIMAモデルの構築とpを3に増大させた場合の評価\n"
      ]
    },
    {
      "cell_type": "code",
      "execution_count": null,
      "metadata": {},
      "outputs": [],
      "source": [
        "model = sm.tsa.ARIMA(ts_log, order=(3,0,2))\n",
        "results_ARIMA = model.fit(disp=-1)\n",
        "ts_predict = results_ARIMA.predict()\n",
        "\n",
        "plt.title('ARIMA Prediction - order(3,0,2)')\n",
        "plt.plot(ts_log, label='Actual')\n",
        "plt.plot(ts_predict, 'r--', label='Precicted')\n",
        "plt.xlabel('Year-Month')\n",
        "plt.ylabel('Sales')\n",
        "plt.legend(loc='best')\n",
        "\n",
        "print(\"AIC; \", results_ARIMA.aic)\n",
        "print(\"BIC: \", results_ARIMA.bic)\n",
        "\n",
        "print(\"Mean Absolute Error: \",\n",
        "      mean_absolute_error(ts_log.values, ts_predict.values))\n",
        "print(\"RootMean Squared Error: \",\n",
        "      np.sqrt(mean_squared_error(ts_log.values, ts_predict.values)))\n",
        "\n",
        "#自己相関の確認\n",
        "print(\"Durbin-Watson statistic: \",\n",
        "      sm.stats.durbin_watson(results_ARIMA.resid.values))"
      ]
    },
    {
      "cell_type": "markdown",
      "metadata": {
        "id": "9qUe4WWWBtv2"
      },
      "source": [
        "3-47.  一次差分とARIMA"
      ]
    },
    {
      "cell_type": "code",
      "execution_count": null,
      "metadata": {
        "colab": {
          "base_uri": "https://localhost:8080/",
          "height": 451
        },
        "id": "4ZAO2M3rBtv3",
        "outputId": "52a06cdd-9c4c-4f81-f2b1-be6f5e8fe22b"
      },
      "outputs": [],
      "source": [
        "model = sm.tsa.ARIMA(ts_log, order=(3,1,2))\n",
        "results_ARIMA = model.fit(disp=-1)\n",
        "ts_predict = results_ARIMA.predict()\n",
        "\n",
        "# 差分を補うための補正\n",
        "predictions_ARIMA_diff = pd.Series(ts_predict, copy=True)\n",
        "predictions_ARIMA_diff_cumsum = predictions_ARIMA_diff.cumsum()\n",
        "predictions_ARIMA_log = pd.Series(ts_log.iloc[0], index=ts_log.index)\n",
        "predictions_ARIMA_log = predictions_ARIMA_log.add(predictions_ARIMA_diff_cumsum,fill_value=0)\n",
        "plt.title('ARIMA Prediction - order(3,1,2)')\n",
        "plt.plot(ts_log, label='Actual')\n",
        "plt.plot(predictions_ARIMA_log, 'r--', label='Predicted')\n",
        "plt.xlabel('Year-Month')\n",
        "plt.ylabel('Sales')\n",
        "plt.legend(loc='best')\n",
        "print(\"AIC: \", results_ARIMA.aic)\n",
        "print(\"BIC: \", results_ARIMA.bic)\n",
        "print(\"Mean Absolute Error: \", mean_absolute_error(ts_log_diff.values, ts_predict.values))\n",
        "print(\"Root Mean Squared Error: \", np.sqrt(mean_squared_error(ts_log_diff.values, ts_predict.values)))\n",
        "\n",
        "# 自己相関の確認\n",
        "print(\"Durbin-Watson statistic :\", sm.stats.durbin_watson(results_ARIMA.resid.values))\n"
      ]
    },
    {
      "cell_type": "markdown",
      "metadata": {
        "id": "O2P_JU4vBtv3"
      },
      "source": [
        "3-48. ARIMAの予測関数"
      ]
    },
    {
      "cell_type": "code",
      "execution_count": null,
      "metadata": {
        "colab": {
          "base_uri": "https://localhost:8080/",
          "height": 382
        },
        "id": "9tW5yc5sBtv3",
        "outputId": "776baf73-dd46-43f4-9ec2-84ba8f607aaf"
      },
      "outputs": [],
      "source": [
        "# 最終モデル\n",
        "model = sm.tsa.ARIMA(ts_log, order=(3,0,2))\n",
        "results_ARIMA = model.fit(disp=-1)\n",
        "# 将来値の予測\n",
        "ts_predict = results_ARIMA.predict('1971-06-01', '1972-05-01')\n",
        "plt.title('ARIMA Future Value Prediction - order(3,1,2)')\n",
        "plt.plot(ts_log, label='Actual')\n",
        "plt.plot(ts_predict, 'r--', label='Predicted')\n",
        "plt.xlabel('Year-Month')\n",
        "plt.ylabel('Sales')\n",
        "plt.legend(loc='best')"
      ]
    },
    {
      "cell_type": "markdown",
      "metadata": {
        "id": "SmRtfIIEBtv3"
      },
      "source": [
        "3-49. k-meansクラスタリング"
      ]
    },
    {
      "cell_type": "code",
      "execution_count": null,
      "metadata": {
        "colab": {
          "base_uri": "https://localhost:8080/"
        },
        "id": "kZc1IcCnBtv3",
        "outputId": "ef8b29ea-1a8e-4036-c4fe-85904c430c35"
      },
      "outputs": [],
      "source": [
        "from sklearn import datasets\n",
        "import numpy as np\n",
        "import pandas as pd\n",
        "from sklearn.cluster import KMeans\n",
        "from sklearn.preprocessing import StandardScaler\n",
        "iris = datasets.load_iris()\n",
        "\n",
        "# データフレームの変換\n",
        "iris = pd.DataFrame(data= np.c_[iris['data'], iris['target']],\n",
        "                     columns= iris['feature_names'] + ['species'])\n",
        "\n",
        "# カラム名からスペースを削除\n",
        "iris.columns = iris.columns.str.replace(' ','')\n",
        "iris.head()\n",
        "X = iris.iloc[:,:3]  # 独立変数\n",
        "y = iris.species   # 従属変数\n",
        "sc = StandardScaler()\n",
        "sc.fit(X)\n",
        "X = sc.transform(X)\n",
        "\n",
        "# K Meansクラスター\n",
        "model = KMeans(n_clusters=3, random_state=11)\n",
        "model.fit(X)\n",
        "print (model.labels_)"
      ]
    },
    {
      "cell_type": "markdown",
      "metadata": {
        "id": "ABZIg6YrBtv3"
      },
      "source": [
        "3-50.  k-means クラスタリングの精度"
      ]
    },
    {
      "cell_type": "code",
      "execution_count": null,
      "metadata": {
        "colab": {
          "base_uri": "https://localhost:8080/",
          "height": 704
        },
        "id": "bJPo5OfABtv4",
        "outputId": "75079fcc-f170-431d-b04b-ae21ef79b175"
      },
      "outputs": [],
      "source": [
        "# 教師なしなのでラベルが割り当てられている\n",
        "# 実際のラベルと一致しないので，すべての1を0に，0を1に変換する\n",
        "# 結果として2が最適に見える\n",
        "iris['pred_species'] =  np.choose(model.labels_, [1, 0, 2]).astype(np.int64)\n",
        "print (\"Accuracy :\", metrics.accuracy_score(iris.species, iris.pred_species))\n",
        "print (\"Classification report :\", metrics.classification_report(iris.species, iris.pred_species))\n",
        "\n",
        "# プロットのサイズを設定\n",
        "plt.figure(figsize=(10,7))\n",
        "\n",
        "# 赤，緑，青のカラーマップの作成\n",
        "cmap = ListedColormap(['r', 'g', 'b'])\n",
        "\n",
        "# セパルをプロット\n",
        "plt.subplot(2, 2, 1)\n",
        "plt.scatter(iris['sepallength(cm)'], iris['sepalwidth(cm)'], c=cmap(iris.species), marker='o', s=50)\n",
        "plt.xlabel('sepallength(cm)')\n",
        "plt.ylabel('sepalwidth(cm)')\n",
        "plt.title('Sepal (Actual)')\n",
        "plt.subplot(2, 2, 2)\n",
        "plt.scatter(iris['sepallength(cm)'], iris['sepalwidth(cm)'], c=cmap(iris.pred_species), marker='o', s=50)\n",
        "plt.xlabel('sepallength(cm)')\n",
        "plt.ylabel('sepalwidth(cm)')\n",
        "plt.title('Sepal (Predicted)')\n",
        "plt.subplot(2, 2, 3)\n",
        "plt.scatter(iris['petallength(cm)'], iris['petalwidth(cm)'], c=cmap(iris.species),marker='o', s=50)\n",
        "plt.xlabel('petallength(cm)')\n",
        "plt.ylabel('petalwidth(cm)')\n",
        "plt.title('Petal (Actual)')\n",
        "plt.subplot(2, 2, 4)\n",
        "plt.scatter(iris['petallength(cm)'], iris['petalwidth(cm)'], c=cmap(iris.pred_species),marker='o', s=50)\n",
        "plt.xlabel('petallength(cm)')\n",
        "plt.ylabel('petalwidth(cm)')\n",
        "plt.title('Petal (Predicted)')\n",
        "plt.tight_layout()"
      ]
    },
    {
      "cell_type": "markdown",
      "metadata": {
        "id": "Y4LALYjrBtv4"
      },
      "source": [
        "3-51. Elbow法"
      ]
    },
    {
      "cell_type": "code",
      "execution_count": null,
      "metadata": {
        "colab": {
          "base_uri": "https://localhost:8080/",
          "height": 297
        },
        "id": "6pa2UMwdBtv4",
        "outputId": "f063251d-6ec5-419a-f402-bc962047ab02"
      },
      "outputs": [],
      "source": [
        "from scipy.spatial.distance import cdist, pdist\n",
        "from sklearn.cluster import KMeans\n",
        "K = range(1,10)\n",
        "KM = [KMeans(n_clusters=k).fit(X) for k in K]\n",
        "centroids = [k.cluster_centers_ for k in KM]\n",
        "D_k = [cdist(X, cent, 'euclidean') for cent in centroids]\n",
        "cIdx = [np.argmin(D,axis=1) for D in D_k]\n",
        "dist = [np.min(D,axis=1) for D in D_k]\n",
        "avgWithinSS = [sum(d)/X.shape[0] for d in dist]\n",
        "\n",
        "# 正方形の中の合計\n",
        "wcss = [sum(d**2) for d in dist]\n",
        "tss = sum(pdist(X)**2)/X.shape[0]\n",
        "bss = tss-wcss\n",
        "varExplained = bss/tss*100\n",
        "kIdx = 10-1\n",
        "\n",
        "### プロット ###\n",
        "kIdx = 2\n",
        "# elbowカーブ\n",
        "# プロットのサイズを設定\n",
        "plt.figure(figsize=(10,4))\n",
        "plt.subplot(1, 2, 1)\n",
        "plt.plot(K, avgWithinSS, 'b*-')\n",
        "plt.plot(K[kIdx], avgWithinSS[kIdx], marker='o', markersize=12,\n",
        "    markeredgewidth=2, markeredgecolor='r', markerfacecolor='None')\n",
        "plt.grid(True)\n",
        "plt.xlabel('Number of clusters')\n",
        "plt.ylabel('Average within-cluster sum of squares')\n",
        "plt.title('Elbow for KMeans clustering')\n",
        "plt.subplot(1, 2, 2)\n",
        "plt.plot(K, varExplained, 'b*-')\n",
        "plt.plot(K[kIdx], varExplained[kIdx], marker='o', markersize=12,\n",
        "    markeredgewidth=2, markeredgecolor='r', markerfacecolor='None')\n",
        "plt.grid(True)\n",
        "plt.xlabel('Number of clusters')\n",
        "plt.ylabel('Percentage of variance explained')\n",
        "plt.title('Elbow for KMeans clustering')\n",
        "plt.tight_layout()\n"
      ]
    },
    {
      "cell_type": "markdown",
      "metadata": {
        "id": "UqQ1tGwYBtv4"
      },
      "source": [
        "3-52.  シルエット分析"
      ]
    },
    {
      "cell_type": "code",
      "execution_count": null,
      "metadata": {
        "colab": {
          "base_uri": "https://localhost:8080/",
          "height": 295
        },
        "id": "tJ7HgQ9uBtv4",
        "outputId": "86e0679d-e573-4850-e566-feeae8ed37a7"
      },
      "outputs": [],
      "source": [
        "from sklearn.metrics import silhouette_samples, silhouette_score\n",
        "from matplotlib import cm\n",
        "score = []\n",
        "for n_clusters in range(2,10):\n",
        "    kmeans = KMeans(n_clusters=n_clusters)\n",
        "    kmeans.fit(X)\n",
        "    labels = kmeans.labels_\n",
        "    centroids = kmeans.cluster_centers_\n",
        "    score.append(silhouette_score(X, labels, metric='euclidean'))\n",
        "\n",
        "# プロットのサイズを設定\n",
        "plt.figure(figsize=(10,4))\n",
        "plt.subplot(1, 2, 1)\n",
        "plt.plot(score)\n",
        "plt.grid(True)\n",
        "plt.ylabel(\"Silouette Score\")\n",
        "plt.xlabel(\"k\")\n",
        "plt.title(\"Silouette for K-means\")\n",
        "\n",
        "# n_clustersの値とランダム生成器でクラスターを初期化する\n",
        "model = KMeans(n_clusters=3, init='k-means++', n_init=10, random_state=0)\n",
        "model.fit_predict(X)\n",
        "cluster_labels = np.unique(model.labels_)\n",
        "n_clusters = cluster_labels.shape[0]\n",
        "\n",
        "# 各サンプルのシルエット・スコアを計算する\n",
        "silhouette_vals = silhouette_samples(X, model.labels_)\n",
        "plt.subplot(1, 2, 2)\n",
        "\n",
        "# colormapのスペクトル値を取得\n",
        "cmap = cm.get_cmap(\"Spectral\")\n",
        "y_lower, y_upper = 0,0\n",
        "yticks = []\n",
        "for i, c in enumerate(cluster_labels):\n",
        "    c_silhouette_vals = silhouette_vals[cluster_labels]\n",
        "    c_silhouette_vals.sort()\n",
        "    y_upper += len(c_silhouette_vals)\n",
        "    color = cmap(float(i) / n_clusters)\n",
        "    plt.barh(range(y_lower, y_upper), c_silhouette_vals, facecolor=color, edgecolor=color, alpha=0.7)\n",
        "    yticks.append((y_lower + y_upper) / 2)\n",
        "    y_lower += len(c_silhouette_vals)\n",
        "    \n",
        "silhouette_avg = np.mean(silhouette_vals)\n",
        "plt.yticks(yticks, cluster_labels+1)\n",
        "\n",
        "# 縦軸はすべての値における\n",
        "plt.axvline(x=silhouette_avg, color=\"red\", linestyle=\"--\")\n",
        "plt.ylabel('Cluster')\n",
        "plt.xlabel('Silhouette coefficient')\n",
        "plt.title(\"Silouette for K-means\")\n",
        "plt.show()\n"
      ]
    },
    {
      "cell_type": "markdown",
      "metadata": {
        "id": "lyUaQyIuBtv5"
      },
      "source": [
        "3-53.  階層型クラスタリング"
      ]
    },
    {
      "cell_type": "code",
      "execution_count": null,
      "metadata": {
        "colab": {
          "base_uri": "https://localhost:8080/"
        },
        "id": "rfy4VnORBtv5",
        "outputId": "64101a53-be3b-462c-ac03-57eac0c83297"
      },
      "outputs": [],
      "source": [
        "from sklearn.cluster import AgglomerativeClustering\n",
        "# 凝集性クラスター\n",
        "model = AgglomerativeClustering(n_clusters=3)\n",
        "# リスト3-49でインポートした虹彩データセットにモデルを当てはめてみよう\n",
        "model.fit(X)\n",
        "print(model.labels_)\n",
        "iris['pred_species'] =  model.labels_\n",
        "print(\"Accuracy :\", metrics.accuracy_score(iris.species, iris.pred_species))\n",
        "print(\"Classification report :\", metrics.classification_report(iris.species, iris.pred_species))\n"
      ]
    },
    {
      "cell_type": "markdown",
      "metadata": {
        "id": "9WXtEbLnBtv5"
      },
      "source": [
        "3-54. 階層クラスタリング"
      ]
    },
    {
      "cell_type": "code",
      "execution_count": null,
      "metadata": {
        "colab": {
          "base_uri": "https://localhost:8080/",
          "height": 519
        },
        "id": "Qm6tA1y9Btv5",
        "outputId": "3d601306-c3a7-4f90-88f3-578860cdcccf"
      },
      "outputs": [],
      "source": [
        "from scipy.cluster.hierarchy import cophenet, dendrogram, linkage\n",
        "from scipy.spatial.distance import pdist\n",
        "# 連結行列の生成\n",
        "Z = linkage(X, 'ward')\n",
        "c, coph_dists = cophenet(Z, pdist(X))\n",
        "# 系統樹の計算\n",
        "plt.figure(figsize=(25, 10))\n",
        "plt.title('Agglomerative Hierarchical Clustering Dendrogram')\n",
        "plt.xlabel('sample index')\n",
        "plt.ylabel('distance')\n",
        "dendrogram(\n",
        "    Z,\n",
        "    leaf_rotation=90.,  # X軸のラベルを回転\n",
        "    leaf_font_size=8.,  # X軸のラベルのフォントサイズを変更\n",
        ")\n",
        "plt.tight_layout()\n"
      ]
    },
    {
      "cell_type": "markdown",
      "metadata": {
        "id": "wRnp-54XBtv5"
      },
      "source": [
        "3-55. 主成分分析"
      ]
    },
    {
      "cell_type": "code",
      "execution_count": null,
      "metadata": {
        "colab": {
          "base_uri": "https://localhost:8080/",
          "height": 540
        },
        "id": "qxOlY-hMBtv5",
        "outputId": "3f677049-673f-4747-ad78-54481168ba34"
      },
      "outputs": [],
      "source": [
        "from sklearn import datasets\n",
        "from sklearn.preprocessing import StandardScaler\n",
        "from sklearn.decomposition import PCA\n",
        "iris = datasets.load_iris()\n",
        "X = iris.data\n",
        "\n",
        "# データの標準化\n",
        "X_std = StandardScaler().fit_transform(X)\n",
        "\n",
        "# 共分散行列の作成\n",
        "cov_mat = np.cov(X_std.T)\n",
        "print('Covariance matrix \\n%s' %cov_mat)\n",
        "eig_vals, eig_vecs = np.linalg.eig(cov_mat)\n",
        "print('Eigenvectors \\n%s' %eig_vecs)\n",
        "print('\\nEigenvalues \\n%s' %eig_vals)\n",
        "\n",
        "# 固有値を降順\n",
        "eig_pairs = [(np.abs(eig_vals[i]), eig_vecs[:,i]) for i in range(len\n",
        "(eig_vals))]\n",
        "tot = sum(eig_vals)\n",
        "var_exp = [(i / tot)*100 for i in sorted(eig_vals, reverse=True)]\n",
        "cum_var_exp = np.cumsum(var_exp)\n",
        "print(\"Cummulative Variance Explained\", cum_var_exp)\n",
        "plt.figure(figsize=(6, 4))\n",
        "plt.bar(range(4), var_exp, alpha=0.5, align='center', label='Individual explained variance')\n",
        "plt.step(range(4), cum_var_exp, where='mid', label='Cumulative explained variance')\n",
        "plt.ylabel('Explained variance ratio')\n",
        "plt.xlabel('Principal components')\n",
        "plt.legend(loc='best')\n",
        "plt.tight_layout()\n",
        "plt.show()\n"
      ]
    },
    {
      "cell_type": "markdown",
      "metadata": {
        "id": "gXMwkzu2Btv5"
      },
      "source": [
        "3-56. PCAの可視化"
      ]
    },
    {
      "cell_type": "code",
      "execution_count": null,
      "metadata": {
        "colab": {
          "base_uri": "https://localhost:8080/",
          "height": 463
        },
        "id": "oRmnGRzyBtv6",
        "outputId": "9d5d0170-1b74-49c6-ad84-f90dad912e97"
      },
      "outputs": [],
      "source": [
        "# ソース: http://scikit-learn.org/stable/auto_examples/datasets/plot_iris_dataset.html#\n",
        "import matplotlib.pyplot as plt\n",
        "from mpl_toolkits.mplot3d import Axes3D\n",
        "from sklearn import datasets\n",
        "from sklearn.decomposition import PCA\n",
        "iris = datasets.load_iris()\n",
        "Y = iris.target\n",
        "\n",
        "# ディメンションの相互作用をより深く理解する\n",
        "# 最初の3つのPCA結果をプロット\n",
        "fig = plt.figure(1, figsize=(8, 6))\n",
        "ax = Axes3D(fig, elev=-150, azim=110)\n",
        "X_reduced = PCA(n_components=3).fit_transform(iris.data)\n",
        "ax.scatter(X_reduced[:, 0], X_reduced[:, 1], X_reduced[:, 2], c=Y, cmap=plt.cm.Paired)\n",
        "ax.set_title(\"First three PCA directions\")\n",
        "ax.set_xlabel(\"1st eigenvector\")\n",
        "ax.w_xaxis.set_ticklabels([])\n",
        "ax.set_ylabel(\"2nd eigenvector\")\n",
        "ax.w_yaxis.set_ticklabels([])\n",
        "ax.set_zlabel(\"3rd eigenvector\")\n",
        "ax.w_zaxis.set_ticklabels([])\n",
        "plt.show()\n"
      ]
    }
  ],
  "metadata": {
    "colab": {
      "name": "Chap3_code.ipynb",
      "provenance": []
    },
    "interpreter": {
      "hash": "f32249afd32d99e95f28ac6a48c360a6a1e4371687b828dd8d508d7eb90d6ec8"
    },
    "kernelspec": {
      "display_name": "Python 3.9.7 ('base')",
      "language": "python",
      "name": "python3"
    },
    "language_info": {
      "codemirror_mode": {
        "name": "ipython",
        "version": 3
      },
      "file_extension": ".py",
      "mimetype": "text/x-python",
      "name": "python",
      "nbconvert_exporter": "python",
      "pygments_lexer": "ipython3",
      "version": "3.9.7"
    }
  },
  "nbformat": 4,
  "nbformat_minor": 0
}
